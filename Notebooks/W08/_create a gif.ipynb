{
 "cells": [
  {
   "cell_type": "code",
   "execution_count": null,
   "metadata": {},
   "outputs": [],
   "source": [
    "import imageio\n",
    "\n",
    "\n",
    "for j in range(n):\n",
    "    image_ = ma_function(j)\n",
    "\n",
    "    imageio.imsave(self.path.joinpath(f'tmp/{j}.png'), image_, dpi=dpi)"
   ]
  },
  {
   "cell_type": "code",
   "execution_count": null,
   "metadata": {},
   "outputs": [],
   "source": [
    "# if verbose: print('making the GIF')\n",
    "gifname = 'toto.gif'\n",
    "\n",
    "with imageio.get_writer(gifname, mode='I', fps=fps) as writer:\n",
    "    for j in range(n):\n",
    "        writer.append_data(imageio.imread(self.path.joinpath(f'{j}.png')))"
   ]
  },
  {
   "cell_type": "code",
   "execution_count": 1,
   "metadata": {},
   "outputs": [],
   "source": [
    "from pygifsicle import optimize\n",
    "\n",
    "optimize(str(gifname))"
   ]
  },
  {
   "cell_type": "code",
   "execution_count": 1,
   "metadata": {},
   "outputs": [],
   "source": [
    "from IPython.display import Image\n",
    "return Image(gifname, width=2000)"
   ]
  }
 ],
 "metadata": {
  "kernelspec": {
   "display_name": "Python 3",
   "language": "python",
   "name": "python3"
  },
  "language_info": {
   "codemirror_mode": {
    "name": "ipython",
    "version": 3
   },
   "file_extension": ".py",
   "mimetype": "text/x-python",
   "name": "python",
   "nbconvert_exporter": "python",
   "pygments_lexer": "ipython3",
   "version": "3.7.6"
  }
 },
 "nbformat": 4,
 "nbformat_minor": 4
}
