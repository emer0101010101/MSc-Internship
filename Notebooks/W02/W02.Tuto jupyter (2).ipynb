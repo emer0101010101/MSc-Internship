{
 "cells": [
  {
   "cell_type": "markdown",
   "metadata": {},
   "source": [
    "* #### LIF neurons (CUBA)"
   ]
  },
  {
   "cell_type": "code",
   "execution_count": 1,
   "metadata": {},
   "outputs": [],
   "source": [
    "from brian2 import* \n",
    "%matplotlib inline\n"
   ]
  },
  {
   "cell_type": "code",
   "execution_count": 3,
   "metadata": {},
   "outputs": [
    {
     "data": {
      "image/png": "[encoded data removed]",
      "text/plain": [
       "<Figure size 432x288 with 1 Axes>"
      ]
     },
     "metadata": {
      "needs_background": "light"
     },
     "output_type": "display_data"
    }
   ],
   "source": [
    "Vt = -0.4*mV #threshold\n",
    "Vre =-0.7*mV #reset\n",
    "El = -0.4*mV # resting potential\n",
    "\n",
    "taum = 20*ms #membrane time constant\n",
    "taue = 5*ms  #excitatory synaptic time constant\n",
    "taui = 10*ms #inhibatory synaptic time constant\n",
    "\n",
    "we = (60*0.30/10)*mV\n",
    "wi = (-20*4.5/10)*mV \n",
    "\n",
    "eqs ='''\n",
    "        dv/dt  = (ge-gi-(v-El))/taum : volt\n",
    "        dge/dt = -ge/taue            : volt\n",
    "        dgi/dt = -gi/taui            : volt\n",
    "        '''\n",
    "\n",
    "G = NeuronGroup(250,eqs,threshold=\"v>Vt\", reset='v=Vre',refractory = 5*ms, method = 'linear')\n",
    "G.v = 'Vre + rand() * (Vt - Vre)'\n",
    "G.ge = 0*mV\n",
    "G.gi = 0*mV\n",
    "\n",
    "#connections/synapses\n",
    "\n",
    "Ce = Synapses(G, G, on_pre='ge += we')\n",
    "Ci = Synapses(G, G, on_pre='gi += wi')\n",
    "Ce.connect(\"i<200\", p = 0.03) \n",
    "Ci.connect(\"i>=200\", p= 0.03) \n",
    "\n",
    "\n",
    "M = SpikeMonitor(G)\n",
    "\n",
    "run(1*second)\n",
    "\n",
    "#plot\n",
    "\n",
    "plot(M.t/ms, M.i, '.k')\n",
    "xlabel('Time (ms)')\n",
    "ylabel('Neuron index')\n",
    "show()\n"
   ]
  },
  {
   "cell_type": "code",
   "execution_count": 5,
   "metadata": {},
   "outputs": [],
   "source": [
    "from brian2tools import plot_raster"
   ]
  },
  {
   "cell_type": "code",
   "execution_count": null,
   "metadata": {},
   "outputs": [],
   "source": [
    "plot_raster(M.i, M.t, time_unit=second, color='k')"
   ]
  },
  {
   "cell_type": "markdown",
   "metadata": {},
   "source": [
    "* #### Test MotionCloud"
   ]
  }
 ],
 "metadata": {
  "kernelspec": {
   "display_name": "Python 3",
   "language": "python",
   "name": "python3"
  },
  "language_info": {
   "codemirror_mode": {
    "name": "ipython",
    "version": 3
   },
   "file_extension": ".py",
   "mimetype": "text/x-python",
   "name": "python",
   "nbconvert_exporter": "python",
   "pygments_lexer": "ipython3",
   "version": "3.6.9"
  }
 },
 "nbformat": 4,
 "nbformat_minor": 2
}
