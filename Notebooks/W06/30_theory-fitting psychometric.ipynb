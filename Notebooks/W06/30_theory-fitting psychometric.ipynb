{
 "cells": [
  {
   "cell_type": "markdown",
   "metadata": {},
   "source": [
    "# \"Cross-validation\" des modèles"
   ]
  },
  {
   "cell_type": "code",
   "execution_count": 1,
   "metadata": {},
   "outputs": [],
   "source": [
    "import numpy as np\n",
    "import matplotlib.pyplot as plt"
   ]
  },
  {
   "cell_type": "code",
   "execution_count": 2,
   "metadata": {},
   "outputs": [],
   "source": [
    "#Hyper-parametres\n",
    "learning_rate = 0.04\n",
    "num_epochs = 400\n",
    "N = 200\n",
    "N_cv = 40\n",
    "seed = 42\n",
    "batch_size = N//4\n",
    "#batch_size = N//2\n",
    "N_test = 0\n",
    "N_test = 1000\n",
    "N_scan = 9\n",
    "bias = True\n",
    "\n",
    "\n",
    "p0 = 0.05 #lapse rate\n",
    "theta0 = 0\n",
    "wt = np.pi/20\n",
    "theta_std = np.pi/6\n",
    "\n"
   ]
  },
  {
   "cell_type": "markdown",
   "metadata": {},
   "source": [
    "## Creer des données synthetiques "
   ]
  },
  {
   "cell_type": "code",
   "execution_count": 3,
   "metadata": {},
   "outputs": [],
   "source": [
    "def get_data(\n",
    "            N = N,\n",
    "            p0 = p0,\n",
    "            theta0 = theta0,\n",
    "            wt = wt,\n",
    "            theta_std = theta_std,\n",
    "            seed=seed):\n",
    "    np.random.seed(42)\n",
    "    theta = np.random.randn(N)*theta_std\n",
    "    a = (theta-theta0)/wt\n",
    "    p = 1/(1+np.exp(-a))\n",
    "    \n",
    "    p = p0/2 + (1-p0) * p #add lapse rate\n",
    "    y = np.random.rand(N) < p #generate data\n",
    "    return theta, p, y"
   ]
  },
  {
   "cell_type": "code",
   "execution_count": 4,
   "metadata": {},
   "outputs": [],
   "source": [
    "import torch\n",
    "from torch.utils.data import TensorDataset, DataLoader\n",
    "torch.set_default_tensor_type('torch.DoubleTensor')\n",
    "criterion = torch.nn.BCELoss()\n",
    "\n",
    "class LogisticRegressionModel(torch.nn.Module):\n",
    "    def __init__(self, bias=True, logit0=-2): #-2 ?\n",
    "        super(LogisticRegressionModel, self).__init__()\n",
    "        self.linear = torch.nn.Linear(1, 1, bias=bias)    \n",
    "        self.logit0 = torch.nn.Parameter(logit0*torch.ones(1))\n",
    "\n",
    "    def forward(self, theta):\n",
    "        out = self.logit0.sigmoid()/2 + (1-self.logit0.sigmoid())*self.linear(theta).sigmoid()\n",
    "        return out\n",
    "        \n",
    "\n",
    "def fit_data(theta, y, \n",
    "                learning_rate =learning_rate,\n",
    "                num_epochs = num_epochs,\n",
    "                batch_size = batch_size,\n",
    "                verbose=False):\n",
    "\n",
    "    logistic_model = LogisticRegressionModel()\n",
    "\n",
    "    labels = torch.Tensor(y[:, None])\n",
    "    Theta = torch.Tensor(theta[:, None])\n",
    "\n",
    "    loader = DataLoader(TensorDataset(Theta, labels), batch_size=batch_size, shuffle=True)\n",
    "    optimizer = torch.optim.Adam(logistic_model.parameters(), lr=learning_rate/len(loader))\n",
    "    \n",
    "    for epoch in range(int(num_epochs)):\n",
    "        losses = []\n",
    "        for Theta_, labels_ in loader:\n",
    "            optimizer.zero_grad()\n",
    "            outputs = logistic_model(Theta_)\n",
    "            loss = criterion(outputs, labels_)\n",
    "            loss.backward()\n",
    "            optimizer.step()\n",
    "            losses.append(loss.item())\n",
    "        \n",
    "        if verbose and (epoch % (num_epochs//32) == 0) : \n",
    "            print(f\"Iteration: {epoch} - Loss: {np.mean(losses):.5f}\")\n",
    "\n",
    "    logistic_model.eval()\n",
    "    return logistic_model, np.mean(losses)"
   ]
  },
  {
   "cell_type": "code",
   "execution_count": 5,
   "metadata": {},
   "outputs": [
    {
     "data": {
      "text/plain": [
       "tensor([0.0474])"
      ]
     },
     "execution_count": 5,
     "metadata": {},
     "output_type": "execute_result"
    }
   ],
   "source": [
    "torch.sigmoid(torch.tensor([-3.]))"
   ]
  },
  {
   "cell_type": "code",
   "execution_count": 6,
   "metadata": {},
   "outputs": [
    {
     "name": "stdout",
     "output_type": "stream",
     "text": [
      "61.6 µs ± 5.81 µs per loop (mean ± std. dev. of 7 runs, 10000 loops each)\n"
     ]
    }
   ],
   "source": [
    "%%timeit\n",
    "theta, p, y = get_data()"
   ]
  },
  {
   "cell_type": "code",
   "execution_count": 7,
   "metadata": {},
   "outputs": [
    {
     "name": "stdout",
     "output_type": "stream",
     "text": [
      "Iteration: 0 - Loss: 0.65054\n",
      "Iteration: 12 - Loss: 0.57401\n",
      "Iteration: 24 - Loss: 0.52631\n",
      "Iteration: 36 - Loss: 0.49265\n",
      "Iteration: 48 - Loss: 0.46794\n",
      "Iteration: 60 - Loss: 0.44924\n",
      "Iteration: 72 - Loss: 0.43507\n",
      "Iteration: 84 - Loss: 0.42399\n",
      "Iteration: 96 - Loss: 0.41543\n",
      "Iteration: 108 - Loss: 0.40849\n",
      "Iteration: 120 - Loss: 0.40308\n",
      "Iteration: 132 - Loss: 0.39872\n",
      "Iteration: 144 - Loss: 0.39520\n",
      "Iteration: 156 - Loss: 0.39225\n",
      "Iteration: 168 - Loss: 0.38996\n",
      "Iteration: 180 - Loss: 0.38807\n",
      "Iteration: 192 - Loss: 0.38648\n",
      "Iteration: 204 - Loss: 0.38523\n",
      "Iteration: 216 - Loss: 0.38417\n",
      "Iteration: 228 - Loss: 0.38334\n",
      "Iteration: 240 - Loss: 0.38257\n",
      "Iteration: 252 - Loss: 0.38200\n",
      "Iteration: 264 - Loss: 0.38152\n",
      "Iteration: 276 - Loss: 0.38114\n",
      "Iteration: 288 - Loss: 0.38083\n",
      "Iteration: 300 - Loss: 0.38056\n",
      "Iteration: 312 - Loss: 0.38034\n",
      "Iteration: 324 - Loss: 0.38025\n",
      "Iteration: 336 - Loss: 0.38002\n",
      "Iteration: 348 - Loss: 0.37990\n",
      "Iteration: 360 - Loss: 0.37983\n",
      "Iteration: 372 - Loss: 0.37971\n",
      "Iteration: 384 - Loss: 0.37965\n",
      "Iteration: 396 - Loss: 0.37957\n"
     ]
    }
   ],
   "source": [
    "theta, p, y = get_data()\n",
    "logistic_model, loss = fit_data(theta, y,verbose=True) "
   ]
  },
  {
   "cell_type": "code",
   "execution_count": 8,
   "metadata": {},
   "outputs": [
    {
     "name": "stdout",
     "output_type": "stream",
     "text": [
      "bias 0.042573745578717175\n",
      "slope 5.689508907400686\n",
      "p0 0.004477626960253656\n"
     ]
    }
   ],
   "source": [
    "with torch.no_grad():\n",
    "    if bias: print('bias', logistic_model.linear.bias.item())\n",
    "    print('slope', logistic_model.linear.weight.item())    \n",
    "    print('p0', torch.sigmoid(logistic_model.logit0).item())\n"
   ]
  },
  {
   "cell_type": "code",
   "execution_count": 9,
   "metadata": {},
   "outputs": [
    {
     "name": "stdout",
     "output_type": "stream",
     "text": [
      "loss= 0.379603339398\n"
     ]
    },
    {
     "data": {
      "image/png": "[encoded data removed]",
      "text/plain": [
       "<matplotlib.figure.Figure at 0x7fe392f5b438>"
      ]
     },
     "metadata": {
      "needs_background": "light"
     },
     "output_type": "display_data"
    }
   ],
   "source": [
    "print('loss=', loss)\n",
    "plt.figure(figsize = (9,6)) \n",
    "plt.scatter(theta, p, s=4, color = 'r', label='proba cachées')\n",
    "plt.scatter(theta, y, s=1, alpha=.1, color = 'b', label='données')\n",
    "x_values = np.linspace(-1.5, 1.50, 100)[:, None]\n",
    "y_values = logistic_model(torch.Tensor(x_values)).detach().numpy()\n",
    "plt.plot(x_values, y_values, 'g', alpha=.7, lw=3, label='proba prédites')\n",
    "plt.xlabel(r'$\\theta$')\n",
    "plt.yticks([0.,1.],['Left', 'Right']);\n",
    "plt.legend();\n"
   ]
  },
  {
   "cell_type": "code",
   "execution_count": 10,
   "metadata": {},
   "outputs": [
    {
     "name": "stdout",
     "output_type": "stream",
     "text": [
      "2.91 s ± 102 ms per loop (mean ± std. dev. of 7 runs, 1 loop each)\n"
     ]
    }
   ],
   "source": [
    "%%timeit\n",
    "logistic_model, loss = fit_data(theta, y, verbose=False)"
   ]
  },
  {
   "cell_type": "markdown",
   "metadata": {},
   "source": [
    "## validation"
   ]
  },
  {
   "cell_type": "code",
   "execution_count": 11,
   "metadata": {},
   "outputs": [
    {
     "name": "stdout",
     "output_type": "stream",
     "text": [
      "loss= tensor(0.3795, grad_fn=<BinaryCrossEntropyBackward>)\n"
     ]
    },
    {
     "data": {
      "image/png": "[encoded data removed]",
      "text/plain": [
       "<matplotlib.figure.Figure at 0x7fe344354898>"
      ]
     },
     "metadata": {
      "needs_background": "light"
     },
     "output_type": "display_data"
    }
   ],
   "source": [
    "theta, p, y = get_data() # nouvelles données \n",
    "\n",
    "labels = torch.Tensor(y[:, None])\n",
    "Theta = torch.Tensor(theta[:, None])\n",
    "outputs = logistic_model(Theta)\n",
    "loss = criterion(outputs, labels)\n",
    "print('loss=', loss)\n",
    "plt.figure(figsize = (8,6)) \n",
    "plt.scatter(theta, p, s=4, color = 'r', label='proba cachées')\n",
    "plt.scatter(theta, y, s=1, alpha=.1, color = 'b', label='données')\n",
    "x_values = np.linspace(-1.5, 1.50, 100)[:, None]\n",
    "y_values = logistic_model(torch.Tensor(x_values)).detach().numpy()\n",
    "plt.plot(x_values, y_values, 'g', alpha=.7, lw=3, label='proba prédites')\n",
    "plt.xlabel(r'$\\theta$')\n",
    "plt.yticks([0.,1.],['Left', 'Right']);\n",
    "plt.legend();"
   ]
  },
  {
   "cell_type": "markdown",
   "metadata": {},
   "source": [
    "## influence du nombre de trials"
   ]
  },
  {
   "cell_type": "code",
   "execution_count": 12,
   "metadata": {},
   "outputs": [
    {
     "name": "stdout",
     "output_type": "stream",
     "text": [
      "N: 10, Loss: 0.47829, loss_P: 0.47256, loss_P0: 0.38791\n",
      "N: 17, Loss: 0.44220, loss_P: 0.43757, loss_P0: 0.38791\n",
      "N: 31, Loss: 0.38900, loss_P: 0.39525, loss_P0: 0.38791\n",
      "N: 56, Loss: 0.38369, loss_P: 0.39259, loss_P0: 0.38791\n",
      "N: 100, Loss: 0.38602, loss_P: 0.39238, loss_P0: 0.38791\n",
      "N: 177, Loss: 0.38914, loss_P: 0.39295, loss_P0: 0.38791\n",
      "N: 316, Loss: 0.38627, loss_P: 0.39015, loss_P0: 0.38791\n",
      "N: 562, Loss: 0.38235, loss_P: 0.38866, loss_P0: 0.38791\n",
      "N: 1000, Loss: 0.38265, loss_P: 0.39058, loss_P0: 0.38791\n"
     ]
    }
   ],
   "source": [
    "Ns = np.logspace(1, 3, N_scan, base=10)\n",
    "\n",
    "Ns_, losses, loss_Ps, loss_P0s = [], [], [], []\n",
    "\n",
    "for N_ in Ns:\n",
    "    for i_CV in range(N_cv):\n",
    "        theta, p, y = get_data(N=int(N_), seed=seed+i_CV)\n",
    "        logistic_model, loss = fit_data(theta, y, verbose=False)\n",
    "        \n",
    "        if N_test>0: theta, p, y = get_data(N=N_test) # nouvelles données \n",
    "        labels = torch.Tensor(y[:, None])\n",
    "        Theta = torch.Tensor(theta[:, None])\n",
    "        P = torch.Tensor(p[:, None])\n",
    "        \n",
    "        outputs = logistic_model(Theta)\n",
    "        loss = criterion(outputs, labels).item()\n",
    "    \n",
    "        loss_P = criterion(outputs, P).item() \n",
    "        loss_P0 = criterion(P, P).item()\n",
    "        \n",
    "        if i_CV==0: print(f\"N: {int(N_)}, Loss: {loss:.5f}, loss_P: {loss_P:.5f}, loss_P0: {loss_P0:.5f}\")\n",
    "        loss_P0s.append(loss_P0)\n",
    "        Ns_.append(N_)\n",
    "        loss_Ps.append(loss_P)\n",
    "        losses.append(loss)\n",
    "    "
   ]
  },
  {
   "cell_type": "code",
   "execution_count": 13,
   "metadata": {},
   "outputs": [
    {
     "data": {
      "image/png": "[encoded data removed]",
      "text/plain": [
       "<matplotlib.figure.Figure at 0x7fe344269710>"
      ]
     },
     "metadata": {
      "needs_background": "light"
     },
     "output_type": "display_data"
    }
   ],
   "source": [
    "#plot\n",
    "\n",
    "fig, ax = plt.subplots(figsize = (15, 8)) \n",
    "ax.scatter(Ns_, losses, alpha=3/N_cv, label='loss')\n",
    "ax.scatter(Ns_, loss_Ps, alpha=3/N_cv, label='loss_P')\n",
    "ax.plot(Ns_, loss_P0s, label='loss_P0')\n",
    "\n",
    "ax.set_xlabel(' # trials')\n",
    "ax.set_ylabel(' Loss ')\n",
    "ax.set_xscale('log')"
   ]
  },
  {
   "cell_type": "markdown",
   "metadata": {},
   "source": [
    "## influence du nombre du learning rate\n"
   ]
  },
  {
   "cell_type": "code",
   "execution_count": 14,
   "metadata": {},
   "outputs": [
    {
     "name": "stdout",
     "output_type": "stream",
     "text": [
      "learning_rate: 0.00400, Loss: 0.57576, loss_P: 0.57727, loss_P0: 0.38791\n",
      "learning_rate: 0.00711, Loss: 0.42785, loss_P: 0.43149, loss_P0: 0.38791\n",
      "learning_rate: 0.01265, Loss: 0.39463, loss_P: 0.39952, loss_P0: 0.38791\n",
      "learning_rate: 0.02249, Loss: 0.39154, loss_P: 0.39677, loss_P0: 0.38791\n",
      "learning_rate: 0.04000, Loss: 0.38466, loss_P: 0.39074, loss_P0: 0.38791\n",
      "learning_rate: 0.07113, Loss: 0.38394, loss_P: 0.38956, loss_P0: 0.38791\n",
      "learning_rate: 0.12649, Loss: 0.38298, loss_P: 0.38886, loss_P0: 0.38791\n",
      "learning_rate: 0.22494, Loss: 0.38334, loss_P: 0.38982, loss_P0: 0.38791\n",
      "learning_rate: 0.40000, Loss: 0.38383, loss_P: 0.39015, loss_P0: 0.38791\n"
     ]
    }
   ],
   "source": [
    "learning_rates = learning_rate * np.logspace(-1, 1, N_scan, base=10)\n",
    "learning_rates_, losses, loss_Ps, loss_P0s = [], [], [], []\n",
    "for learning_rate_ in learning_rates:\n",
    "    for i_CV in range(N_cv):\n",
    "        theta, p, y = get_data(seed=seed+i_CV)\n",
    "        logistic_model, loss = fit_data(theta, y, learning_rate=learning_rate_, verbose=False)\n",
    "\n",
    "        if N_test>0: theta, p, y = get_data(N=N_test) # nouvelles données \n",
    "        labels = torch.Tensor(y[:, None])\n",
    "        Theta = torch.Tensor(theta[:, None])\n",
    "        outputs = logistic_model(Theta)\n",
    "\n",
    "        loss = criterion(outputs, labels).item()\n",
    "        loss_P = criterion(outputs, torch.Tensor(p[:, None])).item()\n",
    "        loss_P0 = criterion(torch.Tensor(p[:, None]), torch.Tensor(p[:, None])).item()\n",
    "        if i_CV==0: \n",
    "            print(f\"learning_rate: {learning_rate_:.5f}, Loss: {loss:.5f}, loss_P: {loss_P:.5f}, loss_P0: {loss_P0:.5f}\")\n",
    "        learning_rates_.append(learning_rate_)\n",
    "        loss_P0s.append(loss_P0)\n",
    "        loss_Ps.append(loss_P)\n",
    "        losses.append(loss)"
   ]
  },
  {
   "cell_type": "code",
   "execution_count": 15,
   "metadata": {},
   "outputs": [
    {
     "data": {
      "image/png": "[encoded data removed]",
      "text/plain": [
       "<matplotlib.figure.Figure at 0x7fe34421c3c8>"
      ]
     },
     "metadata": {
      "needs_background": "light"
     },
     "output_type": "display_data"
    }
   ],
   "source": [
    "#influence du learning rate sur loss\n",
    "\n",
    "fig, ax = plt.subplots(figsize = (15, 8)) \n",
    "ax.scatter(learning_rates_, losses, alpha=3/N_cv, label='loss')\n",
    "ax.scatter(learning_rates_, loss_Ps, alpha=3/N_cv, label='loss_P')\n",
    "ax.plot(learning_rates_, loss_P0s, label='loss_P0')\n",
    "ax.set_xlim(np.min(learning_rates_), np.max(learning_rates_))\n",
    "\n",
    "ax.set_xlabel('learning_rate')\n",
    "ax.set_ylabel(' Loss ')\n",
    "ax.set_xscale('log')\n",
    "ax.legend(loc='best');"
   ]
  },
  {
   "cell_type": "markdown",
   "metadata": {},
   "source": [
    "## influence du nombre d'epochs"
   ]
  },
  {
   "cell_type": "code",
   "execution_count": 16,
   "metadata": {},
   "outputs": [
    {
     "name": "stdout",
     "output_type": "stream",
     "text": [
      "num_epochs: 40, Loss: 0.46346, loss_P: 0.46636, loss_P0: 0.38791\n",
      "num_epochs: 71, Loss: 0.44446, loss_P: 0.44771, loss_P0: 0.38791\n",
      "num_epochs: 126, Loss: 0.41614, loss_P: 0.42016, loss_P0: 0.38791\n",
      "num_epochs: 224, Loss: 0.38585, loss_P: 0.39175, loss_P0: 0.38791\n",
      "num_epochs: 400, Loss: 0.38494, loss_P: 0.39124, loss_P0: 0.38791\n",
      "num_epochs: 711, Loss: 0.38307, loss_P: 0.38853, loss_P0: 0.38791\n",
      "num_epochs: 1264, Loss: 0.38352, loss_P: 0.38964, loss_P0: 0.38791\n",
      "num_epochs: 2249, Loss: 0.38371, loss_P: 0.39001, loss_P0: 0.38791\n",
      "num_epochs: 4000, Loss: 0.38375, loss_P: 0.39003, loss_P0: 0.38791\n"
     ]
    }
   ],
   "source": [
    "num_epochss = num_epochs * np.logspace(-1, 1, N_scan, base=10)\n",
    "num_epochss_, losses, loss_Ps, loss_P0s = [], [], [], []\n",
    "for num_epochs_ in num_epochss:\n",
    "    for i_CV in range(N_cv):\n",
    "        theta, p, y = get_data(seed=seed+i_CV)\n",
    "        logistic_model, loss = fit_data(theta, y, num_epochs=int(num_epochs_), verbose=False)\n",
    "        \n",
    "        if N_test>0: theta, p, y = get_data(N=N_test) # nouvelles données \n",
    "        labels = torch.Tensor(y[:, None])\n",
    "        Theta = torch.Tensor(theta[:, None])\n",
    "        outputs = logistic_model(Theta)\n",
    "\n",
    "        loss = criterion(outputs, labels).item()\n",
    "        loss_P = criterion(outputs, torch.Tensor(p[:, None])).item()\n",
    "        loss_P0 = criterion(torch.Tensor(p[:, None]), torch.Tensor(p[:, None])).item()\n",
    "        if i_CV==0: \n",
    "            print(f\"num_epochs: {int(num_epochs_)}, Loss: {loss:.5f}, loss_P: {loss_P:.5f}, loss_P0: {loss_P0:.5f}\")\n",
    "        num_epochss_.append(num_epochs_)\n",
    "        loss_P0s.append(loss_P0)\n",
    "        loss_Ps.append(loss_P)\n",
    "        losses.append(loss)"
   ]
  },
  {
   "cell_type": "code",
   "execution_count": 17,
   "metadata": {},
   "outputs": [
    {
     "data": {
      "image/png": "[encoded data removed]",
      "text/plain": [
       "<matplotlib.figure.Figure at 0x7fe3441a32b0>"
      ]
     },
     "metadata": {
      "needs_background": "light"
     },
     "output_type": "display_data"
    }
   ],
   "source": [
    "# influence du nbr d'epochs sur loss \n",
    "fig, ax = plt.subplots(figsize = (15, 8)) \n",
    "ax.scatter(num_epochss_, losses, alpha=3/N_cv, label='loss')\n",
    "ax.scatter(num_epochss_, loss_Ps, alpha=3/N_cv, label='loss_P')\n",
    "ax.plot(num_epochss_, loss_P0s, label='loss_P0')\n",
    "\n",
    "ax.set_xlabel(' # epochs')\n",
    "ax.set_ylabel(' Loss ')\n",
    "ax.set_xscale('log')\n",
    "ax.legend(loc='best');"
   ]
  },
  {
   "cell_type": "markdown",
   "metadata": {},
   "source": [
    "## influence de la taille du minibatch"
   ]
  },
  {
   "cell_type": "code",
   "execution_count": 18,
   "metadata": {},
   "outputs": [
    {
     "name": "stdout",
     "output_type": "stream",
     "text": [
      "batch_size: 25, Loss: 0.38455, loss_P: 0.39050, loss_P0: 0.38791\n",
      "batch_size: 32, Loss: 0.38417, loss_P: 0.39020, loss_P0: 0.38791\n",
      "batch_size: 42, Loss: 0.38512, loss_P: 0.39131, loss_P0: 0.38791\n",
      "batch_size: 54, Loss: 0.38507, loss_P: 0.39135, loss_P0: 0.38791\n",
      "batch_size: 70, Loss: 0.38473, loss_P: 0.39094, loss_P0: 0.38791\n",
      "batch_size: 91, Loss: 0.38457, loss_P: 0.39097, loss_P0: 0.38791\n",
      "batch_size: 118, Loss: 0.38497, loss_P: 0.39119, loss_P0: 0.38791\n",
      "batch_size: 154, Loss: 0.38472, loss_P: 0.39090, loss_P0: 0.38791\n",
      "batch_size: 200, Loss: 0.38495, loss_P: 0.39133, loss_P0: 0.38791\n"
     ]
    }
   ],
   "source": [
    "batch_sizes = N * np.logspace(-3, 0, N_scan, base=2)\n",
    "batch_sizes_, losses, loss_Ps, loss_P0s = [], [], [], []\n",
    "for batch_size_ in batch_sizes:\n",
    "    for i_CV in range(N_cv):\n",
    "        theta, p, y = get_data(seed=seed+i_CV)\n",
    "        logistic_model, loss = fit_data(theta, y, batch_size=int(batch_size_), verbose=False)\n",
    "        \n",
    "        if N_test>0: theta, p, y = get_data(N=N_test) # nouvelles données \n",
    "        labels = torch.Tensor(y[:, None])\n",
    "        Theta = torch.Tensor(theta[:, None])\n",
    "        outputs = logistic_model(Theta)\n",
    "\n",
    "        loss = criterion(outputs, labels).item()\n",
    "        loss_P = criterion(outputs, torch.Tensor(p[:, None])).item()\n",
    "        loss_P0 = criterion(torch.Tensor(p[:, None]), torch.Tensor(p[:, None])).item()\n",
    "        if i_CV==0: \n",
    "            print(f\"batch_size: {int(batch_size_)}, Loss: {loss:.5f}, loss_P: {loss_P:.5f}, loss_P0: {loss_P0:.5f}\")\n",
    "        batch_sizes_.append(batch_size_)\n",
    "        loss_P0s.append(loss_P0)\n",
    "        loss_Ps.append(loss_P)\n",
    "        losses.append(loss)"
   ]
  },
  {
   "cell_type": "code",
   "execution_count": 19,
   "metadata": {},
   "outputs": [
    {
     "data": {
      "image/png": "[encoded data removed]",
      "text/plain": [
       "<matplotlib.figure.Figure at 0x7fe392f590f0>"
      ]
     },
     "metadata": {
      "needs_background": "light"
     },
     "output_type": "display_data"
    }
   ],
   "source": [
    "# influence de la taille du minibatch sur loss \n",
    "\n",
    "fig, ax = plt.subplots(figsize = (15, 8)) \n",
    "ax.scatter(batch_sizes_, losses, alpha=3/N_cv, label='loss')\n",
    "ax.scatter(batch_sizes_, loss_Ps, alpha=3/N_cv, label='loss_P')\n",
    "ax.plot(batch_sizes_, loss_P0s, label='loss_P0')\n",
    "\n",
    "ax.set_xlabel(' batch_size')\n",
    "ax.set_ylabel(' Loss ')\n",
    "ax.set_xscale('log')\n",
    "ax.legend(loc='best');"
   ]
  },
  {
   "cell_type": "markdown",
   "metadata": {},
   "source": [
    "## Comparaison données générées/données prédites"
   ]
  },
  {
   "cell_type": "markdown",
   "metadata": {},
   "source": [
    "### Tentative I"
   ]
  },
  {
   "cell_type": "code",
   "execution_count": 20,
   "metadata": {},
   "outputs": [
    {
     "name": "stdout",
     "output_type": "stream",
     "text": [
      "p0 :  0.02598\n",
      "p0 :  0.01806\n",
      "p0 :  0.01135\n",
      "p0 :  0.01463\n",
      "p0 :  0.02653\n",
      "p0 :  0.01335\n",
      "p0 :  0.01145\n",
      "p0 :  0.01181\n",
      "p0 :  0.02276\n",
      "p0 :  0.02353\n",
      "p0 :  0.01385\n",
      "p0 :  0.02506\n",
      "p0 :  0.01081\n",
      "p0 :  0.01695\n",
      "p0 :  0.01097\n",
      "p0 :  0.01058\n",
      "p0 :  0.02234\n",
      "p0 :  0.02453\n",
      "p0 :  0.01365\n",
      "p0 :  0.02625\n",
      "p0 :  0.02511\n",
      "p0 :  0.00903\n",
      "p0 :  0.01450\n",
      "p0 :  0.01109\n",
      "p0 :  0.01227\n",
      "p0 :  0.02366\n",
      "p0 :  0.01703\n",
      "p0 :  0.01194\n",
      "p0 :  0.02104\n",
      "p0 :  0.01139\n",
      "p0 :  0.01068\n",
      "p0 :  0.01358\n",
      "p0 :  0.01245\n",
      "p0 :  0.01150\n",
      "p0 :  0.01755\n",
      "p0 :  0.01969\n",
      "p0 :  0.02428\n",
      "p0 :  0.01520\n",
      "p0 :  0.01113\n",
      "p0 :  0.01256\n",
      "p0 :  0.02283\n",
      "p0 :  0.01137\n",
      "p0 :  0.01207\n",
      "p0 :  0.01621\n",
      "p0 :  0.02248\n",
      "p0 :  0.01202\n",
      "p0 :  0.00978\n",
      "p0 :  0.02451\n",
      "p0 :  0.01735\n",
      "p0 :  0.01355\n"
     ]
    }
   ],
   "source": [
    "# p0 prediction/generate I\n",
    "\n",
    "p0s = np.linspace(0,1,50)\n",
    "p0_s = []\n",
    "\n",
    "\n",
    "for p0_ in p0s:\n",
    "    \n",
    "    theta, p, y = get_data(N=int(N_), seed=seed+i_CV)\n",
    "    logistic_model, loss = fit_data(theta, y, verbose=False)\n",
    "\n",
    "    if N_test>0: theta, p, y = get_data(N=N_test) # nouvelles données \n",
    "    p0_pred =  torch.sigmoid(logistic_model.logit0).item()     \n",
    "        \n",
    "    p0_s.append( p0_pred)\n",
    "    print(f\"p0 : {p0_pred: .5f}\")\n",
    "\n"
   ]
  },
  {
   "cell_type": "code",
   "execution_count": 21,
   "metadata": {},
   "outputs": [
    {
     "data": {
      "text/plain": [
       "Text(0,0.5,'p0 prédit')"
      ]
     },
     "execution_count": 21,
     "metadata": {},
     "output_type": "execute_result"
    },
    {
     "data": {
      "image/png": "[encoded data removed]",
      "text/plain": [
       "<matplotlib.figure.Figure at 0x7fe3440cef98>"
      ]
     },
     "metadata": {
      "needs_background": "light"
     },
     "output_type": "display_data"
    }
   ],
   "source": [
    "plt.figure(figsize = (8,8)) \n",
    "plt.scatter(p0s, p0_s)\n",
    "plt.xlabel('p0 réel')\n",
    "plt.ylabel('p0 prédit')\n"
   ]
  },
  {
   "cell_type": "code",
   "execution_count": 22,
   "metadata": {},
   "outputs": [
    {
     "name": "stdout",
     "output_type": "stream",
     "text": [
      " theta0: -0.12363\n",
      " theta0: -0.13981\n",
      " theta0: -0.11440\n",
      " theta0: -0.11414\n",
      " theta0: -0.10956\n",
      " theta0: -0.11797\n",
      " theta0: -0.12728\n",
      " theta0: -0.13774\n",
      " theta0: -0.12052\n",
      " theta0: -0.13059\n",
      " theta0: -0.11950\n",
      " theta0: -0.11841\n",
      " theta0: -0.11719\n",
      " theta0: -0.11817\n",
      " theta0: -0.12069\n",
      " theta0: -0.11751\n",
      " theta0: -0.12960\n",
      " theta0: -0.11885\n",
      " theta0: -0.11416\n",
      " theta0: -0.12287\n",
      " theta0: -0.14162\n",
      " theta0: -0.11908\n",
      " theta0: -0.12925\n",
      " theta0: -0.11340\n",
      " theta0: -0.13013\n",
      " theta0: -0.11879\n",
      " theta0: -0.12534\n",
      " theta0: -0.13907\n",
      " theta0: -0.11701\n",
      " theta0: -0.12007\n",
      " theta0: -0.11888\n",
      " theta0: -0.11938\n",
      " theta0: -0.11700\n",
      " theta0: -0.12164\n",
      " theta0: -0.12519\n",
      " theta0: -0.12019\n",
      " theta0: -0.13572\n",
      " theta0: -0.11554\n",
      " theta0: -0.12079\n",
      " theta0: -0.11699\n",
      " theta0: -0.12332\n",
      " theta0: -0.11572\n",
      " theta0: -0.12251\n",
      " theta0: -0.13250\n",
      " theta0: -0.11537\n",
      " theta0: -0.12098\n",
      " theta0: -0.12024\n",
      " theta0: -0.12406\n",
      " theta0: -0.11943\n",
      " theta0: -0.13852\n"
     ]
    }
   ],
   "source": [
    "#theta0 prediction/generate \n",
    "\n",
    "theta0s = np.random.randn(50)\n",
    "theta0_s = []\n",
    "\n",
    "for theta0_ in theta0s:\n",
    "    \n",
    "    theta, p, y = get_data(N=int(N_), seed=seed+i_CV)\n",
    "    logistic_model, loss = fit_data(theta, y, verbose=False)\n",
    "\n",
    "    if N_test>0: theta, p, y = get_data(N=N_test) # nouvelles données \n",
    "        \n",
    "    theta0_pred = logistic_model.linear.bias.item()\n",
    "    theta0_s.append(theta0_pred)\n",
    "        \n",
    "    print(f\" theta0: {theta0_pred:.5f}\")\n",
    "    "
   ]
  },
  {
   "cell_type": "code",
   "execution_count": 23,
   "metadata": {},
   "outputs": [
    {
     "data": {
      "text/plain": [
       "Text(0,0.5,'theta prédit')"
      ]
     },
     "execution_count": 23,
     "metadata": {},
     "output_type": "execute_result"
    },
    {
     "data": {
      "image/png": "[encoded data removed]",
      "text/plain": [
       "<matplotlib.figure.Figure at 0x7fe3b02f2390>"
      ]
     },
     "metadata": {
      "needs_background": "light"
     },
     "output_type": "display_data"
    }
   ],
   "source": [
    "plt.figure(figsize = (8,8)) \n",
    "plt.scatter(theta0s, theta0_s)\n",
    "plt.xlabel('theta réel')\n",
    "plt.ylabel('theta prédit')\n"
   ]
  },
  {
   "cell_type": "code",
   "execution_count": 24,
   "metadata": {},
   "outputs": [
    {
     "name": "stdout",
     "output_type": "stream",
     "text": [
      " wt:5.63571\n",
      " wt:5.67672\n",
      " wt:5.53632\n",
      " wt:5.54778\n",
      " wt:5.69041\n",
      " wt:5.65673\n",
      " wt:5.58743\n",
      " wt:5.73782\n",
      " wt:5.63235\n",
      " wt:5.88435\n",
      " wt:5.53728\n",
      " wt:5.83700\n",
      " wt:5.57004\n",
      " wt:5.66929\n",
      " wt:5.81589\n",
      " wt:5.60400\n",
      " wt:5.56057\n",
      " wt:5.54140\n",
      " wt:5.66406\n",
      " wt:5.59732\n",
      " wt:5.68047\n",
      " wt:5.84586\n",
      " wt:5.57682\n",
      " wt:5.58792\n",
      " wt:5.56583\n",
      " wt:5.64032\n",
      " wt:5.66789\n",
      " wt:5.58610\n",
      " wt:5.80458\n",
      " wt:5.62010\n",
      " wt:5.86206\n",
      " wt:5.53423\n",
      " wt:5.53365\n",
      " wt:5.67268\n",
      " wt:5.54562\n",
      " wt:5.56281\n",
      " wt:5.67925\n",
      " wt:5.60314\n",
      " wt:5.62433\n",
      " wt:5.55121\n",
      " wt:5.82007\n",
      " wt:5.58673\n",
      " wt:5.55373\n",
      " wt:5.87529\n",
      " wt:5.53134\n",
      " wt:5.82329\n",
      " wt:5.63239\n",
      " wt:5.58393\n",
      " wt:5.82469\n",
      " wt:5.53748\n"
     ]
    }
   ],
   "source": [
    "#wt prediction/generate \n",
    "\n",
    "wts = np.logspace(-1, 0.1, 50, base=10)\n",
    "wt_s = []\n",
    "\n",
    "for wt_ in wts:\n",
    "    \n",
    "    theta, p, y = get_data(N=int(N_), seed=seed+i_CV)\n",
    "    logistic_model, loss = fit_data(theta, y, verbose=False)\n",
    "        \n",
    "    if N_test>0: theta, p, y = get_data(N=N_test) # nouvelles données \n",
    "        \n",
    "    wt_pred = logistic_model.linear.weight.item()\n",
    "        \n",
    "    wt_s.append(wt_pred)\n",
    "    print(f\" wt:{wt_pred:.5f}\")    "
   ]
  },
  {
   "cell_type": "code",
   "execution_count": 25,
   "metadata": {},
   "outputs": [
    {
     "data": {
      "text/plain": [
       "Text(0,0.5,'pente prédite')"
      ]
     },
     "execution_count": 25,
     "metadata": {},
     "output_type": "execute_result"
    },
    {
     "data": {
      "image/png": "[encoded data removed]",
      "text/plain": [
       "<matplotlib.figure.Figure at 0x7fe3441e3160>"
      ]
     },
     "metadata": {
      "needs_background": "light"
     },
     "output_type": "display_data"
    }
   ],
   "source": [
    "plt.figure(figsize = (8,8)) \n",
    "plt.scatter(wts, wt_s)\n",
    "plt.xlabel('pente réelle')\n",
    "plt.ylabel('pente prédite')\n"
   ]
  },
  {
   "cell_type": "markdown",
   "metadata": {},
   "source": [
    "### Tentative II"
   ]
  },
  {
   "cell_type": "code",
   "execution_count": 26,
   "metadata": {},
   "outputs": [
    {
     "name": "stdout",
     "output_type": "stream",
     "text": [
      "p0 :  0.02690\n",
      "p0 :  0.01716\n",
      "p0 :  0.02081\n",
      "p0 :  0.01186\n",
      "p0 :  0.01419\n",
      "p0 :  0.01149\n",
      "p0 :  0.01817\n",
      "p0 :  0.01183\n",
      "p0 :  0.01349\n",
      "p0 :  0.01833\n",
      "p0 :  0.01517\n",
      "p0 :  0.01133\n",
      "p0 :  0.02017\n",
      "p0 :  0.01240\n",
      "p0 :  0.01005\n",
      "p0 :  0.01056\n",
      "p0 :  0.01204\n",
      "p0 :  0.01816\n",
      "p0 :  0.01922\n",
      "p0 :  0.00995\n",
      "p0 :  0.01399\n",
      "p0 :  0.02410\n",
      "p0 :  0.01536\n",
      "p0 :  0.01218\n",
      "p0 :  0.01793\n",
      "p0 :  0.01208\n",
      "p0 :  0.02212\n",
      "p0 :  0.01637\n",
      "p0 :  0.01455\n",
      "p0 :  0.00924\n",
      "p0 :  0.01217\n",
      "p0 :  0.01470\n",
      "p0 :  0.01066\n",
      "p0 :  0.02151\n",
      "p0 :  0.00963\n",
      "p0 :  0.01305\n",
      "p0 :  0.02071\n",
      "p0 :  0.01388\n",
      "p0 :  0.02492\n",
      "p0 :  0.01691\n",
      "p0 :  0.01123\n",
      "p0 :  0.01173\n",
      "p0 :  0.01874\n",
      "p0 :  0.02330\n",
      "p0 :  0.01165\n",
      "p0 :  0.01197\n",
      "p0 :  0.01053\n",
      "p0 :  0.01048\n",
      "p0 :  0.01404\n",
      "p0 :  0.02073\n"
     ]
    },
    {
     "data": {
      "text/plain": [
       "Text(0,0.5,'p0 prédit')"
      ]
     },
     "execution_count": 26,
     "metadata": {},
     "output_type": "execute_result"
    },
    {
     "data": {
      "image/png": "[encoded data removed]",
      "text/plain": [
       "<matplotlib.figure.Figure at 0x7fe344135f60>"
      ]
     },
     "metadata": {
      "needs_background": "light"
     },
     "output_type": "display_data"
    }
   ],
   "source": [
    "# p0 prediction/generate I\n",
    "\n",
    "p0s = np.linspace(0,0.03,50)\n",
    "p0_s = []\n",
    "\n",
    "\n",
    "for p0_ in p0s:\n",
    "    \n",
    "    theta, p, y = get_data(N=int(N_), seed=seed+i_CV)\n",
    "    logistic_model, loss = fit_data(theta, y, verbose=False)\n",
    "\n",
    "    if N_test>0: theta, p, y = get_data(N=N_test) # nouvelles données \n",
    "    p0_pred =  torch.sigmoid(logistic_model.logit0).item()     \n",
    "        \n",
    "    p0_s.append( p0_pred)\n",
    "    print(f\"p0 : {p0_pred: .5f}\")\n",
    "\n",
    "plt.figure(figsize = (8,8)) \n",
    "plt.scatter(p0s, p0_s)\n",
    "plt.xlabel('p0 réel')\n",
    "plt.ylabel('p0 prédit')\n"
   ]
  },
  {
   "cell_type": "code",
   "execution_count": 27,
   "metadata": {},
   "outputs": [
    {
     "name": "stdout",
     "output_type": "stream",
     "text": [
      " theta0: -0.11526\n",
      " theta0: -0.11569\n",
      " theta0: -0.14341\n",
      " theta0: -0.13681\n",
      " theta0: -0.12355\n",
      " theta0: -0.14320\n",
      " theta0: -0.12391\n",
      " theta0: -0.12069\n",
      " theta0: -0.12230\n",
      " theta0: -0.12670\n",
      " theta0: -0.13187\n",
      " theta0: -0.11910\n",
      " theta0: -0.13269\n",
      " theta0: -0.11846\n",
      " theta0: -0.12697\n",
      " theta0: -0.12059\n",
      " theta0: -0.12881\n",
      " theta0: -0.13864\n",
      " theta0: -0.12854\n",
      " theta0: -0.12502\n",
      " theta0: -0.11814\n",
      " theta0: -0.12562\n",
      " theta0: -0.13311\n",
      " theta0: -0.12344\n",
      " theta0: -0.12822\n",
      " theta0: -0.13030\n",
      " theta0: -0.11435\n",
      " theta0: -0.11397\n",
      " theta0: -0.13381\n",
      " theta0: -0.14200\n",
      " theta0: -0.12753\n",
      " theta0: -0.11293\n",
      " theta0: -0.13390\n",
      " theta0: -0.14081\n",
      " theta0: -0.11971\n",
      " theta0: -0.11971\n",
      " theta0: -0.11983\n",
      " theta0: -0.11755\n",
      " theta0: -0.12431\n",
      " theta0: -0.13827\n",
      " theta0: -0.11915\n",
      " theta0: -0.12206\n",
      " theta0: -0.12854\n",
      " theta0: -0.12530\n",
      " theta0: -0.13735\n",
      " theta0: -0.10845\n",
      " theta0: -0.12083\n",
      " theta0: -0.12254\n",
      " theta0: -0.12123\n",
      " theta0: -0.12075\n"
     ]
    },
    {
     "data": {
      "text/plain": [
       "Text(0,0.5,'theta prédit')"
      ]
     },
     "execution_count": 27,
     "metadata": {},
     "output_type": "execute_result"
    },
    {
     "data": {
      "image/png": "[encoded data removed]",
      "text/plain": [
       "<matplotlib.figure.Figure at 0x7fe3440ec2b0>"
      ]
     },
     "metadata": {
      "needs_background": "light"
     },
     "output_type": "display_data"
    }
   ],
   "source": [
    "#theta0 prediction/generate \n",
    "\n",
    "theta0s = np.random.randn(50) #hum... pas terrible\n",
    "theta0_s = []\n",
    "\n",
    "for theta0_ in theta0s:\n",
    "    \n",
    "    theta, p, y = get_data(N=int(N_), seed=seed+i_CV)\n",
    "    logistic_model, loss = fit_data(theta, y, verbose=False)\n",
    "\n",
    "    if N_test>0: theta, p, y = get_data(N=N_test) # nouvelles données \n",
    "        \n",
    "    theta0_pred = logistic_model.linear.bias.item()\n",
    "    theta0_s.append(theta0_pred)\n",
    "        \n",
    "    print(f\" theta0: {theta0_pred:.5f}\")\n",
    "    \n",
    "plt.figure(figsize = (8,8)) \n",
    "plt.scatter(theta0s, theta0_s)\n",
    "plt.xlabel('theta réel')\n",
    "plt.ylabel('theta prédit')\n"
   ]
  },
  {
   "cell_type": "code",
   "execution_count": 28,
   "metadata": {},
   "outputs": [
    {
     "name": "stdout",
     "output_type": "stream",
     "text": [
      " wt:5.82172\n",
      " wt:5.55995\n",
      " wt:5.77950\n",
      " wt:5.72404\n",
      " wt:5.62788\n",
      " wt:5.66354\n",
      " wt:5.54324\n",
      " wt:5.56271\n",
      " wt:5.75185\n",
      " wt:5.60719\n",
      " wt:5.53874\n",
      " wt:5.61666\n",
      " wt:5.59895\n",
      " wt:5.58369\n",
      " wt:5.57866\n",
      " wt:5.73096\n",
      " wt:5.57664\n",
      " wt:5.53819\n",
      " wt:5.86805\n",
      " wt:5.58693\n",
      " wt:5.68476\n",
      " wt:5.62330\n",
      " wt:5.56705\n",
      " wt:5.91218\n",
      " wt:5.57973\n",
      " wt:5.53572\n",
      " wt:5.73079\n",
      " wt:5.63017\n",
      " wt:5.74922\n",
      " wt:5.52570\n",
      " wt:5.57407\n",
      " wt:5.67502\n",
      " wt:5.65387\n",
      " wt:5.76294\n",
      " wt:5.89470\n",
      " wt:5.72391\n",
      " wt:5.53526\n",
      " wt:5.64684\n",
      " wt:5.79685\n",
      " wt:5.60981\n",
      " wt:5.90455\n",
      " wt:5.82630\n",
      " wt:5.87961\n",
      " wt:5.64634\n",
      " wt:5.57876\n",
      " wt:5.63746\n",
      " wt:5.56733\n",
      " wt:5.64492\n",
      " wt:5.54392\n",
      " wt:5.80606\n"
     ]
    },
    {
     "data": {
      "text/plain": [
       "Text(0,0.5,'pente prédite')"
      ]
     },
     "execution_count": 28,
     "metadata": {},
     "output_type": "execute_result"
    },
    {
     "data": {
      "image/png": "[encoded data removed]",
      "text/plain": [
       "<matplotlib.figure.Figure at 0x7fe3443391d0>"
      ]
     },
     "metadata": {
      "needs_background": "light"
     },
     "output_type": "display_data"
    }
   ],
   "source": [
    "#wt prediction/generate \n",
    "\n",
    "wts = np.logspace(-1, 1, 50, base=10)\n",
    "wt_s = []\n",
    "\n",
    "for wt_ in wts:\n",
    "    \n",
    "    theta, p, y = get_data(N=int(N_), seed=seed+i_CV)\n",
    "    logistic_model, loss = fit_data(theta, y, verbose=False)\n",
    "        \n",
    "    if N_test>0: theta, p, y = get_data(N=N_test) # nouvelles données \n",
    "        \n",
    "    wt_pred = logistic_model.linear.weight.item()\n",
    "        \n",
    "    wt_s.append(wt_pred)\n",
    "    print(f\" wt:{wt_pred:.5f}\") \n",
    "    \n",
    "plt.figure(figsize = (8,8)) \n",
    "plt.scatter(wts, wt_s)\n",
    "plt.xlabel('pente réelle')\n",
    "plt.ylabel('pente prédite')\n"
   ]
  }
 ],
 "metadata": {
  "kernelspec": {
   "display_name": "Python 3",
   "language": "python",
   "name": "python3"
  },
  "language_info": {
   "codemirror_mode": {
    "name": "ipython",
    "version": 3
   },
   "file_extension": ".py",
   "mimetype": "text/x-python",
   "name": "python",
   "nbconvert_exporter": "python",
   "pygments_lexer": "ipython3",
   "version": "3.7.6"
  },
  "nteract": {
   "version": "0.21.0"
  }
 },
 "nbformat": 4,
 "nbformat_minor": 4
}
