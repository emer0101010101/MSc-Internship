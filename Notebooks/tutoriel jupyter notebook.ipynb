{
 "cells": [
  {
   "cell_type": "markdown",
   "metadata": {},
   "source": [
    "  # Premiers pas avec Jupyter Notebook # \n"
   ]
  },
  {
   "cell_type": "markdown",
   "metadata": {},
   "source": [
    "## I - Fonctions de bases"
   ]
  },
  {
   "cell_type": "markdown",
   "metadata": {},
   "source": [
    "* Python est un language interprété, très utilisé \n",
    "* 2 modes: interactif (jupyter notebook), script\n",
    "\n",
    "Exemple simple d'utilisation de jupyter notebook:"
   ]
  },
  {
   "cell_type": "code",
   "execution_count": 3,
   "metadata": {},
   "outputs": [
    {
     "name": "stdout",
     "output_type": "stream",
     "text": [
      "chaud froid frappé\n"
     ]
    }
   ],
   "source": [
    "café = \"chaud\"\n",
    "Café = \"froid\"\n",
    "Cafe = \"frappé\"\n",
    "print(café, Café, Cafe)"
   ]
  },
  {
   "cell_type": "markdown",
   "metadata": {},
   "source": [
    "* Différents types de variables "
   ]
  },
  {
   "cell_type": "code",
   "execution_count": 14,
   "metadata": {},
   "outputs": [
    {
     "name": "stdout",
     "output_type": "stream",
     "text": [
      "<class 'int'>\n"
     ]
    }
   ],
   "source": [
    "a = 2                  # <class \"int\">, nbr entier\n",
    "print(type(a)) "
   ]
  },
  {
   "cell_type": "code",
   "execution_count": 15,
   "metadata": {},
   "outputs": [
    {
     "name": "stdout",
     "output_type": "stream",
     "text": [
      "<class 'float'>\n"
     ]
    }
   ],
   "source": [
    "a = 2.5               # <class \"float\">, nbr flottant\n",
    "print(type(a))"
   ]
  },
  {
   "cell_type": "code",
   "execution_count": 18,
   "metadata": {},
   "outputs": [
    {
     "name": "stdout",
     "output_type": "stream",
     "text": [
      "<class 'bool'>\n"
     ]
    }
   ],
   "source": [
    "a = True              #<class \"bool\", booléen, variable a 2 états\n",
    "print(type(a))"
   ]
  },
  {
   "cell_type": "code",
   "execution_count": 19,
   "metadata": {},
   "outputs": [
    {
     "name": "stdout",
     "output_type": "stream",
     "text": [
      "<class 'str'>\n"
     ]
    }
   ],
   "source": [
    "a = \"café\"          #<class \"str\",chaine\n",
    "print(type(a))"
   ]
  },
  {
   "cell_type": "markdown",
   "metadata": {},
   "source": [
    "* Operations de base "
   ]
  },
  {
   "cell_type": "code",
   "execution_count": 27,
   "metadata": {},
   "outputs": [
    {
     "name": "stdout",
     "output_type": "stream",
     "text": [
      "X = 3 Y = 4\n",
      "addition, X+Y= 7\n",
      "multiplication, X*Y= 12\n",
      "division, X/Y= 0.75\n",
      "puissance, X^Y= 81\n"
     ]
    }
   ],
   "source": [
    "X = 3\n",
    "Y = 4\n",
    "print(\"X =\",X, \"Y =\",Y)\n",
    "\n",
    "#Addition\n",
    "print(\"addition, X+Y=\",X+Y)\n",
    "\n",
    "#Multiplication\n",
    "print(\"multiplication, X*Y=\",X*Y)\n",
    "\n",
    "#Division\n",
    "print(\"division, X/Y=\",X/Y)\n",
    "\n",
    "#Puissance\n",
    "print(\"puissance, X^Y=\", X**Y)"
   ]
  },
  {
   "cell_type": "markdown",
   "metadata": {},
   "source": [
    "* Comparaisons"
   ]
  },
  {
   "cell_type": "code",
   "execution_count": null,
   "metadata": {},
   "outputs": [],
   "source": [
    "X = 3\n",
    "Y = 4\n",
    "\n",
    "#Egal\n",
    "print(\"Egal\", X==Y)  #false\n",
    "\n",
    "#Different\n",
    "print(\"different\", X!=Y) #true\n",
    "\n",
    "#Superieur ou egale\n",
    "print(\"superieur ou egale\", X>=Y) #false"
   ]
  },
  {
   "cell_type": "markdown",
   "metadata": {},
   "source": [
    "* Affectations"
   ]
  },
  {
   "cell_type": "code",
   "execution_count": null,
   "metadata": {},
   "outputs": [],
   "source": [
    "X = 3\n",
    "Y = 4\n",
    "\n",
    "X += Y   #X=X+Y\n",
    "print(\"X=\",X)\n",
    "\n",
    "X *= Y\n",
    "print(\"X*Y\",X) #X=X*Y"
   ]
  },
  {
   "cell_type": "markdown",
   "metadata": {},
   "source": [
    "* Entrées/Sorties"
   ]
  },
  {
   "cell_type": "code",
   "execution_count": 16,
   "metadata": {},
   "outputs": [
    {
     "name": "stdout",
     "output_type": "stream",
     "text": [
      "bonjour\n",
      "mangez 2 pommes et  3 poires\n"
     ]
    }
   ],
   "source": [
    "print(\"bonjour\")\n",
    "a = 2; b = 3\n",
    "print(\"mangez\", a, \"pommes et \",b, \"poires\") "
   ]
  },
  {
   "cell_type": "markdown",
   "metadata": {},
   "source": [
    "* Petits problemes pour s'entrainer"
   ]
  },
  {
   "cell_type": "markdown",
   "metadata": {},
   "source": [
    "1) La roulette"
   ]
  },
  {
   "cell_type": "markdown",
   "metadata": {},
   "source": [
    "\n",
    " - Le joueur mise sur un numero compris entre 0 et 49\n",
    " - Lesnumeros pairs sont noirs, les impairs sont rouges\n",
    " - Le croupier lance la roulette, lache la bille et quand la roulette s'arrete, il regarde le numero de la case dans laquelle la   bille s'est arretée\n",
    " - si le numero gagnant est celui sur lequel le jour a misé = il gagne 3 fois sa mise\n",
    " - si le numero est de la même couleur que celui sur lequel le joueur a misé = il gagne 50% de sa mise\n",
    " - sinon le joueur perd sa mise \n",
    " "
   ]
  },
  {
   "cell_type": "markdown",
   "metadata": {},
   "source": [
    "Aides: \n",
    "- fonction randrange du module random pour tirer les numeros\n",
    "- fonction ceil du module math pour ne pas avoir de nbr flottants, arrondir au nombre supérieur (interessant pour la mise) \n",
    "- mise départ: 500€"
   ]
  },
  {
   "cell_type": "code",
   "execution_count": 20,
   "metadata": {},
   "outputs": [],
   "source": [
    "import os\n",
    "from random import randrange\n",
    "from math import ceil"
   ]
  },
  {
   "cell_type": "code",
   "execution_count": 23,
   "metadata": {},
   "outputs": [
    {
     "ename": "TypeError",
     "evalue": "'module' object is not callable",
     "output_type": "error",
     "traceback": [
      "\u001b[1;31m---------------------------------------------------------------------------\u001b[0m",
      "\u001b[1;31mTypeError\u001b[0m                                 Traceback (most recent call last)",
      "\u001b[1;32m<ipython-input-23-1100ae0bdd9d>\u001b[0m in \u001b[0;36m<module>\u001b[1;34m\u001b[0m\n\u001b[0;32m      2\u001b[0m \u001b[1;31m# est bissextile ou non\u001b[0m\u001b[1;33m\u001b[0m\u001b[1;33m\u001b[0m\u001b[1;33m\u001b[0m\u001b[0m\n\u001b[0;32m      3\u001b[0m \u001b[1;33m\u001b[0m\u001b[0m\n\u001b[1;32m----> 4\u001b[1;33m \u001b[0mannee\u001b[0m \u001b[1;33m=\u001b[0m \u001b[0minput\u001b[0m\u001b[1;33m(\u001b[0m\u001b[1;34m\"Saisissez une année : \"\u001b[0m\u001b[1;33m)\u001b[0m \u001b[1;31m# On attend que l'utilisateur saisisse l'année qu'il désire tester\u001b[0m\u001b[1;33m\u001b[0m\u001b[1;33m\u001b[0m\u001b[0m\n\u001b[0m\u001b[0;32m      5\u001b[0m \u001b[0mannee\u001b[0m \u001b[1;33m=\u001b[0m \u001b[0mint\u001b[0m\u001b[1;33m(\u001b[0m\u001b[0mannee\u001b[0m\u001b[1;33m)\u001b[0m \u001b[1;31m# Risque d'erreur si l'utilisateur n'a pas saisi un nombre\u001b[0m\u001b[1;33m\u001b[0m\u001b[1;33m\u001b[0m\u001b[0m\n\u001b[0;32m      6\u001b[0m \u001b[0mbissextile\u001b[0m \u001b[1;33m=\u001b[0m \u001b[1;32mFalse\u001b[0m \u001b[1;31m# On crée un booléen qui vaut vrai ou faux\u001b[0m\u001b[1;33m\u001b[0m\u001b[1;33m\u001b[0m\u001b[0m\n",
      "\u001b[1;31mTypeError\u001b[0m: 'module' object is not callable"
     ]
    }
   ],
   "source": [
    "# Variables de départ\n",
    "argent = 500 # On a 500 $ au début du jeu\n",
    "continuer_partie = True \n",
    "\n",
    "print(\"Vous vous installez à la table de roulette avec\", argent, \"$.\")\n",
    "\n",
    "while continuer_partie:\n",
    "    nombre_mise = -1\n",
    "    while nombre_mise < 0 or nombre_mise > 49:\n",
    "        nombre_mise = input(\"Tapez le nombre sur lequel vous voulez miser (entre 0 et 49) : \")\n",
    "\n",
    "        try:\n",
    "            nombre_mise = int(nombre_mise)\n",
    "        except ValueError:\n",
    "            print(\"Vous n'avez pas saisi de nombre\")\n",
    "            nombre_mise = -1\n",
    "            continue\n",
    "        if nombre_mise < 0:\n",
    "            print(\"Ce nombre est négatif\")\n",
    "        if nombre_mise > 49:\n",
    "            print(\"Ce nombre est supérieur à 49\")\n",
    "\n",
    "    # somme à miser sur le nombre\n",
    "    mise = 0\n",
    "    while mise <= 0 or mise > argent:\n",
    "        mise = input(\"Tapez le montant de votre mise : \")\n",
    "        # On convertit la mise\n",
    "        try:\n",
    "            mise = int(mise)\n",
    "        except ValueError:\n",
    "            print(\"Vous n'avez pas saisi de nombre\")\n",
    "            mise = -1\n",
    "            continue\n",
    "        if mise <= 0:\n",
    "            print(\"La mise saisie est négative ou nulle.\")\n",
    "        if mise > argent:\n",
    "            print(\"Vous ne pouvez miser autant, vous n'avez que\", argent, \"$\")\n",
    "\n",
    "   \n",
    "    # On fait tourner la roulette\n",
    "    numero_gagnant = randrange(50)\n",
    "    print(\"La roulette tourne... ... et s'arrête sur le numéro\", numero_gagnant)\n",
    "\n",
    "    # On établit le gain du joueur\n",
    "    if numero_gagnant == nombre_mise:\n",
    "        print(\"Félicitations ! Vous obtenez\", mise * 3, \"$ !\")\n",
    "        argent += mise * 3\n",
    "    elif numero_gagnant % 2 == nombre_mise % 2: # ils sont de la même couleur\n",
    "        mise = ceil(mise * 0.5)\n",
    "        print(\"Vous avez misé sur la bonne couleur. Vous obtenez\", mise, \"$\")\n",
    "        argent += mise\n",
    "    else:\n",
    "        print(\"Désolé, Vous perdez votre mise.\")\n",
    "        argent -= mise\n",
    "\n",
    "    # On interrompt la partie si le joueur est ruiné\n",
    "    if argent <= 0:\n",
    "        print(\"Vous êtes ruiné ! C'est la fin de la partie.\")\n",
    "        continuer_partie = False\n",
    "    else:\n",
    "        # On affiche l'argent du joueur\n",
    "        print(\"Vous avez à présent\", argent, \"$\")\n",
    "        quitter = input(\"Souhaitez-vous quitter le casino (o/n) ? \")\n",
    "        if quitter == \"o\" or quitter == \"O\":\n",
    "            print(\"Vous quittez le casino avec vos gains.\")\n",
    "            continuer_partie = False\n",
    "\n",
    "# On met en pause le système (Windows)\n",
    "os.system(\"pause\")"
   ]
  },
  {
   "cell_type": "markdown",
   "metadata": {},
   "source": [
    "Peut être pas le meilleur script a tester sur jupyter notebook, mais marche tres bien sur spyder "
   ]
  },
  {
   "cell_type": "markdown",
   "metadata": {},
   "source": [
    "## II - Fonctions avancées (direct bam bam !) ##"
   ]
  },
  {
   "cell_type": "markdown",
   "metadata": {},
   "source": [
    "### II.I BRIAN (simulator for spiking neural networks) ###"
   ]
  },
  {
   "cell_type": "markdown",
   "metadata": {},
   "source": [
    "conda install -c conda-forge brian2 (installation de brian2 avec Anaconda)"
   ]
  },
  {
   "cell_type": "markdown",
   "metadata": {},
   "source": [
    "* Exemple 1: neurone unique"
   ]
  },
  {
   "cell_type": "code",
   "execution_count": 3,
   "metadata": {},
   "outputs": [
    {
     "data": {
      "text/plain": [
       "Text(0, 0.5, 'voltage (V)')"
      ]
     },
     "execution_count": 3,
     "metadata": {},
     "output_type": "execute_result"
    },
    {
     "data": {
      "image/png": "[encoded data removed]",
      "text/plain": [
       "<Figure size 432x288 with 1 Axes>"
      ]
     },
     "metadata": {
      "needs_background": "light"
     },
     "output_type": "display_data"
    }
   ],
   "source": [
    "\n",
    "from brian2 import *\n",
    "%matplotlib inline \n",
    "\n",
    "tau = 10*ms #tau = 1/f\n",
    "eqs = ''' \n",
    "dv/dt = (1-v)/tau : 1 \n",
    "'''\n",
    "\n",
    "G = NeuronGroup(1, eqs,method='euler')  #G: groupe de neurones (le nbr de neurones, equation differentielle, methode)\n",
    "M = StateMonitor(G, 'v', record=0) \n",
    "run(100*ms)   #lance la simulation pendant 100ms\n",
    "\n",
    "plot(M.t/ms, M.v[0], 'C0')\n",
    "xlabel('Time (ms)')\n",
    "ylabel('voltage (V)')\n",
    "\n",
    "\n",
    "\n"
   ]
  },
  {
   "cell_type": "markdown",
   "metadata": {},
   "source": [
    "* Exemple 2: Neurones multiples"
   ]
  },
  {
   "cell_type": "code",
   "execution_count": 4,
   "metadata": {},
   "outputs": [
    {
     "data": {
      "image/png": "[encoded data removed]",
      "text/plain": [
       "<Figure size 432x288 with 1 Axes>"
      ]
     },
     "metadata": {
      "needs_background": "light"
     },
     "output_type": "display_data"
    }
   ],
   "source": [
    "start_scope ()\n",
    "\n",
    "N = 100 #population de 100 neurones ici\n",
    "tau = 10*ms\n",
    "eqs = '''\n",
    "dv/dt = (2-v)/tau : 1\n",
    "'''\n",
    "\n",
    "G = NeuronGroup(N, eqs, threshold='v>1', reset='v=0', method='exact') #des qu'on atteint le seuil, on revient a 0\n",
    "G.v = 'rand()' \n",
    "\n",
    "spikemon = SpikeMonitor(G)\n",
    "\n",
    "run(50*ms)\n",
    "\n",
    "plot(spikemon.t/ms, spikemon.i, '.k') #raster plot\n",
    "xlabel('Time (ms)')\n",
    "ylabel('Neuron index');"
   ]
  },
  {
   "cell_type": "markdown",
   "metadata": {},
   "source": [
    "### II.II Pytorch ###  "
   ]
  },
  {
   "cell_type": "markdown",
   "metadata": {},
   "source": [
    " Machine learning library"
   ]
  },
  {
   "cell_type": "markdown",
   "metadata": {},
   "source": [
    "* Exemple 1: Reseau feed-forward"
   ]
  },
  {
   "cell_type": "code",
   "execution_count": null,
   "metadata": {},
   "outputs": [],
   "source": [
    "print n"
   ]
  }
 ],
 "metadata": {
  "kernelspec": {
   "display_name": "Python 3",
   "language": "python",
   "name": "python3"
  },
  "language_info": {
   "codemirror_mode": {
    "name": "ipython",
    "version": 3
   },
   "file_extension": ".py",
   "mimetype": "text/x-python",
   "name": "python",
   "nbconvert_exporter": "python",
   "pygments_lexer": "ipython3",
   "version": "3.7.3"
  }
 },
 "nbformat": 4,
 "nbformat_minor": 2
}
