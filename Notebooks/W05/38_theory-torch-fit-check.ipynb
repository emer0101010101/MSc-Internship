{
 "cells": [
  {
   "cell_type": "markdown",
   "metadata": {},
   "source": [
    "# \"Cross-validation\" des modèles"
   ]
  },
  {
   "cell_type": "code",
   "execution_count": null,
   "metadata": {},
   "outputs": [],
   "source": [
    "learning_rate = 0.05\n",
    "num_epochs = 3000\n",
    "N = 250"
   ]
  },
  {
   "cell_type": "code",
   "execution_count": 2,
   "metadata": {},
   "outputs": [],
   "source": [
    "import numpy as np\n",
    "import matplotlib.pyplot as plt"
   ]
  },
  {
   "cell_type": "markdown",
   "metadata": {},
   "source": [
    "## Creer des données synthetiques "
   ]
  },
  {
   "cell_type": "code",
   "execution_count": 3,
   "metadata": {},
   "outputs": [],
   "source": [
    "def get_data(\n",
    "            N = N,\n",
    "            p0 = 0.05,\n",
    "            theta0 = 0,\n",
    "            wt = np.pi/20,\n",
    "            theta_std = np.pi/6):\n",
    "    \n",
    "    theta = np.random.randn(N)*theta_std\n",
    "    a = (theta-theta0)/wt\n",
    "    p = 1/(1+np.exp(-a))\n",
    "    \n",
    "    p = p0/2 + (1-p0) * p\n",
    "    y = np.random.rand(N) < p\n",
    "    return theta, p, y\n"
   ]
  },
  {
   "cell_type": "code",
   "execution_count": 4,
   "metadata": {},
   "outputs": [
    {
     "data": {
      "text/plain": [
       "\u001b[0;31mInit signature:\u001b[0m \u001b[0mTensorDataset\u001b[0m\u001b[0;34m(\u001b[0m\u001b[0;34m*\u001b[0m\u001b[0mtensors\u001b[0m\u001b[0;34m)\u001b[0m\u001b[0;34m\u001b[0m\u001b[0;34m\u001b[0m\u001b[0m\n",
       "\u001b[0;31mDocstring:\u001b[0m     \n",
       "Dataset wrapping tensors.\n",
       "\n",
       "Each sample will be retrieved by indexing tensors along the first dimension.\n",
       "\n",
       "Arguments:\n",
       "    *tensors (Tensor): tensors that have the same size of the first dimension.\n",
       "\u001b[0;31mFile:\u001b[0m           /usr/local/lib/python3.7/site-packages/torch/utils/data/dataset.py\n",
       "\u001b[0;31mType:\u001b[0m           type\n",
       "\u001b[0;31mSubclasses:\u001b[0m     \n"
      ]
     },
     "metadata": {},
     "output_type": "display_data"
    }
   ],
   "source": [
    "from torch.utils.data import TensorDataset\n",
    "TensorDataset?"
   ]
  },
  {
   "cell_type": "code",
   "execution_count": 5,
   "metadata": {},
   "outputs": [
    {
     "data": {
      "text/plain": [
       "\u001b[0;31mInit signature:\u001b[0m\n",
       "\u001b[0mDataLoader\u001b[0m\u001b[0;34m(\u001b[0m\u001b[0;34m\u001b[0m\n",
       "\u001b[0;34m\u001b[0m    \u001b[0mdataset\u001b[0m\u001b[0;34m,\u001b[0m\u001b[0;34m\u001b[0m\n",
       "\u001b[0;34m\u001b[0m    \u001b[0mbatch_size\u001b[0m\u001b[0;34m=\u001b[0m\u001b[0;36m1\u001b[0m\u001b[0;34m,\u001b[0m\u001b[0;34m\u001b[0m\n",
       "\u001b[0;34m\u001b[0m    \u001b[0mshuffle\u001b[0m\u001b[0;34m=\u001b[0m\u001b[0;32mFalse\u001b[0m\u001b[0;34m,\u001b[0m\u001b[0;34m\u001b[0m\n",
       "\u001b[0;34m\u001b[0m    \u001b[0msampler\u001b[0m\u001b[0;34m=\u001b[0m\u001b[0;32mNone\u001b[0m\u001b[0;34m,\u001b[0m\u001b[0;34m\u001b[0m\n",
       "\u001b[0;34m\u001b[0m    \u001b[0mbatch_sampler\u001b[0m\u001b[0;34m=\u001b[0m\u001b[0;32mNone\u001b[0m\u001b[0;34m,\u001b[0m\u001b[0;34m\u001b[0m\n",
       "\u001b[0;34m\u001b[0m    \u001b[0mnum_workers\u001b[0m\u001b[0;34m=\u001b[0m\u001b[0;36m0\u001b[0m\u001b[0;34m,\u001b[0m\u001b[0;34m\u001b[0m\n",
       "\u001b[0;34m\u001b[0m    \u001b[0mcollate_fn\u001b[0m\u001b[0;34m=\u001b[0m\u001b[0;32mNone\u001b[0m\u001b[0;34m,\u001b[0m\u001b[0;34m\u001b[0m\n",
       "\u001b[0;34m\u001b[0m    \u001b[0mpin_memory\u001b[0m\u001b[0;34m=\u001b[0m\u001b[0;32mFalse\u001b[0m\u001b[0;34m,\u001b[0m\u001b[0;34m\u001b[0m\n",
       "\u001b[0;34m\u001b[0m    \u001b[0mdrop_last\u001b[0m\u001b[0;34m=\u001b[0m\u001b[0;32mFalse\u001b[0m\u001b[0;34m,\u001b[0m\u001b[0;34m\u001b[0m\n",
       "\u001b[0;34m\u001b[0m    \u001b[0mtimeout\u001b[0m\u001b[0;34m=\u001b[0m\u001b[0;36m0\u001b[0m\u001b[0;34m,\u001b[0m\u001b[0;34m\u001b[0m\n",
       "\u001b[0;34m\u001b[0m    \u001b[0mworker_init_fn\u001b[0m\u001b[0;34m=\u001b[0m\u001b[0;32mNone\u001b[0m\u001b[0;34m,\u001b[0m\u001b[0;34m\u001b[0m\n",
       "\u001b[0;34m\u001b[0m    \u001b[0mmultiprocessing_context\u001b[0m\u001b[0;34m=\u001b[0m\u001b[0;32mNone\u001b[0m\u001b[0;34m,\u001b[0m\u001b[0;34m\u001b[0m\n",
       "\u001b[0;34m\u001b[0m\u001b[0;34m)\u001b[0m\u001b[0;34m\u001b[0m\u001b[0;34m\u001b[0m\u001b[0m\n",
       "\u001b[0;31mDocstring:\u001b[0m     \n",
       "Data loader. Combines a dataset and a sampler, and provides an iterable over\n",
       "the given dataset.\n",
       "\n",
       "The :class:`~torch.utils.data.DataLoader` supports both map-style and\n",
       "iterable-style datasets with single- or multi-process loading, customizing\n",
       "loading order and optional automatic batching (collation) and memory pinning.\n",
       "\n",
       "See :py:mod:`torch.utils.data` documentation page for more details.\n",
       "\n",
       "Arguments:\n",
       "    dataset (Dataset): dataset from which to load the data.\n",
       "    batch_size (int, optional): how many samples per batch to load\n",
       "        (default: ``1``).\n",
       "    shuffle (bool, optional): set to ``True`` to have the data reshuffled\n",
       "        at every epoch (default: ``False``).\n",
       "    sampler (Sampler, optional): defines the strategy to draw samples from\n",
       "        the dataset. If specified, :attr:`shuffle` must be ``False``.\n",
       "    batch_sampler (Sampler, optional): like :attr:`sampler`, but returns a batch of\n",
       "        indices at a time. Mutually exclusive with :attr:`batch_size`,\n",
       "        :attr:`shuffle`, :attr:`sampler`, and :attr:`drop_last`.\n",
       "    num_workers (int, optional): how many subprocesses to use for data\n",
       "        loading. ``0`` means that the data will be loaded in the main process.\n",
       "        (default: ``0``)\n",
       "    collate_fn (callable, optional): merges a list of samples to form a\n",
       "        mini-batch of Tensor(s).  Used when using batched loading from a\n",
       "        map-style dataset.\n",
       "    pin_memory (bool, optional): If ``True``, the data loader will copy Tensors\n",
       "        into CUDA pinned memory before returning them.  If your data elements\n",
       "        are a custom type, or your :attr:`collate_fn` returns a batch that is a custom type,\n",
       "        see the example below.\n",
       "    drop_last (bool, optional): set to ``True`` to drop the last incomplete batch,\n",
       "        if the dataset size is not divisible by the batch size. If ``False`` and\n",
       "        the size of dataset is not divisible by the batch size, then the last batch\n",
       "        will be smaller. (default: ``False``)\n",
       "    timeout (numeric, optional): if positive, the timeout value for collecting a batch\n",
       "        from workers. Should always be non-negative. (default: ``0``)\n",
       "    worker_init_fn (callable, optional): If not ``None``, this will be called on each\n",
       "        worker subprocess with the worker id (an int in ``[0, num_workers - 1]``) as\n",
       "        input, after seeding and before data loading. (default: ``None``)\n",
       "\n",
       "\n",
       ".. warning:: If the ``spawn`` start method is used, :attr:`worker_init_fn`\n",
       "             cannot be an unpicklable object, e.g., a lambda function. See\n",
       "             :ref:`multiprocessing-best-practices` on more details related\n",
       "             to multiprocessing in PyTorch.\n",
       "\n",
       ".. note:: ``len(dataloader)`` heuristic is based on the length of the sampler used.\n",
       "          When :attr:`dataset` is an :class:`~torch.utils.data.IterableDataset`,\n",
       "          ``len(dataset)`` (if implemented) is returned instead, regardless\n",
       "          of multi-process loading configurations, because PyTorch trust\n",
       "          user :attr:`dataset` code in correctly handling multi-process\n",
       "          loading to avoid duplicate data. See `Dataset Types`_ for more\n",
       "          details on these two types of datasets and how\n",
       "          :class:`~torch.utils.data.IterableDataset` interacts with `Multi-process data loading`_.\n",
       "\u001b[0;31mFile:\u001b[0m           /usr/local/lib/python3.7/site-packages/torch/utils/data/dataloader.py\n",
       "\u001b[0;31mType:\u001b[0m           type\n",
       "\u001b[0;31mSubclasses:\u001b[0m     \n"
      ]
     },
     "metadata": {},
     "output_type": "display_data"
    }
   ],
   "source": [
    "from torch.utils.data import DataLoader\n",
    "DataLoader?"
   ]
  },
  {
   "cell_type": "code",
   "execution_count": 6,
   "metadata": {},
   "outputs": [],
   "source": [
    "import torch\n",
    "torch.set_default_tensor_type('torch.DoubleTensor')\n",
    "criterion = torch.nn.BCELoss()\n",
    "class LogisticRegressionModel(torch.nn.Module):\n",
    "    def __init__(self):\n",
    "        super(LogisticRegressionModel, self).__init__()\n",
    "        self.linear = torch.nn.Linear(1, 1, bias=False)    \n",
    "        self.logit0 = torch.nn.Linear(1, 1) \n",
    "\n",
    "    def forward(self, x):\n",
    "        p0 = torch.sigmoid(self.logit0(torch.zeros(1)))\n",
    "        out = p0/2 + (1-p0)*torch.sigmoid(self.linear(x))\n",
    "        return out\n",
    "\n",
    "batch_size = 24\n",
    "def fit_data(theta, y, \n",
    "                learning_rate =learning_rate,\n",
    "                num_epochs = num_epochs,\n",
    "                verbose=False):\n",
    "\n",
    "    logistic_model = LogisticRegressionModel()\n",
    "    optimizer = torch.optim.Adam(logistic_model.parameters(), lr=learning_rate)\n",
    "\n",
    "    labels = torch.Tensor(y[:, None])\n",
    "    Theta = torch.Tensor(theta[:, None])\n",
    "    dataset = TensorDataset(Theta, labels)\n",
    "    loader = DataLoader(dataset, batch_size=batch_size, shuffle=True)\n",
    "    for epoch in range(int(num_epochs)):\n",
    "        for batch_ndx, (Theta_, labels_) in enumerate(loader):\n",
    "            optimizer.zero_grad()\n",
    "            outputs = logistic_model(Theta_)\n",
    "            loss = criterion(outputs, labels_)\n",
    "            loss.backward()\n",
    "            optimizer.step()\n",
    "\n",
    "        if verbose and (epoch % (num_epochs//32) == 0) : \n",
    "            print(f\"Iteration: {epoch} - Loss: {loss.item():.5f}\")\n",
    "\n",
    "    logistic_model.eval()\n",
    "    return logistic_model, loss.item()"
   ]
  },
  {
   "cell_type": "code",
   "execution_count": 11,
   "metadata": {},
   "outputs": [
    {
     "name": "stdout",
     "output_type": "stream",
     "text": [
      "batch_ndx, (Theta_.shape, labels_.shape)= 0 (torch.Size([24, 1]), torch.Size([24, 1]))\n",
      "batch_ndx, (Theta_.shape, labels_.shape)= 1 (torch.Size([24, 1]), torch.Size([24, 1]))\n",
      "batch_ndx, (Theta_.shape, labels_.shape)= 2 (torch.Size([24, 1]), torch.Size([24, 1]))\n",
      "batch_ndx, (Theta_.shape, labels_.shape)= 3 (torch.Size([24, 1]), torch.Size([24, 1]))\n",
      "batch_ndx, (Theta_.shape, labels_.shape)= 4 (torch.Size([24, 1]), torch.Size([24, 1]))\n",
      "batch_ndx, (Theta_.shape, labels_.shape)= 5 (torch.Size([24, 1]), torch.Size([24, 1]))\n",
      "batch_ndx, (Theta_.shape, labels_.shape)= 6 (torch.Size([24, 1]), torch.Size([24, 1]))\n",
      "batch_ndx, (Theta_.shape, labels_.shape)= 7 (torch.Size([24, 1]), torch.Size([24, 1]))\n",
      "batch_ndx, (Theta_.shape, labels_.shape)= 8 (torch.Size([24, 1]), torch.Size([24, 1]))\n",
      "batch_ndx, (Theta_.shape, labels_.shape)= 9 (torch.Size([24, 1]), torch.Size([24, 1]))\n",
      "batch_ndx, (Theta_.shape, labels_.shape)= 10 (torch.Size([10, 1]), torch.Size([10, 1]))\n"
     ]
    }
   ],
   "source": [
    "theta, p, y = get_data()\n",
    "labels = torch.Tensor(y[:, None])\n",
    "Theta = torch.Tensor(theta[:, None])\n",
    "dataset = TensorDataset(Theta, labels)\n",
    "loader = DataLoader(dataset, batch_size=batch_size, shuffle=True)\n",
    "for batch_ndx, (Theta_, labels_) in enumerate(loader):\n",
    "    print('batch_ndx, (Theta_.shape, labels_.shape)=', batch_ndx, (Theta_.shape, labels_.shape))"
   ]
  },
  {
   "cell_type": "code",
   "execution_count": 7,
   "metadata": {},
   "outputs": [
    {
     "name": "stdout",
     "output_type": "stream",
     "text": [
      "Iteration: 0 - Loss: 0.71499\n",
      "Iteration: 93 - Loss: 0.59924\n",
      "Iteration: 186 - Loss: 0.16116\n",
      "Iteration: 279 - Loss: 0.79609\n",
      "Iteration: 372 - Loss: 0.51412\n",
      "Iteration: 465 - Loss: 0.43610\n",
      "Iteration: 558 - Loss: 0.48255\n",
      "Iteration: 651 - Loss: 0.24572\n",
      "Iteration: 744 - Loss: 0.50630\n",
      "Iteration: 837 - Loss: 0.61636\n",
      "Iteration: 930 - Loss: 0.39309\n",
      "Iteration: 1023 - Loss: 0.63121\n",
      "Iteration: 1116 - Loss: 0.52501\n",
      "Iteration: 1209 - Loss: 0.40563\n",
      "Iteration: 1302 - Loss: 0.88504\n",
      "Iteration: 1395 - Loss: 0.48768\n",
      "Iteration: 1488 - Loss: 0.44647\n",
      "Iteration: 1581 - Loss: 0.35728\n",
      "Iteration: 1674 - Loss: 0.62469\n",
      "Iteration: 1767 - Loss: 0.34546\n",
      "Iteration: 1860 - Loss: 0.52943\n",
      "Iteration: 1953 - Loss: 0.45095\n",
      "Iteration: 2046 - Loss: 0.49024\n",
      "Iteration: 2139 - Loss: 0.45697\n",
      "Iteration: 2232 - Loss: 0.40781\n",
      "Iteration: 2325 - Loss: 0.43616\n",
      "Iteration: 2418 - Loss: 0.75215\n",
      "Iteration: 2511 - Loss: 0.41935\n",
      "Iteration: 2604 - Loss: 0.35148\n",
      "Iteration: 2697 - Loss: 0.38971\n",
      "Iteration: 2790 - Loss: 0.53626\n",
      "Iteration: 2883 - Loss: 0.48531\n",
      "Iteration: 2976 - Loss: 0.29850\n"
     ]
    }
   ],
   "source": [
    "theta, p, y = get_data()\n",
    "logistic_model, loss = fit_data(theta, y, verbose=True)"
   ]
  },
  {
   "cell_type": "code",
   "execution_count": 8,
   "metadata": {},
   "outputs": [
    {
     "data": {
      "image/png": "[encoded data removed]",
      "text/plain": [
       "<Figure size 576x432 with 1 Axes>"
      ]
     },
     "metadata": {
      "needs_background": "light"
     },
     "output_type": "display_data"
    }
   ],
   "source": [
    "plt.figure(figsize = (8,6)) \n",
    "plt.scatter(theta, p, s=4, color = 'r', label='proba cachées')\n",
    "plt.scatter(theta, y, s=1, alpha=.1, color = 'b', label='données')\n",
    "x_values = np.linspace(-1.5, 1.50, 100)[:, None]\n",
    "y_values = logistic_model(torch.Tensor(x_values)).detach().numpy()\n",
    "plt.plot(x_values, y_values, 'g', alpha=.7, lw=3, label='proba prédites')\n",
    "plt.xlabel(r'$\\theta$')\n",
    "plt.yticks([0.,1.],['Left', 'Right']);\n",
    "plt.legend();\n"
   ]
  },
  {
   "cell_type": "markdown",
   "metadata": {},
   "source": [
    "## validation"
   ]
  },
  {
   "cell_type": "code",
   "execution_count": 9,
   "metadata": {},
   "outputs": [
    {
     "name": "stdout",
     "output_type": "stream",
     "text": [
      "loss= tensor(0.3393, grad_fn=<BinaryCrossEntropyBackward>)\n"
     ]
    },
    {
     "data": {
      "image/png": "[encoded data removed]",
      "text/plain": [
       "<Figure size 576x432 with 1 Axes>"
      ]
     },
     "metadata": {
      "needs_background": "light"
     },
     "output_type": "display_data"
    }
   ],
   "source": [
    "theta, p, y = get_data() # nouvelles données \n",
    "\n",
    "labels = torch.Tensor(y[:, None])\n",
    "Theta = torch.Tensor(theta[:, None])\n",
    "outputs = logistic_model(Theta)\n",
    "loss = criterion(outputs, labels)\n",
    "print('loss=', loss)\n",
    "plt.figure(figsize = (8,6)) \n",
    "plt.scatter(theta, p, s=4, color = 'r', label='proba cachées')\n",
    "plt.scatter(theta, y, s=1, alpha=.1, color = 'b', label='données')\n",
    "x_values = np.linspace(-1.5, 1.50, 100)[:, None]\n",
    "y_values = logistic_model(torch.Tensor(x_values)).detach().numpy()\n",
    "plt.plot(x_values, y_values, 'g', alpha=.7, lw=3, label='proba prédites')\n",
    "plt.xlabel(r'$\\theta$')\n",
    "plt.yticks([0.,1.],['Left', 'Right']);\n",
    "plt.legend();"
   ]
  }
 ],
 "metadata": {
  "kernelspec": {
   "display_name": "Python 3",
   "language": "python",
   "name": "python3"
  },
  "language_info": {
   "codemirror_mode": {
    "name": "ipython",
    "version": 3
   },
   "file_extension": ".py",
   "mimetype": "text/x-python",
   "name": "python",
   "nbconvert_exporter": "python",
   "pygments_lexer": "ipython3",
   "version": "3.7.6"
  },
  "nteract": {
   "version": "0.21.0"
  }
 },
 "nbformat": 4,
 "nbformat_minor": 4
}
