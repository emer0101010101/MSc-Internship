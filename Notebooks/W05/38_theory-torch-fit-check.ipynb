{
 "cells": [
  {
   "cell_type": "markdown",
   "metadata": {},
   "source": [
    "# \"Cross-validation\" des modèles"
   ]
  },
  {
   "cell_type": "code",
   "execution_count": 1,
   "metadata": {},
   "outputs": [],
   "source": [
    "learning_rate = 0.05\n",
    "num_epochs = 3000\n",
    "N = 150"
   ]
  },
  {
   "cell_type": "code",
   "execution_count": 2,
   "metadata": {},
   "outputs": [],
   "source": [
    "import numpy as np\n",
    "import matplotlib.pyplot as plt"
   ]
  },
  {
   "cell_type": "markdown",
   "metadata": {},
   "source": [
    "## Creer des données synthetiques "
   ]
  },
  {
   "cell_type": "code",
   "execution_count": 3,
   "metadata": {},
   "outputs": [],
   "source": [
    "def get_data(\n",
    "            N = N,\n",
    "            p0 = 0.05,\n",
    "            theta0 = 0,\n",
    "            wt = np.pi/20,\n",
    "            theta_std = np.pi/6):\n",
    "    \n",
    "    theta = np.random.randn(N)*theta_std\n",
    "    a = (theta-theta0)/wt\n",
    "    p = 1/(1+np.exp(-a))\n",
    "    \n",
    "    p = p0/2 + (1-p0) * p\n",
    "    y = np.random.rand(N) < p\n",
    "    return theta, p, y\n"
   ]
  },
  {
   "cell_type": "code",
   "execution_count": 4,
   "metadata": {},
   "outputs": [],
   "source": [
    "import torch\n",
    "criterion = torch.nn.BCELoss()\n",
    "\n",
    "def fit_data(theta, y, \n",
    "                learning_rate =learning_rate,\n",
    "                num_epochs = num_epochs,\n",
    "                verbose=False):\n",
    "    torch.set_default_tensor_type('torch.DoubleTensor')\n",
    "    from torch.nn import functional as F\n",
    "\n",
    "    class LogisticRegressionModel(torch.nn.Module):\n",
    "        def __init__(self):\n",
    "            super(LogisticRegressionModel, self).__init__()\n",
    "            self.linear = torch.nn.Linear(1, 1, bias=False)    \n",
    "            self.logit0 = torch.nn.Linear(1, 1) \n",
    "\n",
    "        def forward(self, x):\n",
    "            p0 = torch.sigmoid(self.logit0(torch.zeros(1)))\n",
    "            out = p0/2 + (1-p0)*torch.sigmoid(self.linear(x))\n",
    "            return out\n",
    "\n",
    "    logistic_model = LogisticRegressionModel()\n",
    "    optimizer = torch.optim.Adam(logistic_model.parameters(), lr=learning_rate)\n",
    "\n",
    "    theta, p, y = get_data()\n",
    "    labels = torch.Tensor(y[:, None])\n",
    "    Theta = torch.Tensor(theta[:, None])\n",
    "\n",
    "    for epoch in range(int(num_epochs)):\n",
    "\n",
    "        optimizer.zero_grad()\n",
    "        outputs = logistic_model(Theta)\n",
    "        loss = criterion(outputs, labels)\n",
    "        loss.backward()\n",
    "        optimizer.step()\n",
    "\n",
    "        # Print Loss\n",
    "        if verbose and (epoch % (num_epochs//32) == 0) : \n",
    "            print(f\"Iteration: {epoch}. Loss: {loss.item():.5f}.\")\n",
    "\n",
    "    logistic_model.eval()\n",
    "    return logistic_model, loss.item()"
   ]
  },
  {
   "cell_type": "markdown",
   "metadata": {},
   "source": [
    "kezako?"
   ]
  },
  {
   "cell_type": "code",
   "execution_count": 5,
   "metadata": {},
   "outputs": [
    {
     "name": "stdout",
     "output_type": "stream",
     "text": [
      "Iteration: 0. Loss: 0.69695.\n",
      "Iteration: 93. Loss: 0.41055.\n",
      "Iteration: 186. Loss: 0.39686.\n",
      "Iteration: 279. Loss: 0.39229.\n",
      "Iteration: 372. Loss: 0.39010.\n",
      "Iteration: 465. Loss: 0.38912.\n",
      "Iteration: 558. Loss: 0.38867.\n",
      "Iteration: 651. Loss: 0.38846.\n",
      "Iteration: 744. Loss: 0.38835.\n",
      "Iteration: 837. Loss: 0.38830.\n",
      "Iteration: 930. Loss: 0.38828.\n",
      "Iteration: 1023. Loss: 0.38827.\n",
      "Iteration: 1116. Loss: 0.38826.\n",
      "Iteration: 1209. Loss: 0.38826.\n",
      "Iteration: 1302. Loss: 0.38826.\n",
      "Iteration: 1395. Loss: 0.38826.\n",
      "Iteration: 1488. Loss: 0.38826.\n",
      "Iteration: 1581. Loss: 0.38826.\n",
      "Iteration: 1674. Loss: 0.38826.\n",
      "Iteration: 1767. Loss: 0.38826.\n",
      "Iteration: 1860. Loss: 0.38826.\n",
      "Iteration: 1953. Loss: 0.38826.\n",
      "Iteration: 2046. Loss: 0.38826.\n",
      "Iteration: 2139. Loss: 0.38826.\n",
      "Iteration: 2232. Loss: 0.38826.\n",
      "Iteration: 2325. Loss: 0.38826.\n",
      "Iteration: 2418. Loss: 0.38826.\n",
      "Iteration: 2511. Loss: 0.38826.\n",
      "Iteration: 2604. Loss: 0.38826.\n",
      "Iteration: 2697. Loss: 0.38826.\n",
      "Iteration: 2790. Loss: 0.38826.\n",
      "Iteration: 2883. Loss: 0.38826.\n",
      "Iteration: 2976. Loss: 0.38826.\n"
     ]
    }
   ],
   "source": [
    "theta, p, y = get_data()\n",
    "logistic_model, loss = fit_data(theta, y, verbose=True)"
   ]
  },
  {
   "cell_type": "code",
   "execution_count": 6,
   "metadata": {},
   "outputs": [
    {
     "data": {
      "image/png": "[encoded data removed]",
      "text/plain": [
       "<Figure size 576x432 with 1 Axes>"
      ]
     },
     "metadata": {
      "needs_background": "light"
     },
     "output_type": "display_data"
    }
   ],
   "source": [
    "plt.figure(figsize = (8,6)) \n",
    "plt.scatter(theta, p, s=4, color = 'r', label='proba cachées')\n",
    "plt.scatter(theta, y, s=1, alpha=.1, color = 'b', label='données')\n",
    "x_values = np.linspace(-1.5, 1.50, 100)[:, None]\n",
    "y_values = logistic_model(torch.Tensor(x_values)).detach().numpy()\n",
    "plt.plot(x_values, y_values, 'g', alpha=.7, lw=3, label='proba prédites')\n",
    "plt.xlabel(r'$\\theta$')\n",
    "plt.yticks([0.,1.],['Left', 'Right']);\n",
    "plt.legend();\n"
   ]
  },
  {
   "cell_type": "markdown",
   "metadata": {},
   "source": [
    "## validation"
   ]
  },
  {
   "cell_type": "code",
   "execution_count": 7,
   "metadata": {},
   "outputs": [
    {
     "name": "stdout",
     "output_type": "stream",
     "text": [
      "loss= tensor(0.3595, grad_fn=<BinaryCrossEntropyBackward>)\n"
     ]
    },
    {
     "data": {
      "image/png": "[encoded data removed]",
      "text/plain": [
       "<Figure size 576x432 with 1 Axes>"
      ]
     },
     "metadata": {
      "needs_background": "light"
     },
     "output_type": "display_data"
    }
   ],
   "source": [
    "theta, p, y = get_data() # nouvelles données \n",
    "\n",
    "labels = torch.Tensor(y[:, None])\n",
    "Theta = torch.Tensor(theta[:, None])\n",
    "outputs = logistic_model(Theta)\n",
    "loss = criterion(outputs, labels)\n",
    "print('loss=', loss)\n",
    "plt.figure(figsize = (8,6)) \n",
    "plt.scatter(theta, p, s=4, color = 'r', label='proba cachées')\n",
    "plt.scatter(theta, y, s=1, alpha=.1, color = 'b', label='données')\n",
    "x_values = np.linspace(-1.5, 1.50, 100)[:, None]\n",
    "y_values = logistic_model(torch.Tensor(x_values)).detach().numpy()\n",
    "plt.plot(x_values, y_values, 'g', alpha=.7, lw=3, label='proba prédites')\n",
    "plt.xlabel(r'$\\theta$')\n",
    "plt.yticks([0.,1.],['Left', 'Right']);\n",
    "plt.legend();"
   ]
  },
  {
   "cell_type": "markdown",
   "metadata": {},
   "source": [
    "## influence du nombre de trials"
   ]
  },
  {
   "cell_type": "code",
   "execution_count": 8,
   "metadata": {},
   "outputs": [
    {
     "name": "stdout",
     "output_type": "stream",
     "text": [
      "N: 10, Loss: 0.37397, KL: 0.41015.\n",
      "N: 16, Loss: 0.39307, KL: 0.38167.\n",
      "N: 26, Loss: 0.37942, KL: 0.37557.\n",
      "N: 43, Loss: 0.35821, KL: 0.39812.\n",
      "N: 71, Loss: 0.35027, KL: 0.37663.\n",
      "N: 117, Loss: 0.40043, KL: 0.37892.\n",
      "N: 193, Loss: 0.41632, KL: 0.40944.\n",
      "N: 316, Loss: 0.44236, KL: 0.38474.\n",
      "N: 517, Loss: 0.39983, KL: 0.41349.\n",
      "N: 848, Loss: 0.37235, KL: 0.39598.\n",
      "N: 1389, Loss: 0.41355, KL: 0.38611.\n",
      "N: 2275, Loss: 0.36557, KL: 0.39157.\n",
      "N: 3727, Loss: 0.40186, KL: 0.40023.\n",
      "N: 6105, Loss: 0.38151, KL: 0.38731.\n",
      "N: 10000, Loss: 0.36669, KL: 0.39747.\n"
     ]
    }
   ],
   "source": [
    "Ns = np.logspace(1, 4, 15, base=10)\n",
    "N_test = 1000\n",
    "losses, KLs = [], []\n",
    "for N_ in Ns:\n",
    "    theta, p, y = get_data(N=int(N_))\n",
    "    logistic_model, loss = fit_data(theta, y, verbose=False)\n",
    "    theta, p, y = get_data(N=N_test) # nouvelles données \n",
    "    labels = torch.Tensor(y[:, None])\n",
    "    Theta = torch.Tensor(theta[:, None])\n",
    "    outputs = logistic_model(Theta)\n",
    "    loss = criterion(outputs, labels).item()\n",
    "    KL = criterion(outputs, torch.Tensor(p[:, None])).item()\n",
    "    print(f\"N: {int(N_)}, Loss: {loss:.5f}, KL: {KL:.5f}.\")\n",
    "    KLs.append(KL)\n",
    "    losses.append(loss)"
   ]
  },
  {
   "cell_type": "code",
   "execution_count": 9,
   "metadata": {},
   "outputs": [
    {
     "data": {
      "text/plain": [
       "Text(0, 0.5, ' Loss ')"
      ]
     },
     "execution_count": 9,
     "metadata": {},
     "output_type": "execute_result"
    },
    {
     "data": {
      "image/png": "[encoded data removed]",
      "text/plain": [
       "<Figure size 576x576 with 1 Axes>"
      ]
     },
     "metadata": {
      "needs_background": "light"
     },
     "output_type": "display_data"
    }
   ],
   "source": [
    "plt.figure(figsize = (8,8)) \n",
    "plt.scatter(Ns, losses)\n",
    "plt.scatter(Ns, KLs)\n",
    "plt.xlabel(' # trials')\n",
    "plt.ylabel(' Loss ')"
   ]
  },
  {
   "cell_type": "markdown",
   "metadata": {},
   "source": [
    "## influence du nombre du learning rate\n"
   ]
  },
  {
   "cell_type": "code",
   "execution_count": 10,
   "metadata": {},
   "outputs": [
    {
     "name": "stdout",
     "output_type": "stream",
     "text": [
      "learning_rate: 0.00500, Loss: 0.40822, KL: 0.39106.\n",
      "learning_rate: 0.00695, Loss: 0.39850, KL: 0.38750.\n",
      "learning_rate: 0.00965, Loss: 0.39771, KL: 0.40424.\n",
      "learning_rate: 0.01341, Loss: 0.43496, KL: 0.38704.\n",
      "learning_rate: 0.01864, Loss: 0.38288, KL: 0.38780.\n",
      "learning_rate: 0.02590, Loss: 0.40230, KL: 0.39292.\n",
      "learning_rate: 0.03598, Loss: 0.35928, KL: 0.38296.\n",
      "learning_rate: 0.05000, Loss: 0.39638, KL: 0.39163.\n",
      "learning_rate: 0.06947, Loss: 0.37516, KL: 0.38568.\n",
      "learning_rate: 0.09653, Loss: 0.41765, KL: 0.38763.\n",
      "learning_rate: 0.13413, Loss: 0.40131, KL: 0.38221.\n",
      "learning_rate: 0.18638, Loss: 0.36641, KL: 0.39302.\n",
      "learning_rate: 0.25897, Loss: 0.33741, KL: 0.38700.\n",
      "learning_rate: 0.35984, Loss: 0.37508, KL: 0.39238.\n",
      "learning_rate: 0.50000, Loss: 0.40148, KL: 0.38886.\n"
     ]
    }
   ],
   "source": [
    "\n",
    "learning_rates = learning_rate * np.logspace(-1, 1, 15, base=10)\n",
    "losses, KLs = [], []\n",
    "for learning_rate_ in learning_rates:\n",
    "    theta, p, y = get_data()\n",
    "    logistic_model, loss = fit_data(theta, y, learning_rate=learning_rate_, verbose=False)\n",
    "    \n",
    "    theta, p, y = get_data(N=N_test) # nouvelles données \n",
    "    labels = torch.Tensor(y[:, None])\n",
    "    Theta = torch.Tensor(theta[:, None])\n",
    "    outputs = logistic_model(Theta)\n",
    "\n",
    "    loss = criterion(outputs, labels).item()\n",
    "    KL = criterion(outputs, torch.Tensor(p[:, None])).item()\n",
    "    print(f\"learning_rate: {learning_rate_:.5f}, Loss: {loss:.5f}, KL: {KL:.5f}.\")\n",
    "    KLs.append(KL)\n",
    "    losses.append(loss)"
   ]
  },
  {
   "cell_type": "code",
   "execution_count": 11,
   "metadata": {},
   "outputs": [
    {
     "data": {
      "image/png": "[encoded data removed]",
      "text/plain": [
       "<Figure size 576x576 with 1 Axes>"
      ]
     },
     "metadata": {
      "needs_background": "light"
     },
     "output_type": "display_data"
    }
   ],
   "source": [
    "fig, ax = plt.subplots(figsize = (8,8)) \n",
    "ax.scatter(learning_rates, losses)\n",
    "ax.scatter(learning_rates, KLs)\n",
    "\n",
    "ax.set_xlabel('learning_rate')\n",
    "ax.set_ylabel(' Loss ')\n",
    "ax.set_xscale('log')"
   ]
  },
  {
   "cell_type": "markdown",
   "metadata": {},
   "source": [
    "## influence du nombre du nombre d'epochs"
   ]
  },
  {
   "cell_type": "code",
   "execution_count": 12,
   "metadata": {},
   "outputs": [
    {
     "name": "stdout",
     "output_type": "stream",
     "text": [
      "num_epochs: 300, Loss: 0.40184, KL: 0.39566.\n",
      "num_epochs: 416, Loss: 0.36949, KL: 0.38373.\n",
      "num_epochs: 579, Loss: 0.38390, KL: 0.39039.\n",
      "num_epochs: 804, Loss: 0.40171, KL: 0.39405.\n",
      "num_epochs: 1118, Loss: 0.41598, KL: 0.38818.\n",
      "num_epochs: 1553, Loss: 0.40625, KL: 0.39378.\n",
      "num_epochs: 2159, Loss: 0.36003, KL: 0.39008.\n",
      "num_epochs: 3000, Loss: 0.34255, KL: 0.38502.\n",
      "num_epochs: 4168, Loss: 0.38635, KL: 0.38264.\n",
      "num_epochs: 5792, Loss: 0.42134, KL: 0.40609.\n",
      "num_epochs: 8048, Loss: 0.41068, KL: 0.39037.\n",
      "num_epochs: 11182, Loss: 0.39806, KL: 0.38531.\n",
      "num_epochs: 15538, Loss: 0.38629, KL: 0.37522.\n",
      "num_epochs: 21590, Loss: 0.43365, KL: 0.39192.\n",
      "num_epochs: 30000, Loss: 0.38995, KL: 0.39426.\n"
     ]
    }
   ],
   "source": [
    "num_epochss = num_epochs * np.logspace(-1, 1, 15, base=10)\n",
    "losses, KLs = [], []\n",
    "for num_epochs_ in num_epochss:\n",
    "    theta, p, y = get_data()\n",
    "    logistic_model, loss = fit_data(theta, y, num_epochs=int(num_epochs_), verbose=False)\n",
    "    theta, p, y = get_data(N=1000) # nouvelles données \n",
    "    labels = torch.Tensor(y[:, None])\n",
    "    Theta = torch.Tensor(theta[:, None])\n",
    "    outputs = logistic_model(Theta)\n",
    "\n",
    "    loss = criterion(outputs, labels).item()\n",
    "    KL = criterion(outputs, torch.Tensor(p[:, None])).item()\n",
    "    print(f\"num_epochs: {int(num_epochs_)}, Loss: {loss:.5f}, KL: {KL:.5f}.\")\n",
    "    KLs.append(KL)\n",
    "    losses.append(loss)"
   ]
  },
  {
   "cell_type": "code",
   "execution_count": 13,
   "metadata": {},
   "outputs": [
    {
     "data": {
      "text/plain": [
       "Text(0, 0.5, ' Loss ')"
      ]
     },
     "execution_count": 13,
     "metadata": {},
     "output_type": "execute_result"
    },
    {
     "data": {
      "image/png": "[encoded data removed]",
      "text/plain": [
       "<Figure size 576x576 with 1 Axes>"
      ]
     },
     "metadata": {
      "needs_background": "light"
     },
     "output_type": "display_data"
    }
   ],
   "source": [
    "plt.figure(figsize = (8,8)) \n",
    "plt.scatter(num_epochss, losses)\n",
    "plt.scatter(num_epochss, KLs)\n",
    "plt.xlabel(' num_epochss')\n",
    "plt.ylabel(' Loss ')"
   ]
  }
 ],
 "metadata": {
  "kernelspec": {
   "display_name": "Python 3",
   "language": "python",
   "name": "python3"
  },
  "language_info": {
   "codemirror_mode": {
    "name": "ipython",
    "version": 3
   },
   "file_extension": ".py",
   "mimetype": "text/x-python",
   "name": "python",
   "nbconvert_exporter": "python",
   "pygments_lexer": "ipython3",
   "version": "3.7.6"
  },
  "nteract": {
   "version": "0.21.0"
  }
 },
 "nbformat": 4,
 "nbformat_minor": 4
}
