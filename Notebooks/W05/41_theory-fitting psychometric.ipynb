{
 "cells": [
  {
   "cell_type": "markdown",
   "metadata": {},
   "source": [
    "# \"Cross-validation\" des modèles"
   ]
  },
  {
   "cell_type": "code",
   "execution_count": 1,
   "metadata": {},
   "outputs": [],
   "source": [
    "import numpy as np\n",
    "import matplotlib.pyplot as plt"
   ]
  },
  {
   "cell_type": "code",
   "execution_count": 2,
   "metadata": {},
   "outputs": [],
   "source": [
    "#Hyper-parametres\n",
    "learning_rate = 0.04\n",
    "num_epochs = 400\n",
    "N = 100\n",
    "N_cv = 40\n",
    "seed = 42\n",
    "batch_size = N//4\n",
    "#batch_size = N//2\n",
    "N_test = 0\n",
    "N_test = 1000\n",
    "N_scan = 9\n",
    "bias = True\n",
    "\n",
    "\n",
    "p0 = 0.05 #lapse rate\n",
    "theta0 = 0\n",
    "wt = np.pi/20\n",
    "theta_std = np.pi/6\n",
    "\n"
   ]
  },
  {
   "cell_type": "markdown",
   "metadata": {},
   "source": [
    "## Creer des données synthetiques "
   ]
  },
  {
   "cell_type": "code",
   "execution_count": 3,
   "metadata": {},
   "outputs": [],
   "source": [
    "def get_data(\n",
    "            N = N,\n",
    "            p0 = p0,\n",
    "            theta0 = theta0,\n",
    "            wt = wt,\n",
    "            theta_std = theta_std,\n",
    "            seed=seed):\n",
    "    np.random.seed(42)\n",
    "    theta = np.random.randn(N)*theta_std\n",
    "    a = (theta-theta0)/wt\n",
    "    p = 1/(1+np.exp(-a))\n",
    "    \n",
    "    p = p0/2 + (1-p0) * p #add lapse rate\n",
    "    y = np.random.rand(N) < p #generate data\n",
    "    return theta, p, y"
   ]
  },
  {
   "cell_type": "code",
   "execution_count": 4,
   "metadata": {},
   "outputs": [],
   "source": [
    "import torch\n",
    "from torch.utils.data import TensorDataset, DataLoader\n",
    "torch.set_default_tensor_type('torch.DoubleTensor')\n",
    "criterion = torch.nn.BCELoss()\n",
    "\n",
    "class LogisticRegressionModel(torch.nn.Module):\n",
    "    def __init__(self, bias=True, logit0=-2): #-2 ?\n",
    "        super(LogisticRegressionModel, self).__init__()\n",
    "        self.linear = torch.nn.Linear(1, 1, bias=bias)    \n",
    "        self.logit0 = torch.nn.Parameter(logit0*torch.ones(1))\n",
    "\n",
    "    def forward(self, theta):\n",
    "        out = self.logit0.sigmoid()/2 + (1-self.logit0.sigmoid())*self.linear(theta).sigmoid()\n",
    "        return out\n",
    "        \n",
    "\n",
    "def fit_data(theta, y, \n",
    "                learning_rate =learning_rate,\n",
    "                num_epochs = num_epochs,\n",
    "                batch_size = batch_size,\n",
    "                verbose=False):\n",
    "\n",
    "    logistic_model = LogisticRegressionModel()\n",
    "\n",
    "    labels = torch.Tensor(y[:, None])\n",
    "    Theta = torch.Tensor(theta[:, None])\n",
    "\n",
    "    loader = DataLoader(TensorDataset(Theta, labels), batch_size=batch_size, shuffle=True)\n",
    "    optimizer = torch.optim.Adam(logistic_model.parameters(), lr=learning_rate/len(loader))\n",
    "    \n",
    "    for epoch in range(int(num_epochs)):\n",
    "        losses = []\n",
    "        for Theta_, labels_ in loader:\n",
    "            optimizer.zero_grad()\n",
    "            outputs = logistic_model(Theta_)\n",
    "            loss = criterion(outputs, labels_)\n",
    "            loss.backward()\n",
    "            optimizer.step()\n",
    "            losses.append(loss.item())\n",
    "        \n",
    "        if verbose and (epoch % (num_epochs//32) == 0) : \n",
    "            print(f\"Iteration: {epoch} - Loss: {np.mean(losses):.5f}\")\n",
    "\n",
    "    logistic_model.eval()\n",
    "    return logistic_model, np.mean(losses)"
   ]
  },
  {
   "cell_type": "code",
   "execution_count": 5,
   "metadata": {},
   "outputs": [
    {
     "data": {
      "text/plain": [
       "tensor([0.0474])"
      ]
     },
     "execution_count": 5,
     "metadata": {},
     "output_type": "execute_result"
    }
   ],
   "source": [
    "torch.sigmoid(torch.tensor([-3.]))"
   ]
  },
  {
   "cell_type": "code",
   "execution_count": 6,
   "metadata": {},
   "outputs": [
    {
     "name": "stdout",
     "output_type": "stream",
     "text": [
      "40.8 µs ± 475 ns per loop (mean ± std. dev. of 7 runs, 10000 loops each)\n"
     ]
    }
   ],
   "source": [
    "%%timeit\n",
    "theta, p, y = get_data()"
   ]
  },
  {
   "cell_type": "code",
   "execution_count": 7,
   "metadata": {},
   "outputs": [
    {
     "name": "stdout",
     "output_type": "stream",
     "text": [
      "Iteration: 0 - Loss: 0.68397\n",
      "Iteration: 12 - Loss: 0.61987\n",
      "Iteration: 24 - Loss: 0.57180\n",
      "Iteration: 36 - Loss: 0.53603\n",
      "Iteration: 48 - Loss: 0.50966\n",
      "Iteration: 60 - Loss: 0.49025\n",
      "Iteration: 72 - Loss: 0.47558\n",
      "Iteration: 84 - Loss: 0.46454\n",
      "Iteration: 96 - Loss: 0.45594\n",
      "Iteration: 108 - Loss: 0.44936\n",
      "Iteration: 120 - Loss: 0.44417\n",
      "Iteration: 132 - Loss: 0.44005\n",
      "Iteration: 144 - Loss: 0.43683\n",
      "Iteration: 156 - Loss: 0.43434\n",
      "Iteration: 168 - Loss: 0.43226\n",
      "Iteration: 180 - Loss: 0.43062\n",
      "Iteration: 192 - Loss: 0.42929\n",
      "Iteration: 204 - Loss: 0.42827\n",
      "Iteration: 216 - Loss: 0.42747\n",
      "Iteration: 228 - Loss: 0.42694\n",
      "Iteration: 240 - Loss: 0.42630\n",
      "Iteration: 252 - Loss: 0.42593\n",
      "Iteration: 264 - Loss: 0.42557\n",
      "Iteration: 276 - Loss: 0.42530\n",
      "Iteration: 288 - Loss: 0.42510\n",
      "Iteration: 300 - Loss: 0.42504\n",
      "Iteration: 312 - Loss: 0.42483\n",
      "Iteration: 324 - Loss: 0.42470\n",
      "Iteration: 336 - Loss: 0.42463\n",
      "Iteration: 348 - Loss: 0.42457\n",
      "Iteration: 360 - Loss: 0.42451\n",
      "Iteration: 372 - Loss: 0.42456\n",
      "Iteration: 384 - Loss: 0.42446\n",
      "Iteration: 396 - Loss: 0.42448\n"
     ]
    }
   ],
   "source": [
    "theta, p, y = get_data()\n",
    "logistic_model, loss = fit_data(theta, y,verbose=True) "
   ]
  },
  {
   "cell_type": "code",
   "execution_count": 8,
   "metadata": {},
   "outputs": [
    {
     "name": "stdout",
     "output_type": "stream",
     "text": [
      "bias 0.01772402909160355\n",
      "slope 4.908476725057404\n",
      "p0 0.0013175371722360133\n"
     ]
    }
   ],
   "source": [
    "with torch.no_grad():\n",
    "    if bias: print('bias', logistic_model.linear.bias.item())\n",
    "    print('slope', logistic_model.linear.weight.item())    \n",
    "    print('p0', torch.sigmoid(logistic_model.logit0).item())\n"
   ]
  },
  {
   "cell_type": "code",
   "execution_count": 9,
   "metadata": {},
   "outputs": [
    {
     "name": "stdout",
     "output_type": "stream",
     "text": [
      "loss= 0.424450247491\n"
     ]
    },
    {
     "data": {
      "image/png": "[encoded data removed]",
      "text/plain": [
       "<matplotlib.figure.Figure at 0x7f629b66a1d0>"
      ]
     },
     "metadata": {
      "needs_background": "light"
     },
     "output_type": "display_data"
    }
   ],
   "source": [
    "print('loss=', loss)\n",
    "plt.figure(figsize = (9,6)) \n",
    "plt.scatter(theta, p, s=4, color = 'r', label='proba cachées')\n",
    "plt.scatter(theta, y, s=1, alpha=.1, color = 'b', label='données')\n",
    "x_values = np.linspace(-1.5, 1.50, 100)[:, None]\n",
    "y_values = logistic_model(torch.Tensor(x_values)).detach().numpy()\n",
    "plt.plot(x_values, y_values, 'g', alpha=.7, lw=3, label='proba prédites')\n",
    "plt.xlabel(r'$\\theta$')\n",
    "plt.yticks([0.,1.],['Left', 'Right']);\n",
    "plt.legend();\n"
   ]
  },
  {
   "cell_type": "code",
   "execution_count": 10,
   "metadata": {},
   "outputs": [
    {
     "name": "stdout",
     "output_type": "stream",
     "text": [
      "2.22 s ± 72.8 ms per loop (mean ± std. dev. of 7 runs, 1 loop each)\n"
     ]
    }
   ],
   "source": [
    "%%timeit\n",
    "logistic_model, loss = fit_data(theta, y, verbose=False)"
   ]
  },
  {
   "cell_type": "markdown",
   "metadata": {},
   "source": [
    "## validation"
   ]
  },
  {
   "cell_type": "code",
   "execution_count": 11,
   "metadata": {},
   "outputs": [
    {
     "name": "stdout",
     "output_type": "stream",
     "text": [
      "loss= tensor(0.4244, grad_fn=<BinaryCrossEntropyBackward>)\n"
     ]
    },
    {
     "data": {
      "image/png": "[encoded data removed]",
      "text/plain": [
       "<matplotlib.figure.Figure at 0x7f624ca468d0>"
      ]
     },
     "metadata": {
      "needs_background": "light"
     },
     "output_type": "display_data"
    }
   ],
   "source": [
    "theta, p, y = get_data() # nouvelles données \n",
    "\n",
    "labels = torch.Tensor(y[:, None])\n",
    "Theta = torch.Tensor(theta[:, None])\n",
    "outputs = logistic_model(Theta)\n",
    "loss = criterion(outputs, labels)\n",
    "print('loss=', loss)\n",
    "plt.figure(figsize = (8,6)) \n",
    "plt.scatter(theta, p, s=4, color = 'r', label='proba cachées')\n",
    "plt.scatter(theta, y, s=1, alpha=.1, color = 'b', label='données')\n",
    "x_values = np.linspace(-1.5, 1.50, 100)[:, None]\n",
    "y_values = logistic_model(torch.Tensor(x_values)).detach().numpy()\n",
    "plt.plot(x_values, y_values, 'g', alpha=.7, lw=3, label='proba prédites')\n",
    "plt.xlabel(r'$\\theta$')\n",
    "plt.yticks([0.,1.],['Left', 'Right']);\n",
    "plt.legend();"
   ]
  },
  {
   "cell_type": "markdown",
   "metadata": {},
   "source": [
    "## influence du nombre de trials"
   ]
  },
  {
   "cell_type": "code",
   "execution_count": 12,
   "metadata": {},
   "outputs": [
    {
     "name": "stdout",
     "output_type": "stream",
     "text": [
      "N: 10, Loss: 0.50191, loss_P: 0.49376, loss_P0: 0.38791\n",
      "N: 17, Loss: 0.44292, loss_P: 0.43854, loss_P0: 0.38791\n",
      "N: 31, Loss: 0.39036, loss_P: 0.39555, loss_P0: 0.38791\n",
      "N: 56, Loss: 0.38422, loss_P: 0.39295, loss_P0: 0.38791\n",
      "N: 100, Loss: 0.38552, loss_P: 0.39182, loss_P0: 0.38791\n",
      "N: 177, Loss: 0.39091, loss_P: 0.39431, loss_P0: 0.38791\n",
      "N: 316, Loss: 0.38555, loss_P: 0.38898, loss_P0: 0.38791\n",
      "N: 562, Loss: 0.38261, loss_P: 0.38944, loss_P0: 0.38791\n",
      "N: 1000, Loss: 0.38201, loss_P: 0.39001, loss_P0: 0.38791\n"
     ]
    }
   ],
   "source": [
    "Ns = np.logspace(1, 3, N_scan, base=10)\n",
    "\n",
    "Ns_, losses, loss_Ps, loss_P0s = [], [], [], []\n",
    "\n",
    "for N_ in Ns:\n",
    "    for i_CV in range(N_cv):\n",
    "        theta, p, y = get_data(N=int(N_), seed=seed+i_CV)\n",
    "        logistic_model, loss = fit_data(theta, y, verbose=False)\n",
    "        \n",
    "        if N_test>0: theta, p, y = get_data(N=N_test) # nouvelles données \n",
    "        labels = torch.Tensor(y[:, None])\n",
    "        Theta = torch.Tensor(theta[:, None])\n",
    "        P = torch.Tensor(p[:, None])\n",
    "        \n",
    "        outputs = logistic_model(Theta)\n",
    "        loss = criterion(outputs, labels).item()\n",
    "    \n",
    "        loss_P = criterion(outputs, P).item() \n",
    "        loss_P0 = criterion(P, P).item()\n",
    "        \n",
    "        if i_CV==0: print(f\"N: {int(N_)}, Loss: {loss:.5f}, loss_P: {loss_P:.5f}, loss_P0: {loss_P0:.5f}\")\n",
    "        loss_P0s.append(loss_P0)\n",
    "        Ns_.append(N_)\n",
    "        loss_Ps.append(loss_P)\n",
    "        losses.append(loss)\n",
    "    "
   ]
  },
  {
   "cell_type": "code",
   "execution_count": 13,
   "metadata": {},
   "outputs": [
    {
     "data": {
      "image/png": "[encoded data removed]",
      "text/plain": [
       "<matplotlib.figure.Figure at 0x7f624c95c668>"
      ]
     },
     "metadata": {
      "needs_background": "light"
     },
     "output_type": "display_data"
    }
   ],
   "source": [
    "#plot\n",
    "\n",
    "fig, ax = plt.subplots(figsize = (15, 8)) \n",
    "ax.scatter(Ns_, losses, alpha=3/N_cv, label='loss')\n",
    "ax.scatter(Ns_, loss_Ps, alpha=3/N_cv, label='loss_P')\n",
    "ax.plot(Ns_, loss_P0s, label='loss_P0')\n",
    "\n",
    "ax.set_xlabel(' # trials')\n",
    "ax.set_ylabel(' Loss ')\n",
    "ax.set_xscale('log')"
   ]
  },
  {
   "cell_type": "code",
   "execution_count": 14,
   "metadata": {},
   "outputs": [
    {
     "data": {
      "image/png": "[encoded data removed]",
      "text/plain": [
       "<matplotlib.figure.Figure at 0x7f624c96bef0>"
      ]
     },
     "metadata": {
      "needs_background": "light"
     },
     "output_type": "display_data"
    }
   ],
   "source": [
    "#figure pas très utile...juste une meilleure \"visualisation\"\n",
    "\n",
    "fig, ax = plt.subplots(figsize = (15, 8)) \n",
    "ax.plot(Ns_,losses,label='loss')\n",
    "ax.plot(Ns_, loss_Ps, label='loss_P')\n",
    "#ax.plot(Ns_, loss_P0s, label='loss_P0')\n",
    "ax.set_xscale('log') #hum.\n",
    "plt.xlabel(\"# trials\")\n",
    "plt.ylabel(\"Loss\")\n",
    "plt.legend()\n",
    "plt.show()"
   ]
  },
  {
   "cell_type": "markdown",
   "metadata": {},
   "source": [
    " ### Données générées vs predictions"
   ]
  },
  {
   "cell_type": "code",
   "execution_count": 15,
   "metadata": {},
   "outputs": [
    {
     "name": "stdout",
     "output_type": "stream",
     "text": [
      " Loss: 0.38274, loss_P: 0.39076, loss_P0: 0.38791, theta0: -0.11725\n",
      " Loss: 0.38285, loss_P: 0.39089, loss_P0: 0.38791, theta0: -0.11625\n",
      " Loss: 0.38290, loss_P: 0.39094, loss_P0: 0.38791, theta0: -0.11529\n",
      " Loss: 0.38250, loss_P: 0.39046, loss_P0: 0.38791, theta0: -0.12010\n",
      " Loss: 0.38280, loss_P: 0.39078, loss_P0: 0.38791, theta0: -0.11331\n",
      " Loss: 0.38255, loss_P: 0.39047, loss_P0: 0.38791, theta0: -0.11508\n",
      " Loss: 0.38232, loss_P: 0.39026, loss_P0: 0.38791, theta0: -0.12226\n",
      " Loss: 0.38281, loss_P: 0.39081, loss_P0: 0.38791, theta0: -0.11527\n",
      " Loss: 0.38197, loss_P: 0.38995, loss_P0: 0.38791, theta0: -0.12876\n",
      " Loss: 0.38235, loss_P: 0.39029, loss_P0: 0.38791, theta0: -0.12177\n",
      " Loss: 0.38275, loss_P: 0.39074, loss_P0: 0.38791, theta0: -0.11594\n",
      " Loss: 0.38225, loss_P: 0.39015, loss_P0: 0.38791, theta0: -0.12001\n",
      " Loss: 0.38206, loss_P: 0.39001, loss_P0: 0.38791, theta0: -0.12549\n",
      " Loss: 0.38225, loss_P: 0.39020, loss_P0: 0.38791, theta0: -0.12211\n",
      " Loss: 0.38303, loss_P: 0.39110, loss_P0: 0.38791, theta0: -0.11250\n",
      " Loss: 0.38268, loss_P: 0.39067, loss_P0: 0.38791, theta0: -0.11706\n",
      " Loss: 0.38286, loss_P: 0.39084, loss_P0: 0.38791, theta0: -0.11195\n",
      " Loss: 0.38261, loss_P: 0.39058, loss_P0: 0.38791, theta0: -0.11756\n",
      " Loss: 0.38286, loss_P: 0.39085, loss_P0: 0.38791, theta0: -0.11272\n",
      " Loss: 0.38228, loss_P: 0.39020, loss_P0: 0.38791, theta0: -0.11988\n",
      " Loss: 0.38266, loss_P: 0.39062, loss_P0: 0.38791, theta0: -0.11474\n",
      " Loss: 0.38220, loss_P: 0.39017, loss_P0: 0.38791, theta0: -0.12533\n",
      " Loss: 0.38294, loss_P: 0.39094, loss_P0: 0.38791, theta0: -0.11082\n",
      " Loss: 0.38243, loss_P: 0.39035, loss_P0: 0.38791, theta0: -0.11861\n",
      " Loss: 0.38234, loss_P: 0.39027, loss_P0: 0.38791, theta0: -0.11980\n",
      " Loss: 0.38268, loss_P: 0.39065, loss_P0: 0.38791, theta0: -0.11577\n",
      " Loss: 0.38215, loss_P: 0.39012, loss_P0: 0.38791, theta0: -0.12567\n",
      " Loss: 0.38298, loss_P: 0.39103, loss_P0: 0.38791, theta0: -0.11299\n",
      " Loss: 0.38186, loss_P: 0.38983, loss_P0: 0.38791, theta0: -0.12914\n",
      " Loss: 0.38231, loss_P: 0.39029, loss_P0: 0.38791, theta0: -0.12422\n",
      " Loss: 0.38213, loss_P: 0.39012, loss_P0: 0.38791, theta0: -0.12793\n",
      " Loss: 0.38300, loss_P: 0.39107, loss_P0: 0.38791, theta0: -0.11424\n",
      " Loss: 0.38209, loss_P: 0.39006, loss_P0: 0.38791, theta0: -0.12704\n",
      " Loss: 0.38268, loss_P: 0.39067, loss_P0: 0.38791, theta0: -0.11785\n",
      " Loss: 0.38224, loss_P: 0.39020, loss_P0: 0.38791, theta0: -0.12347\n",
      " Loss: 0.38265, loss_P: 0.39066, loss_P0: 0.38791, theta0: -0.11897\n",
      " Loss: 0.38253, loss_P: 0.39050, loss_P0: 0.38791, theta0: -0.11846\n",
      " Loss: 0.38242, loss_P: 0.39037, loss_P0: 0.38791, theta0: -0.12043\n",
      " Loss: 0.38293, loss_P: 0.39097, loss_P0: 0.38791, theta0: -0.11372\n",
      " Loss: 0.38307, loss_P: 0.39112, loss_P0: 0.38791, theta0: -0.11073\n",
      " Loss: 0.38237, loss_P: 0.39032, loss_P0: 0.38791, theta0: -0.12189\n",
      " Loss: 0.38211, loss_P: 0.39004, loss_P0: 0.38791, theta0: -0.12317\n",
      " Loss: 0.38229, loss_P: 0.39021, loss_P0: 0.38791, theta0: -0.12102\n",
      " Loss: 0.38195, loss_P: 0.38989, loss_P0: 0.38791, theta0: -0.12605\n",
      " Loss: 0.38266, loss_P: 0.39063, loss_P0: 0.38791, theta0: -0.11651\n",
      " Loss: 0.38301, loss_P: 0.39104, loss_P0: 0.38791, theta0: -0.11045\n",
      " Loss: 0.38229, loss_P: 0.39022, loss_P0: 0.38791, theta0: -0.12153\n",
      " Loss: 0.38225, loss_P: 0.39020, loss_P0: 0.38791, theta0: -0.12322\n",
      " Loss: 0.38196, loss_P: 0.38994, loss_P0: 0.38791, theta0: -0.12913\n",
      " Loss: 0.38271, loss_P: 0.39067, loss_P0: 0.38791, theta0: -0.11537\n"
     ]
    }
   ],
   "source": [
    "#theta0 prediction/generate\n",
    "\n",
    "theta0s = np.random.randn(50)\n",
    "theta0_s = []\n",
    "\n",
    "for theta0_predict in theta0s:\n",
    "    for i_CV in range(N_cv):\n",
    "        theta, p, y = get_data(N=int(N_), seed=seed+i_CV)\n",
    "        logistic_model, loss = fit_data(theta, y, verbose=False)\n",
    "        \n",
    "        if N_test>0: theta, p, y = get_data(N=N_test) # nouvelles données \n",
    "        labels = torch.Tensor(y[:, None])\n",
    "        Theta = torch.Tensor(theta[:, None])\n",
    "        P = torch.Tensor(p[:, None])\n",
    "        \n",
    "        outputs = logistic_model(Theta)\n",
    "        loss = criterion(outputs, labels).item()\n",
    "        \n",
    "        theta0_predict = logistic_model.linear.bias.item()\n",
    "    \n",
    "        loss_P = criterion(outputs, P).item() \n",
    "        loss_P0 = criterion(P, P).item()\n",
    "        \n",
    "        if i_CV==0: print(f\" Loss: {loss:.5f}, loss_P: {loss_P:.5f}, loss_P0: {loss_P0:.5f}, theta0: {theta0_predict:.5f}\")\n",
    "        loss_P0s.append(loss_P0)\n",
    "        theta0_s.append(theta0_predict)\n",
    "        loss_Ps.append(loss_P)\n",
    "        losses.append(loss)"
   ]
  },
  {
   "cell_type": "markdown",
   "metadata": {},
   "source": [
    "## influence du nombre du learning rate\n"
   ]
  },
  {
   "cell_type": "code",
   "execution_count": 16,
   "metadata": {},
   "outputs": [
    {
     "name": "stdout",
     "output_type": "stream",
     "text": [
      "learning_rate: 0.00400, Loss: 0.57369, loss_P: 0.57574, loss_P0: 0.38791\n",
      "learning_rate: 0.00711, Loss: 0.46601, loss_P: 0.46935, loss_P0: 0.38791\n",
      "learning_rate: 0.01265, Loss: 0.41506, loss_P: 0.41964, loss_P0: 0.38791\n",
      "learning_rate: 0.02249, Loss: 0.39441, loss_P: 0.39982, loss_P0: 0.38791\n",
      "learning_rate: 0.04000, Loss: 0.38569, loss_P: 0.39195, loss_P0: 0.38791\n",
      "learning_rate: 0.07113, Loss: 0.38536, loss_P: 0.39201, loss_P0: 0.38791\n",
      "learning_rate: 0.12649, Loss: 0.38557, loss_P: 0.39225, loss_P0: 0.38791\n",
      "learning_rate: 0.22494, Loss: 0.38536, loss_P: 0.39229, loss_P0: 0.38791\n",
      "learning_rate: 0.40000, Loss: 0.38559, loss_P: 0.39231, loss_P0: 0.38791\n"
     ]
    }
   ],
   "source": [
    "learning_rates = learning_rate * np.logspace(-1, 1, N_scan, base=10)\n",
    "learning_rates_, losses, loss_Ps, loss_P0s = [], [], [], []\n",
    "for learning_rate_ in learning_rates:\n",
    "    for i_CV in range(N_cv):\n",
    "        theta, p, y = get_data(seed=seed+i_CV)\n",
    "        logistic_model, loss = fit_data(theta, y, learning_rate=learning_rate_, verbose=False)\n",
    "\n",
    "        if N_test>0: theta, p, y = get_data(N=N_test) # nouvelles données \n",
    "        labels = torch.Tensor(y[:, None])\n",
    "        Theta = torch.Tensor(theta[:, None])\n",
    "        outputs = logistic_model(Theta)\n",
    "\n",
    "        loss = criterion(outputs, labels).item()\n",
    "        loss_P = criterion(outputs, torch.Tensor(p[:, None])).item()\n",
    "        loss_P0 = criterion(torch.Tensor(p[:, None]), torch.Tensor(p[:, None])).item()\n",
    "        if i_CV==0: \n",
    "            print(f\"learning_rate: {learning_rate_:.5f}, Loss: {loss:.5f}, loss_P: {loss_P:.5f}, loss_P0: {loss_P0:.5f}\")\n",
    "        learning_rates_.append(learning_rate_)\n",
    "        loss_P0s.append(loss_P0)\n",
    "        loss_Ps.append(loss_P)\n",
    "        losses.append(loss)"
   ]
  },
  {
   "cell_type": "code",
   "execution_count": 17,
   "metadata": {},
   "outputs": [
    {
     "data": {
      "image/png": "[encoded data removed]",
      "text/plain": [
       "<matplotlib.figure.Figure at 0x7f624c698a20>"
      ]
     },
     "metadata": {
      "needs_background": "light"
     },
     "output_type": "display_data"
    }
   ],
   "source": [
    "#influence du learning rate sur loss\n",
    "\n",
    "fig, ax = plt.subplots(figsize = (15, 8)) \n",
    "ax.scatter(learning_rates_, losses, alpha=3/N_cv, label='loss')\n",
    "ax.scatter(learning_rates_, loss_Ps, alpha=3/N_cv, label='loss_P')\n",
    "ax.plot(learning_rates_, loss_P0s, label='loss_P0')\n",
    "ax.set_xlim(np.min(learning_rates_), np.max(learning_rates_))\n",
    "\n",
    "ax.set_xlabel('learning_rate')\n",
    "ax.set_ylabel(' Loss ')\n",
    "ax.set_xscale('log')\n",
    "ax.legend(loc='best');"
   ]
  },
  {
   "cell_type": "markdown",
   "metadata": {},
   "source": [
    "## influence du nombre d'epochs"
   ]
  },
  {
   "cell_type": "code",
   "execution_count": 18,
   "metadata": {},
   "outputs": [
    {
     "name": "stdout",
     "output_type": "stream",
     "text": [
      "num_epochs: 40, Loss: 0.54001, loss_P: 0.54240, loss_P0: 0.38791\n",
      "num_epochs: 71, Loss: 0.49909, loss_P: 0.50210, loss_P0: 0.38791\n",
      "num_epochs: 126, Loss: 0.39948, loss_P: 0.40459, loss_P0: 0.38791\n",
      "num_epochs: 224, Loss: 0.38873, loss_P: 0.39457, loss_P0: 0.38791\n",
      "num_epochs: 400, Loss: 0.38566, loss_P: 0.39204, loss_P0: 0.38791\n",
      "num_epochs: 711, Loss: 0.38537, loss_P: 0.39208, loss_P0: 0.38791\n",
      "num_epochs: 1264, Loss: 0.38553, loss_P: 0.39224, loss_P0: 0.38791\n",
      "num_epochs: 2249, Loss: 0.38555, loss_P: 0.39236, loss_P0: 0.38791\n",
      "num_epochs: 4000, Loss: 0.38551, loss_P: 0.39237, loss_P0: 0.38791\n"
     ]
    }
   ],
   "source": [
    "num_epochss = num_epochs * np.logspace(-1, 1, N_scan, base=10)\n",
    "num_epochss_, losses, loss_Ps, loss_P0s = [], [], [], []\n",
    "for num_epochs_ in num_epochss:\n",
    "    for i_CV in range(N_cv):\n",
    "        theta, p, y = get_data(seed=seed+i_CV)\n",
    "        logistic_model, loss = fit_data(theta, y, num_epochs=int(num_epochs_), verbose=False)\n",
    "        \n",
    "        if N_test>0: theta, p, y = get_data(N=N_test) # nouvelles données \n",
    "        labels = torch.Tensor(y[:, None])\n",
    "        Theta = torch.Tensor(theta[:, None])\n",
    "        outputs = logistic_model(Theta)\n",
    "\n",
    "        loss = criterion(outputs, labels).item()\n",
    "        loss_P = criterion(outputs, torch.Tensor(p[:, None])).item()\n",
    "        loss_P0 = criterion(torch.Tensor(p[:, None]), torch.Tensor(p[:, None])).item()\n",
    "        if i_CV==0: \n",
    "            print(f\"num_epochs: {int(num_epochs_)}, Loss: {loss:.5f}, loss_P: {loss_P:.5f}, loss_P0: {loss_P0:.5f}\")\n",
    "        num_epochss_.append(num_epochs_)\n",
    "        loss_P0s.append(loss_P0)\n",
    "        loss_Ps.append(loss_P)\n",
    "        losses.append(loss)"
   ]
  },
  {
   "cell_type": "code",
   "execution_count": 19,
   "metadata": {},
   "outputs": [
    {
     "data": {
      "image/png": "[encoded data removed]",
      "text/plain": [
       "<matplotlib.figure.Figure at 0x7f624d994860>"
      ]
     },
     "metadata": {
      "needs_background": "light"
     },
     "output_type": "display_data"
    }
   ],
   "source": [
    "# influence du nbr d'epochs sur loss \n",
    "fig, ax = plt.subplots(figsize = (15, 8)) \n",
    "ax.scatter(num_epochss_, losses, alpha=3/N_cv, label='loss')\n",
    "ax.scatter(num_epochss_, loss_Ps, alpha=3/N_cv, label='loss_P')\n",
    "ax.plot(num_epochss_, loss_P0s, label='loss_P0')\n",
    "\n",
    "ax.set_xlabel(' # epochs')\n",
    "ax.set_ylabel(' Loss ')\n",
    "ax.set_xscale('log')\n",
    "ax.legend(loc='best');"
   ]
  },
  {
   "cell_type": "markdown",
   "metadata": {},
   "source": [
    "## influence de la taille du minibatch"
   ]
  },
  {
   "cell_type": "code",
   "execution_count": 20,
   "metadata": {},
   "outputs": [
    {
     "name": "stdout",
     "output_type": "stream",
     "text": [
      "batch_size: 12, Loss: 0.38544, loss_P: 0.39198, loss_P0: 0.38791\n",
      "batch_size: 16, Loss: 0.38591, loss_P: 0.39233, loss_P0: 0.38791\n",
      "batch_size: 21, Loss: 0.38562, loss_P: 0.39218, loss_P0: 0.38791\n",
      "batch_size: 27, Loss: 0.38589, loss_P: 0.39236, loss_P0: 0.38791\n",
      "batch_size: 35, Loss: 0.38568, loss_P: 0.39191, loss_P0: 0.38791\n",
      "batch_size: 45, Loss: 0.38586, loss_P: 0.39219, loss_P0: 0.38791\n",
      "batch_size: 59, Loss: 0.38609, loss_P: 0.39226, loss_P0: 0.38791\n",
      "batch_size: 77, Loss: 0.38713, loss_P: 0.39275, loss_P0: 0.38791\n",
      "batch_size: 100, Loss: 0.38577, loss_P: 0.39217, loss_P0: 0.38791\n"
     ]
    }
   ],
   "source": [
    "batch_sizes = N * np.logspace(-3, 0, N_scan, base=2)\n",
    "batch_sizes_, losses, loss_Ps, loss_P0s = [], [], [], []\n",
    "for batch_size_ in batch_sizes:\n",
    "    for i_CV in range(N_cv):\n",
    "        theta, p, y = get_data(seed=seed+i_CV)\n",
    "        logistic_model, loss = fit_data(theta, y, batch_size=int(batch_size_), verbose=False)\n",
    "        \n",
    "        if N_test>0: theta, p, y = get_data(N=N_test) # nouvelles données \n",
    "        labels = torch.Tensor(y[:, None])\n",
    "        Theta = torch.Tensor(theta[:, None])\n",
    "        outputs = logistic_model(Theta)\n",
    "\n",
    "        loss = criterion(outputs, labels).item()\n",
    "        loss_P = criterion(outputs, torch.Tensor(p[:, None])).item()\n",
    "        loss_P0 = criterion(torch.Tensor(p[:, None]), torch.Tensor(p[:, None])).item()\n",
    "        if i_CV==0: \n",
    "            print(f\"batch_size: {int(batch_size_)}, Loss: {loss:.5f}, loss_P: {loss_P:.5f}, loss_P0: {loss_P0:.5f}\")\n",
    "        batch_sizes_.append(batch_size_)\n",
    "        loss_P0s.append(loss_P0)\n",
    "        loss_Ps.append(loss_P)\n",
    "        losses.append(loss)"
   ]
  },
  {
   "cell_type": "code",
   "execution_count": 21,
   "metadata": {},
   "outputs": [
    {
     "data": {
      "image/png": "[encoded data removed]",
      "text/plain": [
       "<matplotlib.figure.Figure at 0x7f624d994f60>"
      ]
     },
     "metadata": {
      "needs_background": "light"
     },
     "output_type": "display_data"
    }
   ],
   "source": [
    "# influence de la taille du minibatch sur loss \n",
    "\n",
    "fig, ax = plt.subplots(figsize = (15, 8)) \n",
    "ax.scatter(batch_sizes_, losses, alpha=3/N_cv, label='loss')\n",
    "ax.scatter(batch_sizes_, loss_Ps, alpha=3/N_cv, label='loss_P')\n",
    "ax.plot(batch_sizes_, loss_P0s, label='loss_P0')\n",
    "\n",
    "ax.set_xlabel(' batch_size')\n",
    "ax.set_ylabel(' Loss ')\n",
    "ax.set_xscale('log')\n",
    "ax.legend(loc='best');"
   ]
  },
  {
   "cell_type": "markdown",
   "metadata": {},
   "source": [
    "## Comparaison données générées/données prédites"
   ]
  },
  {
   "cell_type": "code",
   "execution_count": 22,
   "metadata": {},
   "outputs": [
    {
     "name": "stdout",
     "output_type": "stream",
     "text": [
      " Loss: 0.38230, loss_P: 0.39019, loss_P0: 0.38791, p0 :  0.01418\n",
      " Loss: 0.38228, loss_P: 0.39022, loss_P0: 0.38791, p0 :  0.01422\n",
      " Loss: 0.38207, loss_P: 0.39004, loss_P0: 0.38791, p0 :  0.01667\n",
      " Loss: 0.38250, loss_P: 0.39044, loss_P0: 0.38791, p0 :  0.01194\n",
      " Loss: 0.38269, loss_P: 0.39066, loss_P0: 0.38791, p0 :  0.01007\n",
      " Loss: 0.38203, loss_P: 0.38996, loss_P0: 0.38791, p0 :  0.01722\n",
      " Loss: 0.38260, loss_P: 0.39058, loss_P0: 0.38791, p0 :  0.01084\n",
      " Loss: 0.38251, loss_P: 0.39046, loss_P0: 0.38791, p0 :  0.01197\n",
      " Loss: 0.38213, loss_P: 0.39009, loss_P0: 0.38791, p0 :  0.01601\n",
      " Loss: 0.38233, loss_P: 0.39030, loss_P0: 0.38791, p0 :  0.01366\n",
      " Loss: 0.38259, loss_P: 0.39056, loss_P0: 0.38791, p0 :  0.01116\n",
      " Loss: 0.38267, loss_P: 0.39065, loss_P0: 0.38791, p0 :  0.01022\n",
      " Loss: 0.38235, loss_P: 0.39029, loss_P0: 0.38791, p0 :  0.01366\n",
      " Loss: 0.38199, loss_P: 0.38995, loss_P0: 0.38791, p0 :  0.01773\n",
      " Loss: 0.38271, loss_P: 0.39071, loss_P0: 0.38791, p0 :  0.00988\n",
      " Loss: 0.38207, loss_P: 0.39004, loss_P0: 0.38791, p0 :  0.01676\n",
      " Loss: 0.38261, loss_P: 0.39057, loss_P0: 0.38791, p0 :  0.01101\n",
      " Loss: 0.38243, loss_P: 0.39041, loss_P0: 0.38791, p0 :  0.01263\n",
      " Loss: 0.38205, loss_P: 0.39002, loss_P0: 0.38791, p0 :  0.01693\n",
      " Loss: 0.38231, loss_P: 0.39029, loss_P0: 0.38791, p0 :  0.01396\n",
      " Loss: 0.38256, loss_P: 0.39051, loss_P0: 0.38791, p0 :  0.01134\n",
      " Loss: 0.38245, loss_P: 0.39040, loss_P0: 0.38791, p0 :  0.01262\n",
      " Loss: 0.38297, loss_P: 0.39100, loss_P0: 0.38791, p0 :  0.00757\n",
      " Loss: 0.38255, loss_P: 0.39052, loss_P0: 0.38791, p0 :  0.01144\n",
      " Loss: 0.38207, loss_P: 0.39005, loss_P0: 0.38791, p0 :  0.01665\n",
      " Loss: 0.38242, loss_P: 0.39036, loss_P0: 0.38791, p0 :  0.01295\n",
      " Loss: 0.38279, loss_P: 0.39078, loss_P0: 0.38791, p0 :  0.00913\n",
      " Loss: 0.38239, loss_P: 0.39035, loss_P0: 0.38791, p0 :  0.01303\n",
      " Loss: 0.38230, loss_P: 0.39024, loss_P0: 0.38791, p0 :  0.01403\n",
      " Loss: 0.38208, loss_P: 0.39003, loss_P0: 0.38791, p0 :  0.01652\n"
     ]
    }
   ],
   "source": [
    "# p0 prediction/generate\n",
    "\n",
    "p0s = np.linspace(0,1,30)[:, None] #hum..\n",
    "p0_s = []\n",
    "\n",
    "\n",
    "for p0_predict in p0s:\n",
    "    for i_CV in range(N_cv):\n",
    "        theta, p, y = get_data(N=int(N_), seed=seed+i_CV)\n",
    "        logistic_model, loss = fit_data(theta, y, verbose=False)\n",
    "\n",
    "        if N_test>0: theta, p, y = get_data(N=N_test) # nouvelles données \n",
    "        labels = torch.Tensor(y[:, None])\n",
    "        Theta = torch.Tensor(theta[:, None])\n",
    "        P = torch.Tensor(p[:, None])\n",
    "\n",
    "        outputs = logistic_model(Theta)\n",
    "        loss = criterion(outputs, labels).item()\n",
    "\n",
    "        loss_P = criterion(outputs, P).item() \n",
    "        loss_P0 = criterion(P, P).item()\n",
    "        \n",
    "        p0_predict = torch.sigmoid(logistic_model.logit0).item()\n",
    "        \n",
    "\n",
    "        if i_CV==0: print(f\" Loss: {loss:.5f}, loss_P: {loss_P:.5f}, loss_P0: {loss_P0:.5f}, p0 : {p0_predict: .5f}\")\n",
    "        loss_P0s.append(loss_P0)\n",
    "        p0_s.append(p0_predict)\n",
    "        loss_Ps.append(loss_P)\n",
    "        losses.append(loss)\n",
    "\n"
   ]
  },
  {
   "cell_type": "code",
   "execution_count": 32,
   "metadata": {},
   "outputs": [
    {
     "data": {
      "text/plain": [
       "1200"
      ]
     },
     "execution_count": 32,
     "metadata": {},
     "output_type": "execute_result"
    }
   ],
   "source": [
    "len(p0_s)"
   ]
  },
  {
   "cell_type": "code",
   "execution_count": null,
   "metadata": {},
   "outputs": [],
   "source": [
    "#comparaison du p0 generate avec p0 prédit\n",
    "\n",
    "figure, ax = plt.subplots(figsize = (15, 9)) \n",
    "\n",
    "\n",
    "p0_ = np.full(shape= 1200,fill_value = p0)\n",
    "\n",
    "ax.scatter (p0_s,p0_)\n",
    "ax.set_ylabel('po_generate')\n",
    "ax.set_xlabel('p0_predict')\n",
    "\n",
    "plt.legend()\n",
    "plt.show()\n"
   ]
  },
  {
   "cell_type": "code",
   "execution_count": 26,
   "metadata": {},
   "outputs": [
    {
     "name": "stdout",
     "output_type": "stream",
     "text": [
      " Loss: 0.38217, loss_P: 0.39010, loss_P0: 0.38791, theta0: -0.12351\n",
      " Loss: 0.38308, loss_P: 0.39118, loss_P0: 0.38791, theta0: -0.11365\n",
      " Loss: 0.38249, loss_P: 0.39044, loss_P0: 0.38791, theta0: -0.11774\n",
      " Loss: 0.38209, loss_P: 0.39008, loss_P0: 0.38791, theta0: -0.12769\n",
      " Loss: 0.38206, loss_P: 0.39005, loss_P0: 0.38791, theta0: -0.12838\n",
      " Loss: 0.38239, loss_P: 0.39032, loss_P0: 0.38791, theta0: -0.11975\n",
      " Loss: 0.38190, loss_P: 0.38989, loss_P0: 0.38791, theta0: -0.13049\n",
      " Loss: 0.38228, loss_P: 0.39021, loss_P0: 0.38791, theta0: -0.12113\n",
      " Loss: 0.38253, loss_P: 0.39052, loss_P0: 0.38791, theta0: -0.12055\n",
      " Loss: 0.38190, loss_P: 0.38988, loss_P0: 0.38791, theta0: -0.12930\n",
      " Loss: 0.38292, loss_P: 0.39095, loss_P0: 0.38791, theta0: -0.11432\n",
      " Loss: 0.38245, loss_P: 0.39041, loss_P0: 0.38791, theta0: -0.11919\n",
      " Loss: 0.38268, loss_P: 0.39068, loss_P0: 0.38791, theta0: -0.11784\n",
      " Loss: 0.38245, loss_P: 0.39040, loss_P0: 0.38791, theta0: -0.11947\n",
      " Loss: 0.38243, loss_P: 0.39034, loss_P0: 0.38791, theta0: -0.11709\n",
      " Loss: 0.38263, loss_P: 0.39058, loss_P0: 0.38791, theta0: -0.11657\n",
      " Loss: 0.38298, loss_P: 0.39107, loss_P0: 0.38791, theta0: -0.11634\n",
      " Loss: 0.38288, loss_P: 0.39093, loss_P0: 0.38791, theta0: -0.11572\n",
      " Loss: 0.38292, loss_P: 0.39095, loss_P0: 0.38791, theta0: -0.11359\n",
      " Loss: 0.38263, loss_P: 0.39058, loss_P0: 0.38791, theta0: -0.11655\n",
      " Loss: 0.38203, loss_P: 0.38996, loss_P0: 0.38791, theta0: -0.12515\n",
      " Loss: 0.38251, loss_P: 0.39049, loss_P0: 0.38791, theta0: -0.12112\n",
      " Loss: 0.38221, loss_P: 0.39014, loss_P0: 0.38791, theta0: -0.12183\n",
      " Loss: 0.38258, loss_P: 0.39053, loss_P0: 0.38791, theta0: -0.11669\n",
      " Loss: 0.38242, loss_P: 0.39035, loss_P0: 0.38791, theta0: -0.11964\n",
      " Loss: 0.38252, loss_P: 0.39045, loss_P0: 0.38791, theta0: -0.11772\n",
      " Loss: 0.38261, loss_P: 0.39056, loss_P0: 0.38791, theta0: -0.11564\n",
      " Loss: 0.38220, loss_P: 0.39013, loss_P0: 0.38791, theta0: -0.12230\n",
      " Loss: 0.38237, loss_P: 0.39029, loss_P0: 0.38791, theta0: -0.11870\n",
      " Loss: 0.38273, loss_P: 0.39073, loss_P0: 0.38791, theta0: -0.11709\n"
     ]
    }
   ],
   "source": [
    "#theta0 prediction/generate\n",
    "\n",
    "theta0s = np.random.randn(30)\n",
    "theta0_s = []\n",
    "\n",
    "for theta0_predict in theta0s:\n",
    "    for i_CV in range(N_cv):\n",
    "        theta, p, y = get_data(N=int(N_), seed=seed+i_CV)\n",
    "        logistic_model, loss = fit_data(theta, y, verbose=False)\n",
    "        \n",
    "        if N_test>0: theta, p, y = get_data(N=N_test) # nouvelles données \n",
    "        labels = torch.Tensor(y[:, None])\n",
    "        Theta = torch.Tensor(theta[:, None])\n",
    "        P = torch.Tensor(p[:, None])\n",
    "        \n",
    "        outputs = logistic_model(Theta)\n",
    "        loss = criterion(outputs, labels).item()\n",
    "        \n",
    "        theta0_predict = logistic_model.linear.bias.item()\n",
    "    \n",
    "        loss_P = criterion(outputs, P).item() \n",
    "        loss_P0 = criterion(P, P).item()\n",
    "        \n",
    "        if i_CV==0: print(f\" Loss: {loss:.5f}, loss_P: {loss_P:.5f}, loss_P0: {loss_P0:.5f}, theta0: {theta0_predict:.5f}\")\n",
    "        loss_P0s.append(loss_P0)\n",
    "        theta0_s.append(theta0_predict)\n",
    "        loss_Ps.append(loss_P)\n",
    "        losses.append(loss)"
   ]
  },
  {
   "cell_type": "code",
   "execution_count": 35,
   "metadata": {},
   "outputs": [
    {
     "data": {
      "text/plain": [
       "1200"
      ]
     },
     "execution_count": 35,
     "metadata": {},
     "output_type": "execute_result"
    }
   ],
   "source": [
    "len(theta0_s)"
   ]
  },
  {
   "cell_type": "code",
   "execution_count": null,
   "metadata": {},
   "outputs": [],
   "source": [
    "#comparaison du theta0 generate avec theta0 prédit\n",
    "\n",
    "\n",
    "figure, ax = plt.subplots(figsize = (15, 9)) \n",
    "\n",
    "theta0_ = np.full(shape= 1200,fill_value = theta0)\n",
    "\n",
    "ax.scatter(theta0_, theta0_s)\n",
    "axes.set_xlabel('theta0_generate')\n",
    "axes.set_ylabel('theta0_predict')\n",
    "\n",
    "plt.legend()\n",
    "plt.show()\n"
   ]
  },
  {
   "cell_type": "code",
   "execution_count": null,
   "metadata": {},
   "outputs": [
    {
     "name": "stdout",
     "output_type": "stream",
     "text": [
      " Loss: 0.38257, loss_P: 0.39051, loss_P0: 0.38791, wt:5.57574\n"
     ]
    }
   ],
   "source": [
    "#wt prediction/generate\n",
    "\n",
    "wts = np.linspace(0.1,0.5, 20)\n",
    "wt_s = []\n",
    "\n",
    "for wt_predict in wts:\n",
    "    for i_CV in range(N_cv):\n",
    "        theta, p, y = get_data(N=int(N_), seed=seed+i_CV)\n",
    "        logistic_model, loss = fit_data(theta, y, verbose=False)\n",
    "        \n",
    "        if N_test>0: theta, p, y = get_data(N=N_test) # nouvelles données \n",
    "        labels = torch.Tensor(y[:, None])\n",
    "        Theta = torch.Tensor(theta[:, None])\n",
    "        P = torch.Tensor(p[:, None])\n",
    "        \n",
    "        outputs = logistic_model(Theta)\n",
    "        loss = criterion(outputs, labels).item()\n",
    "    \n",
    "        loss_P = criterion(outputs, P).item() \n",
    "        loss_P0 = criterion(P, P).item()\n",
    "        \n",
    "        wt_predict = logistic_model.linear.weight.item()\n",
    "        \n",
    "        if i_CV==0: print(f\" Loss: {loss:.5f}, loss_P: {loss_P:.5f}, loss_P0: {loss_P0:.5f}, wt:{wt_predict:.5f}\")\n",
    "        loss_P0s.append(loss_P0)\n",
    "        wt_s.append(wt_predict)\n",
    "        loss_Ps.append(loss_P)\n",
    "        losses.append(loss)"
   ]
  },
  {
   "cell_type": "code",
   "execution_count": null,
   "metadata": {},
   "outputs": [],
   "source": [
    "#comparaison du wt generate avec wt prédit\n",
    "\n",
    "figure, ax = plt.subplots(figsize = (15, 9)) \n",
    "\n",
    "wt_ = np.full(shape= 1200,fill_value = wt ,dtype=np.int)\n",
    "\n",
    "\n",
    "ax.scatter(wt_, wt_s)\n",
    "#ax.scatter(wt, wt_s, label='p0')\n",
    "axes.set_xlabel('wt_generate')\n",
    "axes.set_ylabel('wt_predict')\n",
    "\n",
    "plt.legend()\n",
    "plt.show()\n"
   ]
  }
 ],
 "metadata": {
  "kernelspec": {
   "display_name": "Python 3",
   "language": "python",
   "name": "python3"
  },
  "language_info": {
   "codemirror_mode": {
    "name": "ipython",
    "version": 3
   },
   "file_extension": ".py",
   "mimetype": "text/x-python",
   "name": "python",
   "nbconvert_exporter": "python",
   "pygments_lexer": "ipython3",
   "version": "3.7.6"
  },
  "nteract": {
   "version": "0.21.0"
  }
 },
 "nbformat": 4,
 "nbformat_minor": 4
}
