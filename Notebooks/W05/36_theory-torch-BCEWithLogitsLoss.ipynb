{
 "cells": [
  {
   "cell_type": "markdown",
   "metadata": {},
   "source": [
    "# \"Cross-validation\" des modèles"
   ]
  },
  {
   "cell_type": "code",
   "execution_count": 1,
   "metadata": {},
   "outputs": [],
   "source": [
    "import numpy as np\n",
    "import matplotlib.pyplot as plt\n",
    "import numpy as np\n",
    "from matplotlib.pyplot import cm\n"
   ]
  },
  {
   "cell_type": "markdown",
   "metadata": {},
   "source": [
    "## Creer des données synthetiques "
   ]
  },
  {
   "cell_type": "code",
   "execution_count": 2,
   "metadata": {},
   "outputs": [],
   "source": [
    "def get_data(\n",
    "            N = 1500,\n",
    "            p0 = 0.0,\n",
    "            theta0 = 0,\n",
    "            wt = np.pi/15,\n",
    "            theta_std = np.pi/6):\n",
    "    theta = np.random.randn(N)*theta_std\n",
    "    a = (theta-theta0)/wt\n",
    "    p = p0/2 + (1-p0)/(1+np.exp(-a))\n",
    "    y = np.random.rand(N) < p \n",
    "\n",
    "    return theta, p, y\n",
    "\n"
   ]
  },
  {
   "cell_type": "code",
   "execution_count": 3,
   "metadata": {},
   "outputs": [],
   "source": [
    "theta, p, y = get_data()\n"
   ]
  },
  {
   "cell_type": "code",
   "execution_count": 4,
   "metadata": {},
   "outputs": [
    {
     "data": {
      "image/png": "[encoded data removed]",
      "text/plain": [
       "<Figure size 576x432 with 1 Axes>"
      ]
     },
     "metadata": {
      "needs_background": "light"
     },
     "output_type": "display_data"
    }
   ],
   "source": [
    "plt.figure(figsize = (8,6)) \n",
    "plt.scatter(theta, p, s=4, color = 'r')\n",
    "plt.scatter(theta, y, s=1, alpha=.1, color = 'b')\n",
    "plt.xlabel(r'$\\theta$')\n",
    "plt.yticks([0.,1.],['Left', 'Right']);\n",
    "\n"
   ]
  },
  {
   "cell_type": "markdown",
   "metadata": {},
   "source": [
    "# utilisons torch\n",
    "\n",
    "https://blog.goodaudience.com/awesome-introduction-to-logistic-regression-in-pytorch-d13883ceaa90\n"
   ]
  },
  {
   "cell_type": "code",
   "execution_count": 5,
   "metadata": {},
   "outputs": [],
   "source": [
    "import torch\n",
    "torch.set_default_tensor_type('torch.DoubleTensor')\n",
    "from torch.nn import functional as F"
   ]
  },
  {
   "cell_type": "code",
   "execution_count": 6,
   "metadata": {},
   "outputs": [],
   "source": [
    "\n",
    "# Same as linear regression!\n",
    "class LogisticRegressionModel(torch.nn.Module):\n",
    "    def __init__(self):\n",
    "        super(LogisticRegressionModel, self).__init__()\n",
    "        self.linear = torch.nn.Linear(1, 1)    \n",
    "        \n",
    "    def forward(self, x):\n",
    "        # out = torch.sigmoid(self.linear(x))\n",
    "        out = self.linear(x)\n",
    "        return out\n",
    "\n",
    "logistic_model = LogisticRegressionModel()"
   ]
  },
  {
   "cell_type": "code",
   "execution_count": 7,
   "metadata": {},
   "outputs": [
    {
     "data": {
      "text/plain": [
       "(Parameter containing:\n",
       " tensor([[0.8667]], requires_grad=True),\n",
       " Parameter containing:\n",
       " tensor([0.5627], requires_grad=True))"
      ]
     },
     "execution_count": 7,
     "metadata": {},
     "output_type": "execute_result"
    }
   ],
   "source": [
    "logistic_model.linear.weight, logistic_model.linear.bias"
   ]
  },
  {
   "cell_type": "markdown",
   "metadata": {},
   "source": [
    "https://pytorch.org/docs/stable/nn.html#bceloss"
   ]
  },
  {
   "cell_type": "code",
   "execution_count": 8,
   "metadata": {},
   "outputs": [],
   "source": [
    "# criterion = torch.nn.BCELoss()\n",
    "criterion = torch.nn.BCEWithLogitsLoss()\n",
    "\n",
    "learning_rate = 0.01\n",
    "num_epochs = 1e3\n",
    "optimizer = torch.optim.Adam(logistic_model.parameters(), lr=learning_rate)"
   ]
  },
  {
   "cell_type": "code",
   "execution_count": 9,
   "metadata": {},
   "outputs": [],
   "source": [
    "labels = torch.Tensor(y[:, None])"
   ]
  },
  {
   "cell_type": "code",
   "execution_count": 10,
   "metadata": {},
   "outputs": [
    {
     "data": {
      "text/plain": [
       "(array([ True,  True,  True, ..., False, False,  True]),\n",
       " tensor([[1.],\n",
       "         [1.],\n",
       "         [1.],\n",
       "         ...,\n",
       "         [0.],\n",
       "         [0.],\n",
       "         [1.]]))"
      ]
     },
     "execution_count": 10,
     "metadata": {},
     "output_type": "execute_result"
    }
   ],
   "source": [
    "y, labels"
   ]
  },
  {
   "cell_type": "code",
   "execution_count": 11,
   "metadata": {},
   "outputs": [],
   "source": [
    "Theta = torch.Tensor(theta[:, None])"
   ]
  },
  {
   "cell_type": "code",
   "execution_count": 12,
   "metadata": {},
   "outputs": [
    {
     "data": {
      "text/plain": [
       "(array([-0.3329024 ,  0.19997693,  0.66669212, ..., -0.70562654,\n",
       "        -0.58612685,  0.25250688]),\n",
       " tensor([[-0.3329],\n",
       "         [ 0.2000],\n",
       "         [ 0.6667],\n",
       "         ...,\n",
       "         [-0.7056],\n",
       "         [-0.5861],\n",
       "         [ 0.2525]]))"
      ]
     },
     "execution_count": 12,
     "metadata": {},
     "output_type": "execute_result"
    }
   ],
   "source": [
    "theta, Theta"
   ]
  },
  {
   "cell_type": "code",
   "execution_count": 13,
   "metadata": {},
   "outputs": [],
   "source": [
    "# logistic_model(Theta)"
   ]
  },
  {
   "cell_type": "code",
   "execution_count": null,
   "metadata": {},
   "outputs": [],
   "source": []
  },
  {
   "cell_type": "code",
   "execution_count": 14,
   "metadata": {},
   "outputs": [
    {
     "name": "stdout",
     "output_type": "stream",
     "text": [
      "Iteration: 0. Loss: 0.6167691707474784.\n",
      "Iteration: 31. Loss: 0.5500823551907239.\n",
      "Iteration: 62. Loss: 0.5131484752627345.\n",
      "Iteration: 93. Loss: 0.49120535308874363.\n",
      "Iteration: 124. Loss: 0.47512762730006686.\n",
      "Iteration: 155. Loss: 0.4623554108612111.\n",
      "Iteration: 186. Loss: 0.45206260336602766.\n",
      "Iteration: 217. Loss: 0.4437189925750503.\n",
      "Iteration: 248. Loss: 0.4369209916467035.\n",
      "Iteration: 279. Loss: 0.4313578148730584.\n",
      "Iteration: 310. Loss: 0.42678821431370734.\n",
      "Iteration: 341. Loss: 0.4230232656005466.\n",
      "Iteration: 372. Loss: 0.41991372451019626.\n",
      "Iteration: 403. Loss: 0.41734071152131824.\n",
      "Iteration: 434. Loss: 0.415208802821134.\n",
      "Iteration: 465. Loss: 0.41344086284064135.\n",
      "Iteration: 496. Loss: 0.4119741437293708.\n",
      "Iteration: 527. Loss: 0.4107573134054013.\n",
      "Iteration: 558. Loss: 0.40974816998609814.\n",
      "Iteration: 589. Loss: 0.40891186810808655.\n",
      "Iteration: 620. Loss: 0.4082195304389283.\n",
      "Iteration: 651. Loss: 0.4076471516133685.\n",
      "Iteration: 682. Loss: 0.4071747260885374.\n",
      "Iteration: 713. Loss: 0.4067855488985005.\n",
      "Iteration: 744. Loss: 0.40646565099558385.\n",
      "Iteration: 775. Loss: 0.40620334017689835.\n",
      "Iteration: 806. Loss: 0.40598882547293524.\n",
      "Iteration: 837. Loss: 0.405813907996897.\n",
      "Iteration: 868. Loss: 0.4056717250962649.\n",
      "Iteration: 899. Loss: 0.4055565375522947.\n",
      "Iteration: 930. Loss: 0.40546355178296806.\n",
      "Iteration: 961. Loss: 0.40538877069727264.\n",
      "Iteration: 992. Loss: 0.4053288681524945.\n"
     ]
    }
   ],
   "source": [
    "iter = 0\n",
    "for epoch in range(int(num_epochs)):\n",
    "    # Clear gradients w.r.t. parameters\n",
    "    optimizer.zero_grad()\n",
    "\n",
    "    # Forward pass to get output/logits\n",
    "    outputs = logistic_model(Theta)\n",
    "\n",
    "    # Calculate Loss: \n",
    "    loss = criterion(outputs, labels)\n",
    "\n",
    "    # Getting gradients w.r.t. parameters\n",
    "    loss.backward()\n",
    "\n",
    "    # Updating parameters\n",
    "    optimizer.step()\n",
    "\n",
    "    iter += 1\n",
    "\n",
    "    # Print Loss\n",
    "    if epoch % (num_epochs//32) == 0 : \n",
    "        print(\"Iteration: {}. Loss: {}.\".format(epoch, loss.item()))"
   ]
  },
  {
   "cell_type": "code",
   "execution_count": 15,
   "metadata": {},
   "outputs": [
    {
     "data": {
      "text/plain": [
       "LogisticRegressionModel(\n",
       "  (linear): Linear(in_features=1, out_features=1, bias=True)\n",
       ")"
      ]
     },
     "execution_count": 15,
     "metadata": {},
     "output_type": "execute_result"
    }
   ],
   "source": [
    "logistic_model.eval()"
   ]
  },
  {
   "cell_type": "code",
   "execution_count": 16,
   "metadata": {},
   "outputs": [
    {
     "data": {
      "text/plain": [
       "<matplotlib.legend.Legend at 0x143151e50>"
      ]
     },
     "execution_count": 16,
     "metadata": {},
     "output_type": "execute_result"
    },
    {
     "data": {
      "image/png": "[encoded data removed]",
      "text/plain": [
       "<Figure size 576x432 with 1 Axes>"
      ]
     },
     "metadata": {
      "needs_background": "light"
     },
     "output_type": "display_data"
    }
   ],
   "source": [
    "plt.figure(figsize = (8,6)) \n",
    "plt.scatter(theta, p, s=4, color = 'r', label='proba cachées')\n",
    "plt.scatter(theta, y, s=1, alpha=.1, color = 'b', label='données')\n",
    "x_values = np.linspace(-1.5, 1.50, 100)[:, None]\n",
    "y_values = torch.sigmoid(logistic_model(torch.Tensor(x_values))).detach().numpy()\n",
    "plt.plot(x_values, y_values, 'g', alpha=.7, lw=3, label='proba prédites')\n",
    "plt.xlabel(r'$\\theta$')\n",
    "plt.yticks([0.,1.],['Left', 'Right']);\n",
    "plt.legend()\n"
   ]
  },
  {
   "cell_type": "code",
   "execution_count": null,
   "metadata": {},
   "outputs": [],
   "source": []
  }
 ],
 "metadata": {
  "kernelspec": {
   "display_name": "Python 3",
   "language": "python",
   "name": "python3"
  },
  "language_info": {
   "codemirror_mode": {
    "name": "ipython",
    "version": 3
   },
   "file_extension": ".py",
   "mimetype": "text/x-python",
   "name": "python",
   "nbconvert_exporter": "python",
   "pygments_lexer": "ipython3",
   "version": "3.7.6"
  },
  "nteract": {
   "version": "0.21.0"
  }
 },
 "nbformat": 4,
 "nbformat_minor": 4
}
