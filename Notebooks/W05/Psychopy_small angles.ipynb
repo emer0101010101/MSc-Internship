{
  "cells": [
    {
      "cell_type": "markdown",
      "source": [
        " #### Refaire l'expèrience en utilisant des petits $\\theta$ (<15°)"
      ],
      "metadata": {}
    },
    {
      "cell_type": "code",
      "source": [
        "import numpy as np\n",
        "import MotionClouds as mc\n",
        "import matplotlib.pyplot as plt\n",
        "import os\n",
        "import imageio\n",
        "import random\n",
        "from psychopy import visual, core, event, gui, data\n",
        "import MotionClouds as MC"
      ],
      "outputs": [
        {
          "output_type": "stream",
          "name": "stdout",
          "text": [
            "pygame 2.0.0.dev4 (SDL 2.0.10, python 3.7.6)\n",
            "Hello from the pygame community. https://www.pygame.org/contribute.html\n"
          ]
        }
      ],
      "execution_count": 1,
      "metadata": {}
    },
    {
      "cell_type": "code",
      "source": [
        "exp_name = \"Perception de l'orientation\"\n",
        "exp_info = {'participant':''}\n",
        "subj_info = gui.DlgFromDict(dictionary=exp_info, title=exp_name)\n",
        "exp_info['exp_name']=exp_name\n"
      ],
      "outputs": [],
      "execution_count": 2,
      "metadata": {}
    },
    {
      "cell_type": "code",
      "source": [
        "upscale = 4\n",
        "fig_width = 21\n",
        "fx, fy, ft = mc.get_grids(mc.N_X*upscale, mc.N_Y*upscale, 1)"
      ],
      "outputs": [],
      "execution_count": 3,
      "metadata": {}
    },
    {
      "cell_type": "code",
      "source": [
        "from psychopy import visual, core, event\n",
        "import MotionClouds as MC\n",
        "\n",
        "test_length = 150  # number of trials\n",
        "fixation_length = .5  # length of fixation, in second\n",
        "stim1_length = 0.25  # length of first stim, in second\n",
        "#stim2_length = 0.25  # length of the second stim, in second \n",
        "\n",
        "std_theta = np.pi/24\n",
        "\n",
        "fullscr = False\n",
        "\n",
        "fullscr = True\n"
      ],
      "outputs": [],
      "execution_count": 4,
      "metadata": {}
    },
    {
      "cell_type": "code",
      "source": [
        "\n",
        "def generate_random_cloud(theta, B_theta):#, upscale = 1):\n",
        "    #fx, fy, ft = mc.get_grids(mc.N_X*upscale, mc.N_Y*upscale, 1)\n",
        "    mc_i = mc.envelope_gabor(fx, fy, ft, V_X=0., V_Y=0.,\n",
        "                             B_V=0, theta=theta, B_theta=B_theta)\n",
        "    im = mc.random_cloud(mc_i)\n",
        "    im = (mc.rectif(im) * 255).astype('uint8')\n",
        "    #return im[:, :, 0]\n",
        "    fname = 'tmp/%s_%s.png' % (theta, B_theta)\n",
        "    imageio.imwrite(fname, im[:, :, 0])\n",
        "    return fname\n"
      ],
      "outputs": [],
      "execution_count": 5,
      "metadata": {}
    },
    {
      "cell_type": "code",
      "source": [
        "%mkdir -p tmp"
      ],
      "outputs": [],
      "execution_count": 6,
      "metadata": {
        "collapsed": false,
        "jupyter": {
          "source_hidden": false,
          "outputs_hidden": false
        },
        "nteract": {
          "transient": {
            "deleting": false
          }
        }
      }
    },
    {
      "cell_type": "code",
      "source": [
        "win = visual.Window(fullscr=fullscr, color=[0,0,0])#, winType='pygame', monitor='testMonitor', units='height')\n",
        "mouse = event.Mouse(visible=False)\n",
        "\n",
        "fixation = visual.ShapeStim(vertices='cross', win=win, size=0.05, pos=[0, 0], fillColor='black', units='height')\n",
        "fixation.autolog = False\n",
        "\n",
        "MC1 = generate_random_cloud(np.pi/2, B_theta=np.pi/2)\n",
        "bitmap1 = visual.ImageStim(win, MC1, mask='gauss', size=0.8, units='height')\n",
        "bitmap1.autolog = False \n",
        "\n",
        "msg = visual.TextStim(win, text='?', color='black', pos=[0, 0])\n",
        "\n",
        "import time\n",
        "start_time = time.time()\n",
        "print(\"Test started\")\n",
        "\n",
        "\n",
        "ans_list = []\n",
        "N_B_thetas = 3\n",
        "B_thetas = np.pi*np.logspace(-7, -3.5, N_B_thetas, base=2)\n",
        "    \n",
        "for trial in range(test_length):\n",
        "    clock = core.Clock()\n",
        "    fixation.draw()\n",
        "    win.flip()\n",
        "    \n",
        "    theta = std_theta * np.random.randn()\n",
        "\n",
        "    # MC generation\n",
        "    B_theta = B_thetas[random.randint(0, N_B_thetas-1)]\n",
        "\n",
        "    im = generate_random_cloud(np.pi/2-theta, B_theta=B_theta) \n",
        "    bitmap1.setImage(im)\n",
        "\n",
        "    # Times the trial\n",
        "    while clock.getTime() < fixation_length + stim1_length: # + stim2_length:\n",
        "        if 0.0 <= clock.getTime() < fixation_length:  # fixation\n",
        "            fixation.draw()\n",
        "        if fixation_length + 0.01 <= clock.getTime() < fixation_length + stim1_length: \n",
        "            bitmap1.draw()\n",
        "            win.flip()\n",
        "        #if fixation_length + stim1_length <= clock.getTime() < fixation_length + stim1_length + stim2_length:\n",
        "        #    msg.draw()\n",
        "            \n",
        "    win.flip()\n",
        "\n",
        "    while True:\n",
        "        ans = event.waitKeys()\n",
        "        if ans == ['escape', 'q']:\n",
        "            win.close()\n",
        "            core.quit()\n",
        "        elif ans[0] in ['left', 'right']:\n",
        "            correct = (np.sign(theta) > 0) and (ans[0]=='right')\n",
        "            print('At trial ', trial, 'Angle=', '%3.3f' % (theta*180/np.pi), 'answer is ',\n",
        "                ans[0], '(correct=', correct, '); bandwidth=', '%.3f' % (B_theta*180/np.pi))    \n",
        "            break\n",
        "\n",
        "    # Output shape per trial is : trial number, shift direction, answered shift and b_theta\n",
        "    ans_list.append([trial, theta, ans[0], B_theta])\n",
        "\n",
        "win.close()"
      ],
      "outputs": [
        {
          "output_type": "stream",
          "name": "stdout",
          "text": [
            "Test started\n",
            "At trial  0 Angle= -3.570 answer is  right (correct= False ); bandwidth= 4.730\n",
            "At trial  1 Angle= 1.439 answer is  left (correct= False ); bandwidth= 4.730\n"
          ]
        }
      ],
      "execution_count": 7,
      "metadata": {}
    },
    {
      "cell_type": "code",
      "source": [
        "import pickle\n",
        "pickle.dump(ans_list, open('Psychophys_discrim_%s.p' % exp_info['participant'], 'wb'))\n",
        "#on sauve nos superbes données"
      ],
      "outputs": [],
      "execution_count": null,
      "metadata": {}
    },
    {
      "cell_type": "markdown",
      "source": [
        "# analyse"
      ],
      "metadata": {
        "nteract": {
          "transient": {
            "deleting": false
          }
        }
      }
    },
    {
      "cell_type": "code",
      "source": [
        "import pickle\n",
        "import matplotlib.pyplot as plt\n",
        "\n",
        "subj_name_list =  ['JF4','JF5','JF6']\n",
        "subj_name_list =  ['LP1']\n",
        "subj_data_list = []\n",
        "\n",
        "for subject in subj_name_list :\n",
        "    x = pickle.load(open(r'Psychophys_discrim_%s.p'%subject, 'rb'))\n",
        "\n",
        "    #pickle.load,charge le contenu du fichier B_theta dans x\n",
        "    \n",
        "    subj_data_list.append(x)"
      ],
      "outputs": [],
      "execution_count": null,
      "metadata": {}
    },
    {
      "cell_type": "code",
      "source": [
        "from sklearn.linear_model import LogisticRegression\n",
        "import numpy as np\n",
        "from matplotlib.pyplot import cm\n",
        "\n",
        "x_values = np.linspace(-50, 50, 100)\n",
        "x_plot = np.reshape(x_values, (100,1))\n",
        "lr_kwargs = dict(solver='liblinear', C = 3, max_iter=1000, penalty='l2', class_weight = {1 : 1 , 0 : 1})\n",
        "\n",
        "\n",
        "b_thetas_list = []\n",
        "for x in subj_data_list[0] :\n",
        "    b_thetas_list.append(x[3]*180/np.pi)\n",
        "b_thetas_list = sorted(set(b_thetas_list))\n",
        "\n",
        "coef_list = []\n",
        "\n",
        "for num, subj_data in enumerate(subj_data_list) :\n",
        "    color = iter(cm.Dark2(np.linspace(.5, 1,5)))\n",
        "    plt.figure(figsize = (8,6)) \n",
        "    for ibtheta, b_theta in enumerate(b_thetas_list):\n",
        "        X = []\n",
        "        y = []\n",
        "\n",
        "        for i in subj_data :\n",
        "            if i[3]*180/np.pi == b_theta :\n",
        "                X.append(i[1]*180/np.pi)\n",
        "                if  i[2] == 'right':  \n",
        "                        y.append(1)\n",
        "                else :\n",
        "                        y.append(0)\n",
        "      \n",
        "        X = np.asarray(X)\n",
        "        X = X[:,np.newaxis]\n",
        "        col = next(color)\n",
        "    \n",
        "        lgs = LogisticRegression(**lr_kwargs)\n",
        "        try :\n",
        "            lgs.fit(X, y)\n",
        "            coef_list.append((b_theta,lgs.coef_[0][0]))\n",
        "        \n",
        "            y_values = lgs.predict_proba(x_plot)[:,1]\n",
        "            plt.plot(x_values, y_values, label = r'$B_\\theta$ = %3.f°' %b_theta,color = col)\n",
        "            plt.scatter(X, y, s=4, color = col)\n",
        "        except :\n",
        "            pass\n",
        "            \n",
        "    plt.title('Psychometric curve - %s' % subj_name_list[num])\n",
        "    plt.xlabel(r'$\\theta$')\n",
        "    plt.yticks([0.,1.],['No', 'Yes'])\n",
        "    plt.legend(loc = (0.03, 0.52)) \n",
        "    plt.show"
      ],
      "outputs": [],
      "execution_count": null,
      "metadata": {}
    }
  ],
  "metadata": {
    "kernelspec": {
      "display_name": "Python 3",
      "language": "python",
      "name": "python3"
    },
    "language_info": {
      "name": "python",
      "version": "3.7.6",
      "mimetype": "text/x-python",
      "codemirror_mode": {
        "name": "ipython",
        "version": 3
      },
      "pygments_lexer": "ipython3",
      "nbconvert_exporter": "python",
      "file_extension": ".py"
    },
    "nteract": {
      "version": "0.21.0"
    }
  },
  "nbformat": 4,
  "nbformat_minor": 4
}