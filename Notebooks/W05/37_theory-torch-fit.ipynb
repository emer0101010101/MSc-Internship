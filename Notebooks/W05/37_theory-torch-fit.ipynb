{
 "cells": [
  {
   "cell_type": "markdown",
   "metadata": {},
   "source": [
    "# \"Cross-validation\" des modèles"
   ]
  },
  {
   "cell_type": "code",
   "execution_count": 1,
   "metadata": {},
   "outputs": [],
   "source": [
    "import numpy as np\n",
    "import matplotlib.pyplot as plt"
   ]
  },
  {
   "cell_type": "markdown",
   "metadata": {},
   "source": [
    "## Creer des données synthetiques "
   ]
  },
  {
   "cell_type": "code",
   "execution_count": 2,
   "metadata": {},
   "outputs": [
    {
     "data": {
      "image/png": "[encoded data removed]",
      "text/plain": [
       "<Figure size 576x432 with 1 Axes>"
      ]
     },
     "metadata": {
      "needs_background": "light"
     },
     "output_type": "display_data"
    }
   ],
   "source": [
    "def get_data(\n",
    "            N = 150,\n",
    "            p0 = 0.05,\n",
    "            theta0 = 0,\n",
    "            wt = np.pi/15,\n",
    "            theta_std = np.pi/6):\n",
    "    theta = np.random.randn(N)*theta_std\n",
    "    a = (theta-theta0)/wt\n",
    "    p = 1/(1+np.exp(-a))\n",
    "    \n",
    "    # p0/2 + (1-p0)/\n",
    "    flip = np.random.rand(N) > p0\n",
    "    p = p*flip + .5*(1-flip)\n",
    "    y = np.random.rand(N) < p\n",
    "    return theta, p, y\n",
    "\n",
    "theta, p, y = get_data()\n",
    "plt.figure(figsize = (8,6)) \n",
    "plt.scatter(theta, p, s=4, color = 'r')\n",
    "plt.scatter(theta, y, s=1, alpha=.1, color = 'b')\n",
    "plt.xlabel(r'$\\theta$')\n",
    "plt.yticks([0.,1.],['Left', 'Right']);\n",
    "\n"
   ]
  },
  {
   "cell_type": "code",
   "execution_count": 3,
   "metadata": {},
   "outputs": [
    {
     "data": {
      "image/png": "[encoded data removed]",
      "text/plain": [
       "<Figure size 576x432 with 1 Axes>"
      ]
     },
     "metadata": {
      "needs_background": "light"
     },
     "output_type": "display_data"
    }
   ],
   "source": [
    "def get_data(\n",
    "            N = 150,\n",
    "            p0 = 0.15,\n",
    "            theta0 = 0,\n",
    "            wt = np.pi/20,\n",
    "            theta_std = np.pi/6):\n",
    "    \n",
    "    theta = np.random.randn(N)*theta_std\n",
    "    a = (theta-theta0)/wt\n",
    "    p = 1/(1+np.exp(-a))\n",
    "    \n",
    "    p = p0/2 + (1-p0) * p\n",
    "    y = np.random.rand(N) < p\n",
    "    return theta, p, y\n",
    "\n",
    "theta, p, y = get_data()\n",
    "plt.figure(figsize = (8,6)) \n",
    "plt.scatter(theta, p, s=4, color = 'r')\n",
    "plt.scatter(theta, y, s=1, alpha=.1, color = 'b')\n",
    "plt.xlabel(r'$\\theta$')\n",
    "plt.yticks([0.,1.],['Left', 'Right']);\n",
    "\n"
   ]
  },
  {
   "cell_type": "code",
   "execution_count": 4,
   "metadata": {},
   "outputs": [],
   "source": [
    "import torch\n",
    "torch.set_default_tensor_type('torch.DoubleTensor')\n",
    "from torch.nn import functional as F"
   ]
  },
  {
   "cell_type": "code",
   "execution_count": 5,
   "metadata": {},
   "outputs": [
    {
     "data": {
      "text/plain": [
       "(tensor([0.1806], grad_fn=<AddBackward0>), tensor([0.5000]))"
      ]
     },
     "execution_count": 5,
     "metadata": {},
     "output_type": "execute_result"
    }
   ],
   "source": [
    "logit0 = torch.nn.Linear(1, 1) \n",
    "logit0(torch.zeros(1)), torch.sigmoid(torch.zeros(1))"
   ]
  },
  {
   "cell_type": "code",
   "execution_count": 6,
   "metadata": {},
   "outputs": [],
   "source": [
    "# Same as linear regression!\n",
    "class LogisticRegressionModel(torch.nn.Module):\n",
    "    def __init__(self):\n",
    "        super(LogisticRegressionModel, self).__init__()\n",
    "        self.linear = torch.nn.Linear(1, 1)    \n",
    "        self.logit0 = torch.nn.Linear(1, 1) \n",
    "        \n",
    "    def forward(self, x):\n",
    "        p0 = torch.sigmoid(self.logit0(torch.zeros(1)))\n",
    "        out = p0/2 + (1-p0)*torch.sigmoid(self.linear(x))\n",
    "        return out\n",
    "\n",
    "logistic_model = LogisticRegressionModel()"
   ]
  },
  {
   "cell_type": "code",
   "execution_count": 7,
   "metadata": {},
   "outputs": [
    {
     "data": {
      "text/plain": [
       "(Parameter containing:\n",
       " tensor([0.4111], requires_grad=True),\n",
       " Parameter containing:\n",
       " tensor([[-0.7513]], requires_grad=True),\n",
       " Parameter containing:\n",
       " tensor([0.6825], requires_grad=True))"
      ]
     },
     "execution_count": 7,
     "metadata": {},
     "output_type": "execute_result"
    }
   ],
   "source": [
    "logistic_model.logit0.bias, logistic_model.linear.weight, logistic_model.linear.bias"
   ]
  },
  {
   "cell_type": "markdown",
   "metadata": {},
   "source": [
    "https://pytorch.org/docs/stable/nn.html#bceloss"
   ]
  },
  {
   "cell_type": "code",
   "execution_count": 8,
   "metadata": {},
   "outputs": [
    {
     "name": "stdout",
     "output_type": "stream",
     "text": [
      "Parameter containing:\n",
      "tensor([[-0.7513]], requires_grad=True)\n",
      "Parameter containing:\n",
      "tensor([0.6825], requires_grad=True)\n",
      "Parameter containing:\n",
      "tensor([[-0.9032]], requires_grad=True)\n",
      "Parameter containing:\n",
      "tensor([0.4111], requires_grad=True)\n"
     ]
    }
   ],
   "source": [
    "for p in  logistic_model.parameters(): print(p)"
   ]
  },
  {
   "cell_type": "code",
   "execution_count": 9,
   "metadata": {},
   "outputs": [],
   "source": [
    "criterion = torch.nn.BCELoss()\n",
    "\n",
    "learning_rate = 0.005\n",
    "num_epochs = 1e4\n",
    "optimizer = torch.optim.Adam(logistic_model.parameters(), lr=learning_rate)"
   ]
  },
  {
   "cell_type": "code",
   "execution_count": 10,
   "metadata": {},
   "outputs": [],
   "source": [
    "theta, p, y = get_data()\n",
    "labels = torch.Tensor(y[:, None])\n",
    "Theta = torch.Tensor(theta[:, None])"
   ]
  },
  {
   "cell_type": "code",
   "execution_count": 11,
   "metadata": {},
   "outputs": [
    {
     "name": "stdout",
     "output_type": "stream",
     "text": [
      "Iteration: 0. Loss: 0.74093.\n",
      "Iteration: 312. Loss: 0.65907.\n",
      "Iteration: 624. Loss: 0.53754.\n",
      "Iteration: 936. Loss: 0.50860.\n",
      "Iteration: 1248. Loss: 0.50345.\n",
      "Iteration: 1560. Loss: 0.50254.\n",
      "Iteration: 1872. Loss: 0.50233.\n",
      "Iteration: 2184. Loss: 0.50219.\n",
      "Iteration: 2496. Loss: 0.50204.\n",
      "Iteration: 2808. Loss: 0.50188.\n",
      "Iteration: 3120. Loss: 0.50172.\n",
      "Iteration: 3432. Loss: 0.50158.\n",
      "Iteration: 3744. Loss: 0.50146.\n",
      "Iteration: 4056. Loss: 0.50137.\n",
      "Iteration: 4368. Loss: 0.50129.\n",
      "Iteration: 4680. Loss: 0.50124.\n",
      "Iteration: 4992. Loss: 0.50120.\n",
      "Iteration: 5304. Loss: 0.50118.\n",
      "Iteration: 5616. Loss: 0.50116.\n",
      "Iteration: 5928. Loss: 0.50115.\n",
      "Iteration: 6240. Loss: 0.50114.\n",
      "Iteration: 6552. Loss: 0.50114.\n",
      "Iteration: 6864. Loss: 0.50114.\n",
      "Iteration: 7176. Loss: 0.50113.\n",
      "Iteration: 7488. Loss: 0.50113.\n",
      "Iteration: 7800. Loss: 0.50113.\n",
      "Iteration: 8112. Loss: 0.50113.\n",
      "Iteration: 8424. Loss: 0.50113.\n",
      "Iteration: 8736. Loss: 0.50113.\n",
      "Iteration: 9048. Loss: 0.50113.\n",
      "Iteration: 9360. Loss: 0.50113.\n",
      "Iteration: 9672. Loss: 0.50113.\n",
      "Iteration: 9984. Loss: 0.50113.\n"
     ]
    }
   ],
   "source": [
    "iter = 0\n",
    "for epoch in range(int(num_epochs)):\n",
    "    # Clear gradients w.r.t. parameters\n",
    "    optimizer.zero_grad()\n",
    "\n",
    "    # Forward pass to get output/logits\n",
    "    outputs = logistic_model(Theta)\n",
    "\n",
    "    # Calculate Loss: \n",
    "    loss = criterion(outputs, labels)\n",
    "\n",
    "    # Getting gradients w.r.t. parameters\n",
    "    loss.backward()\n",
    "\n",
    "    # Updating parameters\n",
    "    optimizer.step()\n",
    "\n",
    "    iter += 1\n",
    "\n",
    "    # Print Loss\n",
    "    if epoch % (num_epochs//32) == 0 : \n",
    "        print(f\"Iteration: {epoch}. Loss: {loss.item():.5f}.\")"
   ]
  },
  {
   "cell_type": "code",
   "execution_count": 12,
   "metadata": {},
   "outputs": [
    {
     "data": {
      "text/plain": [
       "LogisticRegressionModel(\n",
       "  (linear): Linear(in_features=1, out_features=1, bias=True)\n",
       "  (logit0): Linear(in_features=1, out_features=1, bias=True)\n",
       ")"
      ]
     },
     "execution_count": 12,
     "metadata": {},
     "output_type": "execute_result"
    }
   ],
   "source": [
    "logistic_model.eval()"
   ]
  },
  {
   "cell_type": "code",
   "execution_count": 13,
   "metadata": {},
   "outputs": [
    {
     "data": {
      "text/plain": [
       "<matplotlib.legend.Legend at 0x141464550>"
      ]
     },
     "execution_count": 13,
     "metadata": {},
     "output_type": "execute_result"
    },
    {
     "data": {
      "image/png": "[encoded data removed]",
      "text/plain": [
       "<Figure size 576x432 with 1 Axes>"
      ]
     },
     "metadata": {
      "needs_background": "light"
     },
     "output_type": "display_data"
    }
   ],
   "source": [
    "plt.figure(figsize = (8,6)) \n",
    "plt.scatter(theta, p, s=4, color = 'r', label='proba cachées')\n",
    "plt.scatter(theta, y, s=1, alpha=.1, color = 'b', label='données')\n",
    "x_values = np.linspace(-1.5, 1.50, 100)[:, None]\n",
    "y_values = logistic_model(torch.Tensor(x_values)).detach().numpy()\n",
    "plt.plot(x_values, y_values, 'g', alpha=.7, lw=3, label='proba prédites')\n",
    "plt.xlabel(r'$\\theta$')\n",
    "plt.yticks([0.,1.],['Left', 'Right']);\n",
    "plt.legend()\n"
   ]
  },
  {
   "cell_type": "markdown",
   "metadata": {},
   "source": [
    "## validation"
   ]
  },
  {
   "cell_type": "code",
   "execution_count": 14,
   "metadata": {},
   "outputs": [
    {
     "data": {
      "text/plain": [
       "<matplotlib.legend.Legend at 0x141529e50>"
      ]
     },
     "execution_count": 14,
     "metadata": {},
     "output_type": "execute_result"
    },
    {
     "data": {
      "image/png": "[encoded data removed]",
      "text/plain": [
       "<Figure size 576x432 with 1 Axes>"
      ]
     },
     "metadata": {
      "needs_background": "light"
     },
     "output_type": "display_data"
    }
   ],
   "source": [
    "theta, p, y = get_data() # nouvelles données \n",
    "\n",
    "labels = torch.Tensor(y[:, None])\n",
    "Theta = torch.Tensor(theta[:, None])\n",
    "\n",
    "plt.figure(figsize = (8,6)) \n",
    "plt.scatter(theta, p, s=4, color = 'r', label='proba cachées')\n",
    "plt.scatter(theta, y, s=1, alpha=.1, color = 'b', label='données')\n",
    "x_values = np.linspace(-1.5, 1.50, 100)[:, None]\n",
    "y_values = logistic_model(torch.Tensor(x_values)).detach().numpy()\n",
    "plt.plot(x_values, y_values, 'g', alpha=.7, lw=3, label='proba prédites')\n",
    "plt.xlabel(r'$\\theta$')\n",
    "plt.yticks([0.,1.],['Left', 'Right']);\n",
    "plt.legend()\n"
   ]
  }
 ],
 "metadata": {
  "kernelspec": {
   "display_name": "Python 3",
   "language": "python",
   "name": "python3"
  },
  "language_info": {
   "codemirror_mode": {
    "name": "ipython",
    "version": 3
   },
   "file_extension": ".py",
   "mimetype": "text/x-python",
   "name": "python",
   "nbconvert_exporter": "python",
   "pygments_lexer": "ipython3",
   "version": "3.7.6"
  },
  "nteract": {
   "version": "0.21.0"
  }
 },
 "nbformat": 4,
 "nbformat_minor": 4
}
