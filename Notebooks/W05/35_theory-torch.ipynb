{
 "cells": [
  {
   "cell_type": "markdown",
   "metadata": {},
   "source": [
    "# \"Cross-validation\" des modèles"
   ]
  },
  {
   "cell_type": "code",
   "execution_count": 1,
   "metadata": {},
   "outputs": [],
   "source": [
    "import numpy as np\n",
    "import matplotlib.pyplot as plt\n",
    "import numpy as np\n",
    "from matplotlib.pyplot import cm\n"
   ]
  },
  {
   "cell_type": "markdown",
   "metadata": {},
   "source": [
    "## Creer des données synthetiques "
   ]
  },
  {
   "cell_type": "code",
   "execution_count": 2,
   "metadata": {},
   "outputs": [],
   "source": [
    "def get_data(\n",
    "            N = 150,\n",
    "            p0 = 0.0,\n",
    "            theta0 = 0,\n",
    "            wt = np.pi/15,\n",
    "            theta_std = np.pi/6):\n",
    "    theta = np.random.randn(N)*theta_std\n",
    "    a = (theta-theta0)/wt\n",
    "    p = p0/2 + (1-p0)/(1+np.exp(-a))\n",
    "    y = np.random.rand(N) < p \n",
    "\n",
    "    return theta, p, y\n",
    "\n"
   ]
  },
  {
   "cell_type": "code",
   "execution_count": 3,
   "metadata": {},
   "outputs": [],
   "source": [
    "theta, p, y = get_data()\n"
   ]
  },
  {
   "cell_type": "code",
   "execution_count": 4,
   "metadata": {},
   "outputs": [
    {
     "data": {
      "image/png": "[encoded data removed]",
      "text/plain": [
       "<Figure size 576x432 with 1 Axes>"
      ]
     },
     "metadata": {
      "needs_background": "light"
     },
     "output_type": "display_data"
    }
   ],
   "source": [
    "plt.figure(figsize = (8,6)) \n",
    "plt.scatter(theta, p, s=4, color = 'r')\n",
    "plt.scatter(theta, y, s=1, alpha=.1, color = 'b')\n",
    "plt.xlabel(r'$\\theta$')\n",
    "plt.yticks([0.,1.],['Left', 'Right']);\n",
    "\n"
   ]
  },
  {
   "cell_type": "markdown",
   "metadata": {},
   "source": [
    "# utilisons torch\n",
    "\n",
    "https://blog.goodaudience.com/awesome-introduction-to-logistic-regression-in-pytorch-d13883ceaa90\n"
   ]
  },
  {
   "cell_type": "code",
   "execution_count": 5,
   "metadata": {},
   "outputs": [],
   "source": [
    "import torch\n",
    "torch.set_default_tensor_type('torch.DoubleTensor')\n",
    "from torch.nn import functional as F"
   ]
  },
  {
   "cell_type": "code",
   "execution_count": 6,
   "metadata": {},
   "outputs": [],
   "source": [
    "\n",
    "# Same as linear regression!\n",
    "class LogisticRegressionModel(torch.nn.Module):\n",
    "    def __init__(self):\n",
    "        super(LogisticRegressionModel, self).__init__()\n",
    "        self.linear = torch.nn.Linear(1, 1)    \n",
    "        \n",
    "    def forward(self, x):\n",
    "        # out = torch.sigmoid(self.linear(x))\n",
    "        out = torch.sigmoid(self.linear(x))\n",
    "        return out\n",
    "\n",
    "logistic_model = LogisticRegressionModel()"
   ]
  },
  {
   "cell_type": "code",
   "execution_count": 7,
   "metadata": {},
   "outputs": [
    {
     "data": {
      "text/plain": [
       "(Parameter containing:\n",
       " tensor([[-0.8836]], requires_grad=True),\n",
       " Parameter containing:\n",
       " tensor([0.5370], requires_grad=True))"
      ]
     },
     "execution_count": 7,
     "metadata": {},
     "output_type": "execute_result"
    }
   ],
   "source": [
    "logistic_model.linear.weight, logistic_model.linear.bias"
   ]
  },
  {
   "cell_type": "markdown",
   "metadata": {},
   "source": [
    "https://pytorch.org/docs/stable/nn.html#bceloss"
   ]
  },
  {
   "cell_type": "code",
   "execution_count": 8,
   "metadata": {},
   "outputs": [],
   "source": [
    "criterion = torch.nn.BCELoss()\n",
    "\n",
    "learning_rate = 0.01\n",
    "num_epochs = 1e4\n",
    "#optimizer = torch.optim.Adam(logistic_model.parameters(), lr=learning_rate)\n",
    "optimizer = torch.optim.SGD(logistic_model.parameters(), lr=learning_rate)"
   ]
  },
  {
   "cell_type": "code",
   "execution_count": 9,
   "metadata": {},
   "outputs": [],
   "source": [
    "labels = torch.Tensor(y[:, None])"
   ]
  },
  {
   "cell_type": "code",
   "execution_count": 10,
   "metadata": {},
   "outputs": [
    {
     "data": {
      "text/plain": [
       "(array([False,  True, False,  True, False, False,  True,  True, False,\n",
       "        False,  True,  True,  True, False,  True,  True, False, False,\n",
       "         True,  True,  True,  True, False,  True, False,  True,  True,\n",
       "         True,  True, False, False, False,  True, False,  True, False,\n",
       "        False, False,  True, False, False, False,  True, False,  True,\n",
       "        False,  True,  True, False,  True, False,  True,  True,  True,\n",
       "        False,  True, False,  True, False,  True, False,  True, False,\n",
       "         True, False,  True,  True,  True, False, False, False, False,\n",
       "        False, False,  True, False, False,  True,  True, False,  True,\n",
       "         True,  True,  True,  True, False,  True, False, False, False,\n",
       "         True,  True, False,  True,  True,  True,  True,  True, False,\n",
       "        False, False,  True, False, False, False,  True,  True,  True,\n",
       "         True, False, False, False,  True,  True, False, False, False,\n",
       "         True,  True,  True, False, False,  True, False, False, False,\n",
       "         True, False,  True,  True,  True,  True,  True,  True,  True,\n",
       "        False,  True, False,  True, False,  True, False, False, False,\n",
       "        False, False,  True,  True, False, False]),\n",
       " tensor([[0.],\n",
       "         [1.],\n",
       "         [0.],\n",
       "         [1.],\n",
       "         [0.],\n",
       "         [0.],\n",
       "         [1.],\n",
       "         [1.],\n",
       "         [0.],\n",
       "         [0.],\n",
       "         [1.],\n",
       "         [1.],\n",
       "         [1.],\n",
       "         [0.],\n",
       "         [1.],\n",
       "         [1.],\n",
       "         [0.],\n",
       "         [0.],\n",
       "         [1.],\n",
       "         [1.],\n",
       "         [1.],\n",
       "         [1.],\n",
       "         [0.],\n",
       "         [1.],\n",
       "         [0.],\n",
       "         [1.],\n",
       "         [1.],\n",
       "         [1.],\n",
       "         [1.],\n",
       "         [0.],\n",
       "         [0.],\n",
       "         [0.],\n",
       "         [1.],\n",
       "         [0.],\n",
       "         [1.],\n",
       "         [0.],\n",
       "         [0.],\n",
       "         [0.],\n",
       "         [1.],\n",
       "         [0.],\n",
       "         [0.],\n",
       "         [0.],\n",
       "         [1.],\n",
       "         [0.],\n",
       "         [1.],\n",
       "         [0.],\n",
       "         [1.],\n",
       "         [1.],\n",
       "         [0.],\n",
       "         [1.],\n",
       "         [0.],\n",
       "         [1.],\n",
       "         [1.],\n",
       "         [1.],\n",
       "         [0.],\n",
       "         [1.],\n",
       "         [0.],\n",
       "         [1.],\n",
       "         [0.],\n",
       "         [1.],\n",
       "         [0.],\n",
       "         [1.],\n",
       "         [0.],\n",
       "         [1.],\n",
       "         [0.],\n",
       "         [1.],\n",
       "         [1.],\n",
       "         [1.],\n",
       "         [0.],\n",
       "         [0.],\n",
       "         [0.],\n",
       "         [0.],\n",
       "         [0.],\n",
       "         [0.],\n",
       "         [1.],\n",
       "         [0.],\n",
       "         [0.],\n",
       "         [1.],\n",
       "         [1.],\n",
       "         [0.],\n",
       "         [1.],\n",
       "         [1.],\n",
       "         [1.],\n",
       "         [1.],\n",
       "         [1.],\n",
       "         [0.],\n",
       "         [1.],\n",
       "         [0.],\n",
       "         [0.],\n",
       "         [0.],\n",
       "         [1.],\n",
       "         [1.],\n",
       "         [0.],\n",
       "         [1.],\n",
       "         [1.],\n",
       "         [1.],\n",
       "         [1.],\n",
       "         [1.],\n",
       "         [0.],\n",
       "         [0.],\n",
       "         [0.],\n",
       "         [1.],\n",
       "         [0.],\n",
       "         [0.],\n",
       "         [0.],\n",
       "         [1.],\n",
       "         [1.],\n",
       "         [1.],\n",
       "         [1.],\n",
       "         [0.],\n",
       "         [0.],\n",
       "         [0.],\n",
       "         [1.],\n",
       "         [1.],\n",
       "         [0.],\n",
       "         [0.],\n",
       "         [0.],\n",
       "         [1.],\n",
       "         [1.],\n",
       "         [1.],\n",
       "         [0.],\n",
       "         [0.],\n",
       "         [1.],\n",
       "         [0.],\n",
       "         [0.],\n",
       "         [0.],\n",
       "         [1.],\n",
       "         [0.],\n",
       "         [1.],\n",
       "         [1.],\n",
       "         [1.],\n",
       "         [1.],\n",
       "         [1.],\n",
       "         [1.],\n",
       "         [1.],\n",
       "         [0.],\n",
       "         [1.],\n",
       "         [0.],\n",
       "         [1.],\n",
       "         [0.],\n",
       "         [1.],\n",
       "         [0.],\n",
       "         [0.],\n",
       "         [0.],\n",
       "         [0.],\n",
       "         [0.],\n",
       "         [1.],\n",
       "         [1.],\n",
       "         [0.],\n",
       "         [0.]]))"
      ]
     },
     "execution_count": 10,
     "metadata": {},
     "output_type": "execute_result"
    }
   ],
   "source": [
    "y, labels"
   ]
  },
  {
   "cell_type": "code",
   "execution_count": 11,
   "metadata": {},
   "outputs": [],
   "source": [
    "Theta = torch.Tensor(theta[:, None])"
   ]
  },
  {
   "cell_type": "code",
   "execution_count": 12,
   "metadata": {},
   "outputs": [
    {
     "data": {
      "text/plain": [
       "(array([-0.62407285,  0.45968689, -0.78547356,  0.75565354, -0.79212272,\n",
       "         0.18635792,  0.80597037, -0.18872334,  0.20912404, -0.32310656,\n",
       "         0.98369885,  0.31235504,  1.40288468,  0.23566546, -0.31094083,\n",
       "         0.93068245, -0.45670275, -0.7076073 ,  0.10610139,  0.17309784,\n",
       "         0.22446567, -0.07944272, -0.37295869, -0.15334702,  0.08446677,\n",
       "         0.96365786, -0.24751097,  0.56342396, -0.11909539, -0.37356262,\n",
       "        -0.95363634, -0.1777964 ,  0.33229767, -0.25618204, -0.4508449 ,\n",
       "        -0.6613898 , -0.85610498,  0.28503423,  0.23087016, -0.82151494,\n",
       "        -0.44983788, -0.82713641,  0.24644598, -0.62081728, -0.14791296,\n",
       "         0.64789151,  0.95478577,  0.17789818, -0.23324645,  0.23591618,\n",
       "         0.03055271, -0.44226532, -0.26953561,  0.46300935, -0.54680456,\n",
       "         0.45198536, -0.6195379 ,  1.20169872, -0.32438852,  0.61616373,\n",
       "        -0.57660509,  0.2831096 ,  0.54380064,  0.72309077, -0.59784329,\n",
       "         0.89801611,  0.56692267, -0.20775609, -0.78810091, -0.226012  ,\n",
       "        -0.20836788, -0.71635699, -0.20925128,  0.0217005 , -0.25365156,\n",
       "        -0.84317476, -0.85408493,  0.0762304 ,  0.88355193, -0.88774764,\n",
       "         0.13375026,  0.43030871,  0.16545247, -0.07822566, -0.13162188,\n",
       "        -0.04857175,  0.41236394,  0.06858142, -0.79172347, -0.09013012,\n",
       "        -0.01396948,  0.38796781, -0.56555526,  0.40567388,  1.1679457 ,\n",
       "         0.08426575,  0.45944022, -0.1068573 , -0.1682298 , -0.52035996,\n",
       "         0.34543464,  0.76807044, -0.46169292, -0.01177118, -0.55465282,\n",
       "         0.00206288,  0.67166757,  0.41490653,  0.4238596 ,  0.20480273,\n",
       "        -0.67584065, -0.22822596,  0.27583215,  0.13712218, -0.44172511,\n",
       "        -0.13366103, -0.30771511, -0.17715678,  0.20773124, -0.09683223,\n",
       "         0.14057569,  0.19226199,  0.35922101, -0.40912584, -0.73118136,\n",
       "        -0.26907197,  1.72097048, -0.37951023,  0.17094042, -0.10924142,\n",
       "         0.23219685,  0.44365646,  0.19486118,  1.11900856,  0.9645212 ,\n",
       "         0.09710814, -0.11272586,  0.29113531, -0.24581286, -0.34286372,\n",
       "         0.29394371, -0.50550652, -0.32712833, -0.28665105, -0.76289509,\n",
       "        -0.53134141,  0.91603059, -0.23110429, -0.06115999, -0.17494895]),\n",
       " tensor([[-0.6241],\n",
       "         [ 0.4597],\n",
       "         [-0.7855],\n",
       "         [ 0.7557],\n",
       "         [-0.7921],\n",
       "         [ 0.1864],\n",
       "         [ 0.8060],\n",
       "         [-0.1887],\n",
       "         [ 0.2091],\n",
       "         [-0.3231],\n",
       "         [ 0.9837],\n",
       "         [ 0.3124],\n",
       "         [ 1.4029],\n",
       "         [ 0.2357],\n",
       "         [-0.3109],\n",
       "         [ 0.9307],\n",
       "         [-0.4567],\n",
       "         [-0.7076],\n",
       "         [ 0.1061],\n",
       "         [ 0.1731],\n",
       "         [ 0.2245],\n",
       "         [-0.0794],\n",
       "         [-0.3730],\n",
       "         [-0.1533],\n",
       "         [ 0.0845],\n",
       "         [ 0.9637],\n",
       "         [-0.2475],\n",
       "         [ 0.5634],\n",
       "         [-0.1191],\n",
       "         [-0.3736],\n",
       "         [-0.9536],\n",
       "         [-0.1778],\n",
       "         [ 0.3323],\n",
       "         [-0.2562],\n",
       "         [-0.4508],\n",
       "         [-0.6614],\n",
       "         [-0.8561],\n",
       "         [ 0.2850],\n",
       "         [ 0.2309],\n",
       "         [-0.8215],\n",
       "         [-0.4498],\n",
       "         [-0.8271],\n",
       "         [ 0.2464],\n",
       "         [-0.6208],\n",
       "         [-0.1479],\n",
       "         [ 0.6479],\n",
       "         [ 0.9548],\n",
       "         [ 0.1779],\n",
       "         [-0.2332],\n",
       "         [ 0.2359],\n",
       "         [ 0.0306],\n",
       "         [-0.4423],\n",
       "         [-0.2695],\n",
       "         [ 0.4630],\n",
       "         [-0.5468],\n",
       "         [ 0.4520],\n",
       "         [-0.6195],\n",
       "         [ 1.2017],\n",
       "         [-0.3244],\n",
       "         [ 0.6162],\n",
       "         [-0.5766],\n",
       "         [ 0.2831],\n",
       "         [ 0.5438],\n",
       "         [ 0.7231],\n",
       "         [-0.5978],\n",
       "         [ 0.8980],\n",
       "         [ 0.5669],\n",
       "         [-0.2078],\n",
       "         [-0.7881],\n",
       "         [-0.2260],\n",
       "         [-0.2084],\n",
       "         [-0.7164],\n",
       "         [-0.2093],\n",
       "         [ 0.0217],\n",
       "         [-0.2537],\n",
       "         [-0.8432],\n",
       "         [-0.8541],\n",
       "         [ 0.0762],\n",
       "         [ 0.8836],\n",
       "         [-0.8877],\n",
       "         [ 0.1338],\n",
       "         [ 0.4303],\n",
       "         [ 0.1655],\n",
       "         [-0.0782],\n",
       "         [-0.1316],\n",
       "         [-0.0486],\n",
       "         [ 0.4124],\n",
       "         [ 0.0686],\n",
       "         [-0.7917],\n",
       "         [-0.0901],\n",
       "         [-0.0140],\n",
       "         [ 0.3880],\n",
       "         [-0.5656],\n",
       "         [ 0.4057],\n",
       "         [ 1.1679],\n",
       "         [ 0.0843],\n",
       "         [ 0.4594],\n",
       "         [-0.1069],\n",
       "         [-0.1682],\n",
       "         [-0.5204],\n",
       "         [ 0.3454],\n",
       "         [ 0.7681],\n",
       "         [-0.4617],\n",
       "         [-0.0118],\n",
       "         [-0.5547],\n",
       "         [ 0.0021],\n",
       "         [ 0.6717],\n",
       "         [ 0.4149],\n",
       "         [ 0.4239],\n",
       "         [ 0.2048],\n",
       "         [-0.6758],\n",
       "         [-0.2282],\n",
       "         [ 0.2758],\n",
       "         [ 0.1371],\n",
       "         [-0.4417],\n",
       "         [-0.1337],\n",
       "         [-0.3077],\n",
       "         [-0.1772],\n",
       "         [ 0.2077],\n",
       "         [-0.0968],\n",
       "         [ 0.1406],\n",
       "         [ 0.1923],\n",
       "         [ 0.3592],\n",
       "         [-0.4091],\n",
       "         [-0.7312],\n",
       "         [-0.2691],\n",
       "         [ 1.7210],\n",
       "         [-0.3795],\n",
       "         [ 0.1709],\n",
       "         [-0.1092],\n",
       "         [ 0.2322],\n",
       "         [ 0.4437],\n",
       "         [ 0.1949],\n",
       "         [ 1.1190],\n",
       "         [ 0.9645],\n",
       "         [ 0.0971],\n",
       "         [-0.1127],\n",
       "         [ 0.2911],\n",
       "         [-0.2458],\n",
       "         [-0.3429],\n",
       "         [ 0.2939],\n",
       "         [-0.5055],\n",
       "         [-0.3271],\n",
       "         [-0.2867],\n",
       "         [-0.7629],\n",
       "         [-0.5313],\n",
       "         [ 0.9160],\n",
       "         [-0.2311],\n",
       "         [-0.0612],\n",
       "         [-0.1749]]))"
      ]
     },
     "execution_count": 12,
     "metadata": {},
     "output_type": "execute_result"
    }
   ],
   "source": [
    "theta, Theta"
   ]
  },
  {
   "cell_type": "code",
   "execution_count": 13,
   "metadata": {},
   "outputs": [],
   "source": [
    "# logistic_model(Theta)"
   ]
  },
  {
   "cell_type": "code",
   "execution_count": null,
   "metadata": {},
   "outputs": [],
   "source": []
  },
  {
   "cell_type": "code",
   "execution_count": 14,
   "metadata": {},
   "outputs": [
    {
     "name": "stdout",
     "output_type": "stream",
     "text": [
      "Iteration: 0. Loss: 0.8898227206011976.\n",
      "Iteration: 1000. Loss: 0.5933109563410497.\n",
      "Iteration: 2000. Loss: 0.5169276162588349.\n",
      "Iteration: 3000. Loss: 0.4876419008227394.\n",
      "Iteration: 4000. Loss: 0.4736728778685088.\n",
      "Iteration: 5000. Loss: 0.466138282198527.\n",
      "Iteration: 6000. Loss: 0.46175160302654394.\n",
      "Iteration: 7000. Loss: 0.45906344635754626.\n",
      "Iteration: 8000. Loss: 0.4573553599166355.\n",
      "Iteration: 9000. Loss: 0.45624069616296886.\n"
     ]
    }
   ],
   "source": [
    "iter = 0\n",
    "for epoch in range(int(num_epochs)):\n",
    "    # Clear gradients w.r.t. parameters\n",
    "    optimizer.zero_grad()\n",
    "\n",
    "    # Forward pass to get output/logits\n",
    "    outputs = logistic_model(Theta)\n",
    "\n",
    "    # Calculate Loss: \n",
    "    loss = criterion(outputs, labels)\n",
    "\n",
    "    # Getting gradients w.r.t. parameters\n",
    "    loss.backward()\n",
    "\n",
    "    # Updating parameters\n",
    "    optimizer.step()\n",
    "\n",
    "    iter += 1\n",
    "\n",
    "    # Print Loss\n",
    "    if epoch % 1000 == 0 : \n",
    "        print(\"Iteration: {}. Loss: {}.\".format(epoch, loss.item()))"
   ]
  },
  {
   "cell_type": "code",
   "execution_count": 15,
   "metadata": {},
   "outputs": [
    {
     "data": {
      "text/plain": [
       "LogisticRegressionModel(\n",
       "  (linear): Linear(in_features=1, out_features=1, bias=True)\n",
       ")"
      ]
     },
     "execution_count": 15,
     "metadata": {},
     "output_type": "execute_result"
    }
   ],
   "source": [
    "logistic_model.eval()"
   ]
  },
  {
   "cell_type": "code",
   "execution_count": 16,
   "metadata": {},
   "outputs": [
    {
     "data": {
      "text/plain": [
       "<matplotlib.legend.Legend at 0x14b9dfd50>"
      ]
     },
     "execution_count": 16,
     "metadata": {},
     "output_type": "execute_result"
    },
    {
     "data": {
      "image/png": "[encoded data removed]",
      "text/plain": [
       "<Figure size 576x432 with 1 Axes>"
      ]
     },
     "metadata": {
      "needs_background": "light"
     },
     "output_type": "display_data"
    }
   ],
   "source": [
    "plt.figure(figsize = (8,6)) \n",
    "plt.scatter(theta, p, s=4, color = 'r', label='proba cachées')\n",
    "plt.scatter(theta, y, s=1, alpha=.1, color = 'b', label='données')\n",
    "x_values = np.linspace(-1.5, 1.50, 100)[:, None]\n",
    "y_values = logistic_model(torch.Tensor(x_values)).detach().numpy()\n",
    "plt.plot(x_values, y_values, 'g', alpha=.7, lw=3, label='proba prédites')\n",
    "plt.xlabel(r'$\\theta$')\n",
    "plt.yticks([0.,1.],['Left', 'Right']);\n",
    "plt.legend()\n"
   ]
  },
  {
   "cell_type": "markdown",
   "metadata": {},
   "source": [
    "## validation"
   ]
  },
  {
   "cell_type": "code",
   "execution_count": 17,
   "metadata": {},
   "outputs": [
    {
     "data": {
      "text/plain": [
       "<matplotlib.legend.Legend at 0x14b9a6dd0>"
      ]
     },
     "execution_count": 17,
     "metadata": {},
     "output_type": "execute_result"
    },
    {
     "data": {
      "image/png": "[encoded data removed]",
      "text/plain": [
       "<Figure size 576x432 with 1 Axes>"
      ]
     },
     "metadata": {
      "needs_background": "light"
     },
     "output_type": "display_data"
    }
   ],
   "source": [
    "theta, p, y = get_data() # nouvelles données \n",
    "\n",
    "labels = torch.Tensor(y[:, None])\n",
    "Theta = torch.Tensor(theta[:, None])\n",
    "\n",
    "plt.figure(figsize = (8,6)) \n",
    "plt.scatter(theta, p, s=4, color = 'r', label='proba cachées')\n",
    "plt.scatter(theta, y, s=1, alpha=.1, color = 'b', label='données')\n",
    "x_values = np.linspace(-1.5, 1.50, 100)[:, None]\n",
    "y_values = logistic_model(torch.Tensor(x_values)).detach().numpy()\n",
    "plt.plot(x_values, y_values, 'g', alpha=.7, lw=3, label='proba prédites')\n",
    "plt.xlabel(r'$\\theta$')\n",
    "plt.yticks([0.,1.],['Left', 'Right']);\n",
    "plt.legend()\n"
   ]
  },
  {
   "cell_type": "code",
   "execution_count": null,
   "metadata": {},
   "outputs": [],
   "source": []
  }
 ],
 "metadata": {
  "kernelspec": {
   "display_name": "Python 3",
   "language": "python",
   "name": "python3"
  },
  "language_info": {
   "codemirror_mode": {
    "name": "ipython",
    "version": 3
   },
   "file_extension": ".py",
   "mimetype": "text/x-python",
   "name": "python",
   "nbconvert_exporter": "python",
   "pygments_lexer": "ipython3",
   "version": "3.7.6"
  },
  "nteract": {
   "version": "0.21.0"
  }
 },
 "nbformat": 4,
 "nbformat_minor": 4
}
