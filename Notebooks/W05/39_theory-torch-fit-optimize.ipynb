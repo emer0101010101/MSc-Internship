{
 "cells": [
  {
   "cell_type": "markdown",
   "metadata": {},
   "source": [
    "# \"Cross-validation\" des modèles"
   ]
  },
  {
   "cell_type": "code",
   "execution_count": 1,
   "metadata": {},
   "outputs": [],
   "source": [
    "import numpy as np\n",
    "import matplotlib.pyplot as plt"
   ]
  },
  {
   "cell_type": "markdown",
   "metadata": {},
   "source": [
    "## Creer des données synthetiques "
   ]
  },
  {
   "cell_type": "code",
   "execution_count": 2,
   "metadata": {},
   "outputs": [],
   "source": [
    "def get_data(\n",
    "            N = 50,\n",
    "            p0 = 0.15,\n",
    "            theta0 = 0,\n",
    "            wt = np.pi/20,\n",
    "            theta_std = np.pi/6):\n",
    "    \n",
    "    theta = np.random.randn(N)*theta_std\n",
    "    a = (theta-theta0)/wt\n",
    "    p = 1/(1+np.exp(-a))\n",
    "    \n",
    "    p = p0/2 + (1-p0) * p\n",
    "    y = np.random.rand(N) < p\n",
    "    return theta, p, y\n"
   ]
  },
  {
   "cell_type": "code",
   "execution_count": 3,
   "metadata": {},
   "outputs": [],
   "source": [
    "import torch\n",
    "criterion = torch.nn.BCELoss()\n",
    "\n",
    "def fit_data(theta, y, \n",
    "                learning_rate = 0.005,\n",
    "                num_epochs = 1000,\n",
    "                verbose=False):\n",
    "    torch.set_default_tensor_type('torch.DoubleTensor')\n",
    "    from torch.nn import functional as F\n",
    "\n",
    "    class LogisticRegressionModel(torch.nn.Module):\n",
    "        def __init__(self):\n",
    "            super(LogisticRegressionModel, self).__init__()\n",
    "            self.linear = torch.nn.Linear(1, 1)    \n",
    "            self.logit0 = torch.nn.Linear(1, 1) \n",
    "\n",
    "        def forward(self, x):\n",
    "            p0 = torch.sigmoid(self.logit0(torch.zeros(1)))\n",
    "            out = p0/2 + (1-p0)*torch.sigmoid(self.linear(x))\n",
    "            return out\n",
    "\n",
    "    logistic_model = LogisticRegressionModel()\n",
    "    optimizer = torch.optim.Adam(logistic_model.parameters(), lr=learning_rate)\n",
    "\n",
    "    theta, p, y = get_data()\n",
    "    labels = torch.Tensor(y[:, None])\n",
    "    Theta = torch.Tensor(theta[:, None])\n",
    "\n",
    "    for epoch in range(int(num_epochs)):\n",
    "\n",
    "        optimizer.zero_grad()\n",
    "        outputs = logistic_model(Theta)\n",
    "        loss = criterion(outputs, labels)\n",
    "        loss.backward()\n",
    "        optimizer.step()\n",
    "\n",
    "        # Print Loss\n",
    "        if verbose and (epoch % (num_epochs//32) == 0) : \n",
    "            print(f\"Iteration: {epoch}. Loss: {loss.item():.5f}.\")\n",
    "\n",
    "    logistic_model.eval()\n",
    "    return logistic_model, loss.item()"
   ]
  },
  {
   "cell_type": "markdown",
   "metadata": {},
   "source": [
    "kezako?"
   ]
  },
  {
   "cell_type": "code",
   "execution_count": 4,
   "metadata": {},
   "outputs": [
    {
     "name": "stdout",
     "output_type": "stream",
     "text": [
      "Iteration: 0. Loss: 0.72927.\n",
      "Iteration: 312. Loss: 0.58313.\n",
      "Iteration: 624. Loss: 0.47703.\n",
      "Iteration: 936. Loss: 0.43957.\n",
      "Iteration: 1248. Loss: 0.42406.\n",
      "Iteration: 1560. Loss: 0.41723.\n",
      "Iteration: 1872. Loss: 0.41423.\n",
      "Iteration: 2184. Loss: 0.41297.\n",
      "Iteration: 2496. Loss: 0.41246.\n",
      "Iteration: 2808. Loss: 0.41226.\n",
      "Iteration: 3120. Loss: 0.41216.\n",
      "Iteration: 3432. Loss: 0.41209.\n",
      "Iteration: 3744. Loss: 0.41204.\n",
      "Iteration: 4056. Loss: 0.41200.\n",
      "Iteration: 4368. Loss: 0.41197.\n",
      "Iteration: 4680. Loss: 0.41194.\n",
      "Iteration: 4992. Loss: 0.41192.\n",
      "Iteration: 5304. Loss: 0.41190.\n",
      "Iteration: 5616. Loss: 0.41188.\n",
      "Iteration: 5928. Loss: 0.41186.\n",
      "Iteration: 6240. Loss: 0.41185.\n",
      "Iteration: 6552. Loss: 0.41184.\n",
      "Iteration: 6864. Loss: 0.41183.\n",
      "Iteration: 7176. Loss: 0.41182.\n",
      "Iteration: 7488. Loss: 0.41182.\n",
      "Iteration: 7800. Loss: 0.41181.\n",
      "Iteration: 8112. Loss: 0.41181.\n",
      "Iteration: 8424. Loss: 0.41180.\n",
      "Iteration: 8736. Loss: 0.41180.\n",
      "Iteration: 9048. Loss: 0.41180.\n",
      "Iteration: 9360. Loss: 0.41179.\n",
      "Iteration: 9672. Loss: 0.41179.\n",
      "Iteration: 9984. Loss: 0.41179.\n"
     ]
    }
   ],
   "source": [
    "theta, p, y = get_data()\n",
    "logistic_model, loss = fit_data(theta, y, verbose=True)"
   ]
  },
  {
   "cell_type": "code",
   "execution_count": 5,
   "metadata": {},
   "outputs": [
    {
     "data": {
      "image/png": "[encoded data removed]",
      "text/plain": [
       "<Figure size 576x432 with 1 Axes>"
      ]
     },
     "metadata": {
      "needs_background": "light"
     },
     "output_type": "display_data"
    }
   ],
   "source": [
    "plt.figure(figsize = (8,6)) \n",
    "plt.scatter(theta, p, s=4, color = 'r', label='proba cachées')\n",
    "plt.scatter(theta, y, s=1, alpha=.1, color = 'b', label='données')\n",
    "x_values = np.linspace(-1.5, 1.50, 100)[:, None]\n",
    "y_values = logistic_model(torch.Tensor(x_values)).detach().numpy()\n",
    "plt.plot(x_values, y_values, 'g', alpha=.7, lw=3, label='proba prédites')\n",
    "plt.xlabel(r'$\\theta$')\n",
    "plt.yticks([0.,1.],['Left', 'Right']);\n",
    "plt.legend();\n"
   ]
  },
  {
   "cell_type": "markdown",
   "metadata": {},
   "source": [
    "## validation"
   ]
  },
  {
   "cell_type": "code",
   "execution_count": 6,
   "metadata": {},
   "outputs": [
    {
     "name": "stdout",
     "output_type": "stream",
     "text": [
      "loss= tensor(0.6005, grad_fn=<BinaryCrossEntropyBackward>)\n"
     ]
    },
    {
     "data": {
      "image/png": "[encoded data removed]",
      "text/plain": [
       "<Figure size 576x432 with 1 Axes>"
      ]
     },
     "metadata": {
      "needs_background": "light"
     },
     "output_type": "display_data"
    }
   ],
   "source": [
    "theta, p, y = get_data() # nouvelles données \n",
    "\n",
    "labels = torch.Tensor(y[:, None])\n",
    "Theta = torch.Tensor(theta[:, None])\n",
    "outputs = logistic_model(Theta)\n",
    "loss = criterion(outputs, labels)\n",
    "print('loss=', loss)\n",
    "plt.figure(figsize = (8,6)) \n",
    "plt.scatter(theta, p, s=4, color = 'r', label='proba cachées')\n",
    "plt.scatter(theta, y, s=1, alpha=.1, color = 'b', label='données')\n",
    "x_values = np.linspace(-1.5, 1.50, 100)[:, None]\n",
    "y_values = logistic_model(torch.Tensor(x_values)).detach().numpy()\n",
    "plt.plot(x_values, y_values, 'g', alpha=.7, lw=3, label='proba prédites')\n",
    "plt.xlabel(r'$\\theta$')\n",
    "plt.yticks([0.,1.],['Left', 'Right']);\n",
    "plt.legend();"
   ]
  },
  {
   "cell_type": "markdown",
   "metadata": {},
   "source": [
    "## influence du nombre de trials"
   ]
  },
  {
   "cell_type": "code",
   "execution_count": 7,
   "metadata": {},
   "outputs": [],
   "source": [
    "Ns = np.logspace(1, 4, 15, base=10)\n",
    "losses, KLs = [], []\n",
    "for N_ in Ns:\n",
    "    theta, p, y = get_data(N=int(N_))\n",
    "    logistic_model, loss = fit_data(theta, y, verbose=False)\n",
    "    theta, p, y = get_data(N=1000) # nouvelles données \n",
    "    labels = torch.Tensor(y[:, None])\n",
    "    Theta = torch.Tensor(theta[:, None])\n",
    "    outputs = logistic_model(Theta)\n",
    "    loss = criterion(outputs, labels).item()\n",
    "    KL = criterion(outputs, torch.Tensor(p[:, None])).item()\n",
    "    print(f\"N: {int(N_)}, Loss: {loss:.5f}, KL: {KL:.5f}.\")\n",
    "    KLs.append(KL)\n",
    "    losses.append(loss)"
   ]
  },
  {
   "cell_type": "code",
   "execution_count": 10,
   "metadata": {},
   "outputs": [
    {
     "data": {
      "text/plain": [
       "Text(0, 0.5, ' Loss ')"
      ]
     },
     "execution_count": 10,
     "metadata": {},
     "output_type": "execute_result"
    },
    {
     "data": {
      "image/png": "[encoded data removed]",
      "text/plain": [
       "<Figure size 576x576 with 1 Axes>"
      ]
     },
     "metadata": {
      "needs_background": "light"
     },
     "output_type": "display_data"
    }
   ],
   "source": [
    "plt.figure(figsize = (8,8)) \n",
    "plt.scatter(Ns, losses)\n",
    "plt.scatter(Ns, KLs)\n",
    "plt.xlabel(' # trials')\n",
    "plt.ylabel(' Loss ')"
   ]
  },
  {
   "cell_type": "markdown",
   "metadata": {},
   "source": [
    "## influence du nombre du learning rate\n"
   ]
  },
  {
   "cell_type": "code",
   "execution_count": 8,
   "metadata": {},
   "outputs": [],
   "source": [
    "learning_rate = 0.005\n",
    "num_epochs = 1e4\n",
    "\n",
    "learning_rates = learning_rate * np.logspace(-1, 1, 15, base=10)\n",
    "losses, KLs = [], []\n",
    "for learning_rate_ in learning_rates:\n",
    "    theta, p, y = get_data()\n",
    "    logistic_model, loss = fit_data(theta, y, learning_rate=learning_rate_, verbose=False)\n",
    "    \n",
    "    theta, p, y = get_data(N=1000) # nouvelles données \n",
    "    labels = torch.Tensor(y[:, None])\n",
    "    Theta = torch.Tensor(theta[:, None])\n",
    "    outputs = logistic_model(Theta)\n",
    "\n",
    "    loss = criterion(outputs, labels).item()\n",
    "    KL = criterion(outputs, torch.Tensor(p[:, None])).item()\n",
    "    print(f\"learning_rate: {learning_rate_}, Loss: {loss:.5f}, KL: {KL:.5f}.\")\n",
    "    KLs.append(KL)\n",
    "    losses.append(loss)"
   ]
  },
  {
   "cell_type": "code",
   "execution_count": 11,
   "metadata": {},
   "outputs": [
    {
     "data": {
      "text/plain": [
       "Text(0, 0.5, ' Loss ')"
      ]
     },
     "execution_count": 11,
     "metadata": {},
     "output_type": "execute_result"
    },
    {
     "data": {
      "image/png": "[encoded data removed]",
      "text/plain": [
       "<Figure size 576x576 with 1 Axes>"
      ]
     },
     "metadata": {
      "needs_background": "light"
     },
     "output_type": "display_data"
    }
   ],
   "source": [
    "plt.figure(figsize = (8,8)) \n",
    "plt.scatter(learning_rates, losses)\n",
    "plt.scatter(learning_rates, KLs)\n",
    "\n",
    "plt.xlabel('learning_rate')\n",
    "plt.ylabel(' Loss ')"
   ]
  },
  {
   "cell_type": "markdown",
   "metadata": {},
   "source": [
    "## influence du nombre du nombre d'epochs"
   ]
  },
  {
   "cell_type": "code",
   "execution_count": 9,
   "metadata": {},
   "outputs": [],
   "source": [
    "num_epochss = num_epochs * np.logspace(-1, 1, 15, base=10)\n",
    "losses, KLs = [], []\n",
    "for num_epochs_ in num_epochss:\n",
    "    theta, p, y = get_data()\n",
    "    logistic_model, loss = fit_data(theta, y, num_epochs=int(num_epochs_), verbose=False)\n",
    "    theta, p, y = get_data(N=1000) # nouvelles données \n",
    "    labels = torch.Tensor(y[:, None])\n",
    "    Theta = torch.Tensor(theta[:, None])\n",
    "    outputs = logistic_model(Theta)\n",
    "\n",
    "    loss = criterion(outputs, labels).item()\n",
    "    KL = criterion(outputs, torch.Tensor(p[:, None])).item()\n",
    "    print(f\"num_epochs: {int(N_)}, Loss: {loss:.5f}, KL: {KL:.5f}.\")\n",
    "    KLs.append(KL)\n",
    "    losses.append(loss)"
   ]
  },
  {
   "cell_type": "code",
   "execution_count": 12,
   "metadata": {},
   "outputs": [
    {
     "data": {
      "text/plain": [
       "Text(0, 0.5, ' Loss ')"
      ]
     },
     "execution_count": 12,
     "metadata": {},
     "output_type": "execute_result"
    },
    {
     "data": {
      "image/png": "[encoded data removed]",
      "text/plain": [
       "<Figure size 576x576 with 1 Axes>"
      ]
     },
     "metadata": {
      "needs_background": "light"
     },
     "output_type": "display_data"
    }
   ],
   "source": [
    "plt.figure(figsize = (8,8)) \n",
    "plt.scatter(num_epochss, losses)\n",
    "plt.scatter(num_epochss, KLs)\n",
    "plt.xlabel(' num_epochss')\n",
    "plt.ylabel(' Loss ')"
   ]
  },
  {
   "cell_type": "code",
   "execution_count": null,
   "metadata": {},
   "outputs": [],
   "source": []
  }
 ],
 "metadata": {
  "kernelspec": {
   "display_name": "Python 3",
   "language": "python",
   "name": "python3"
  },
  "language_info": {
   "codemirror_mode": {
    "name": "ipython",
    "version": 3
   },
   "file_extension": ".py",
   "mimetype": "text/x-python",
   "name": "python",
   "nbconvert_exporter": "python",
   "pygments_lexer": "ipython3",
   "version": "3.7.6"
  },
  "nteract": {
   "version": "0.21.0"
  }
 },
 "nbformat": 4,
 "nbformat_minor": 4
}
