{
 "cells": [
  {
   "cell_type": "markdown",
   "metadata": {},
   "source": [
    "# \"Cross-validation\" des modèles"
   ]
  },
  {
   "cell_type": "code",
   "execution_count": 1,
   "metadata": {},
   "outputs": [],
   "source": [
    "import numpy as np\n",
    "import matplotlib.pyplot as plt"
   ]
  },
  {
   "cell_type": "markdown",
   "metadata": {},
   "source": [
    "## Creer des données synthetiques "
   ]
  },
  {
   "cell_type": "code",
   "execution_count": 2,
   "metadata": {},
   "outputs": [],
   "source": [
    "def get_data(\n",
    "            N = 500,\n",
    "            p0 = 0.15,\n",
    "            theta0 = 0,\n",
    "            wt = np.pi/20,\n",
    "            theta_std = np.pi/6):\n",
    "    \n",
    "    theta = np.random.randn(N)*theta_std\n",
    "    a = (theta-theta0)/wt\n",
    "    p = 1/(1+np.exp(-a))\n",
    "    \n",
    "    p = p0/2 + (1-p0) * p\n",
    "    y = np.random.rand(N) < p\n",
    "    return theta, p, y\n"
   ]
  },
  {
   "cell_type": "code",
   "execution_count": null,
   "metadata": {},
   "outputs": [],
   "source": []
  },
  {
   "cell_type": "code",
   "execution_count": 3,
   "metadata": {},
   "outputs": [],
   "source": [
    "import torch\n",
    "criterion = torch.nn.BCELoss()\n",
    "\n",
    "def fit_data(theta, y, \n",
    "                learning_rate = 0.005,\n",
    "                num_epochs = 1e4,\n",
    "                verbose=False):\n",
    "    torch.set_default_tensor_type('torch.DoubleTensor')\n",
    "    from torch.nn import functional as F\n",
    "\n",
    "    class LogisticRegressionModel(torch.nn.Module):\n",
    "        def __init__(self):\n",
    "            super(LogisticRegressionModel, self).__init__()\n",
    "            self.linear = torch.nn.Linear(1, 1)    \n",
    "            self.logit0 = torch.nn.Linear(1, 1) \n",
    "\n",
    "        def forward(self, x):\n",
    "            p0 = torch.sigmoid(self.logit0(torch.zeros(1)))\n",
    "            out = p0/2 + (1-p0)*torch.sigmoid(self.linear(x))\n",
    "            return out\n",
    "\n",
    "    logistic_model = LogisticRegressionModel()\n",
    "    \n",
    "\n",
    "    optimizer = torch.optim.Adam(logistic_model.parameters(), lr=learning_rate)\n",
    "\n",
    "    theta, p, y = get_data()\n",
    "    labels = torch.Tensor(y[:, None])\n",
    "    Theta = torch.Tensor(theta[:, None])\n",
    "\n",
    "    iter = 0\n",
    "    for epoch in range(int(num_epochs)):\n",
    "        # Clear gradients w.r.t. parameters\n",
    "        optimizer.zero_grad()\n",
    "\n",
    "        # Forward pass to get output/logits\n",
    "        outputs = logistic_model(Theta)\n",
    "\n",
    "        # Calculate Loss: \n",
    "        loss = criterion(outputs, labels)\n",
    "\n",
    "        # Getting gradients w.r.t. parameters\n",
    "        loss.backward()\n",
    "\n",
    "        # Updating parameters\n",
    "        optimizer.step()\n",
    "\n",
    "        iter += 1\n",
    "\n",
    "        # Print Loss\n",
    "        if verbose and (epoch % (num_epochs//32) == 0) : \n",
    "            print(f\"Iteration: {epoch}. Loss: {loss.item():.5f}.\")\n",
    "\n",
    "    logistic_model.eval()\n",
    "    return logistic_model, loss.item()"
   ]
  },
  {
   "cell_type": "markdown",
   "metadata": {},
   "source": [
    "kezako?"
   ]
  },
  {
   "cell_type": "code",
   "execution_count": null,
   "metadata": {},
   "outputs": [
    {
     "name": "stdout",
     "output_type": "stream",
     "text": [
      "Iteration: 0. Loss: 0.64768.\n",
      "Iteration: 312. Loss: 0.53423.\n",
      "Iteration: 624. Loss: 0.50019.\n",
      "Iteration: 936. Loss: 0.49302.\n",
      "Iteration: 1248. Loss: 0.49049.\n",
      "Iteration: 1560. Loss: 0.48839.\n",
      "Iteration: 1872. Loss: 0.48651.\n",
      "Iteration: 2184. Loss: 0.48497.\n"
     ]
    }
   ],
   "source": [
    "theta, p, y = get_data()\n",
    "\n",
    "logistic_model, loss = fit_data(theta, y, verbose=True)"
   ]
  },
  {
   "cell_type": "code",
   "execution_count": null,
   "metadata": {},
   "outputs": [],
   "source": [
    "plt.figure(figsize = (8,6)) \n",
    "plt.scatter(theta, p, s=4, color = 'r', label='proba cachées')\n",
    "plt.scatter(theta, y, s=1, alpha=.1, color = 'b', label='données')\n",
    "x_values = np.linspace(-1.5, 1.50, 100)[:, None]\n",
    "y_values = logistic_model(torch.Tensor(x_values)).detach().numpy()\n",
    "plt.plot(x_values, y_values, 'g', alpha=.7, lw=3, label='proba prédites')\n",
    "plt.xlabel(r'$\\theta$')\n",
    "plt.yticks([0.,1.],['Left', 'Right']);\n",
    "plt.legend();\n"
   ]
  },
  {
   "cell_type": "markdown",
   "metadata": {},
   "source": [
    "## validation"
   ]
  },
  {
   "cell_type": "code",
   "execution_count": null,
   "metadata": {},
   "outputs": [],
   "source": [
    "theta, p, y = get_data() # nouvelles données \n",
    "\n",
    "labels = torch.Tensor(y[:, None])\n",
    "Theta = torch.Tensor(theta[:, None])\n",
    "outputs = logistic_model(Theta)\n",
    "loss = criterion(outputs, labels)\n",
    "print('loss=', loss)\n",
    "plt.figure(figsize = (8,6)) \n",
    "plt.scatter(theta, p, s=4, color = 'r', label='proba cachées')\n",
    "plt.scatter(theta, y, s=1, alpha=.1, color = 'b', label='données')\n",
    "x_values = np.linspace(-1.5, 1.50, 100)[:, None]\n",
    "y_values = logistic_model(torch.Tensor(x_values)).detach().numpy()\n",
    "plt.plot(x_values, y_values, 'g', alpha=.7, lw=3, label='proba prédites')\n",
    "plt.xlabel(r'$\\theta$')\n",
    "plt.yticks([0.,1.],['Left', 'Right']);\n",
    "plt.legend();"
   ]
  },
  {
   "cell_type": "markdown",
   "metadata": {},
   "source": [
    "## influence du nombre de trials"
   ]
  },
  {
   "cell_type": "code",
   "execution_count": null,
   "metadata": {},
   "outputs": [],
   "source": [
    "Ns = np.logspace(1, 4, 15, base=10)\n",
    "losses = []\n",
    "for N_ in Ns:\n",
    "    theta, p, y = get_data(N=int(N_))\n",
    "    logistic_model, loss = fit_data(theta, y, verbose=False)\n",
    "    theta, p, y = get_data(N=1000) # nouvelles données \n",
    "    labels = torch.Tensor(y[:, None])\n",
    "    Theta = torch.Tensor(theta[:, None])\n",
    "    outputs = logistic_model(Theta)\n",
    "    loss = criterion(outputs, labels)\n",
    "    print(f\"N: {int(N_)}. Loss: {loss:.5f}.\")\n",
    "    losses.append(loss)\n",
    "\n",
    "plt.figure(figsize = (8,8)) \n",
    "plt.scatter(Ns, losses)\n",
    "plt.xlabel(' # trials')\n",
    "plt.ylabel(' Loss ')\n"
   ]
  },
  {
   "cell_type": "code",
   "execution_count": null,
   "metadata": {},
   "outputs": [],
   "source": []
  },
  {
   "cell_type": "markdown",
   "metadata": {},
   "source": [
    "## influence du nombre du learning rate\n"
   ]
  },
  {
   "cell_type": "markdown",
   "metadata": {},
   "source": [
    "## influence du nombre du nombre d'epochs"
   ]
  }
 ],
 "metadata": {
  "kernelspec": {
   "display_name": "Python 3",
   "language": "python",
   "name": "python3"
  },
  "language_info": {
   "codemirror_mode": {
    "name": "ipython",
    "version": 3
   },
   "file_extension": ".py",
   "mimetype": "text/x-python",
   "name": "python",
   "nbconvert_exporter": "python",
   "pygments_lexer": "ipython3",
   "version": "3.7.6"
  },
  "nteract": {
   "version": "0.21.0"
  }
 },
 "nbformat": 4,
 "nbformat_minor": 4
}
