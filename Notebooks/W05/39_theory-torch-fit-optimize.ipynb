{
 "cells": [
  {
   "cell_type": "markdown",
   "metadata": {},
   "source": [
    "# \"Cross-validation\" des modèles"
   ]
  },
  {
   "cell_type": "code",
   "execution_count": 1,
   "metadata": {},
   "outputs": [],
   "source": [
    "learning_rate = 0.04\n",
    "num_epochs = 200\n",
    "N = 250\n",
    "N_cv = 10\n",
    "seed = 42\n",
    "batch_size = N//2\n",
    "batch_size = N//4\n",
    "\n",
    "N_test = 0\n",
    "N_test = 1000\n",
    "N_scan = 9"
   ]
  },
  {
   "cell_type": "code",
   "execution_count": 2,
   "metadata": {},
   "outputs": [],
   "source": [
    "import numpy as np\n",
    "import matplotlib.pyplot as plt"
   ]
  },
  {
   "cell_type": "markdown",
   "metadata": {},
   "source": [
    "## Creer des données synthetiques "
   ]
  },
  {
   "cell_type": "code",
   "execution_count": 3,
   "metadata": {},
   "outputs": [],
   "source": [
    "def get_data(\n",
    "            N = N,\n",
    "            p0 = 0.05,\n",
    "            theta0 = 0,\n",
    "            wt = np.pi/20,\n",
    "            theta_std = np.pi/6,\n",
    "            seed=seed):\n",
    "    np.random.seed(42)\n",
    "    theta = np.random.randn(N)*theta_std\n",
    "    a = (theta-theta0)/wt\n",
    "    p = 1/(1+np.exp(-a))\n",
    "    \n",
    "    p = p0/2 + (1-p0) * p\n",
    "    y = np.random.rand(N) < p\n",
    "    return theta, p, y\n"
   ]
  },
  {
   "cell_type": "code",
   "execution_count": 4,
   "metadata": {},
   "outputs": [],
   "source": [
    "import torch\n",
    "from torch.utils.data import TensorDataset, DataLoader\n",
    "\n",
    "torch.set_default_tensor_type('torch.DoubleTensor')\n",
    "criterion = torch.nn.BCELoss()\n",
    "\n",
    "class LogisticRegressionModel(torch.nn.Module):\n",
    "    def __init__(self, bias=True):\n",
    "        super(LogisticRegressionModel, self).__init__()\n",
    "        self.linear = torch.nn.Linear(1, 1, bias=bias)    \n",
    "        self.logit0 = torch.nn.Linear(1, 1) \n",
    "\n",
    "    def forward(self, x):\n",
    "        p0 = torch.sigmoid(self.logit0(torch.zeros(1)))\n",
    "        out = p0/2 + (1-p0)*torch.sigmoid(self.linear(x))\n",
    "        return out\n",
    "\n",
    "def fit_data(theta, y, \n",
    "                learning_rate =learning_rate,\n",
    "                num_epochs = num_epochs,\n",
    "                batch_size = batch_size,\n",
    "                verbose=False):\n",
    "\n",
    "    logistic_model = LogisticRegressionModel()\n",
    "\n",
    "    labels = torch.Tensor(y[:, None])\n",
    "    Theta = torch.Tensor(theta[:, None])\n",
    "\n",
    "    loader = DataLoader(TensorDataset(Theta, labels), batch_size=batch_size, shuffle=True)\n",
    "    optimizer = torch.optim.Adam(logistic_model.parameters(), lr=learning_rate/len(loader))\n",
    "    \n",
    "    for epoch in range(int(num_epochs)):\n",
    "        losses = []\n",
    "        for Theta_, labels_ in loader:\n",
    "            optimizer.zero_grad()\n",
    "            outputs = logistic_model(Theta_)\n",
    "            loss = criterion(outputs, labels_)\n",
    "            loss.backward()\n",
    "            optimizer.step()\n",
    "            losses.append(loss.item())\n",
    "        \n",
    "        if verbose and (epoch % (num_epochs//32) == 0) : \n",
    "            print(f\"Iteration: {epoch} - Loss: {np.mean(losses):.5f}\")\n",
    "\n",
    "    logistic_model.eval()\n",
    "    return logistic_model, np.mean(losses)"
   ]
  },
  {
   "cell_type": "code",
   "execution_count": 16,
   "metadata": {},
   "outputs": [
    {
     "name": "stdout",
     "output_type": "stream",
     "text": [
      "44.2 µs ± 711 ns per loop (mean ± std. dev. of 7 runs, 10000 loops each)\n"
     ]
    }
   ],
   "source": [
    "%%timeit\n",
    "theta, p, y = get_data()"
   ]
  },
  {
   "cell_type": "code",
   "execution_count": 17,
   "metadata": {},
   "outputs": [
    {
     "name": "stdout",
     "output_type": "stream",
     "text": [
      "Iteration: 0 - Loss: 0.75024\n",
      "Iteration: 6 - Loss: 0.72953\n",
      "Iteration: 12 - Loss: 0.71483\n",
      "Iteration: 18 - Loss: 0.70408\n",
      "Iteration: 24 - Loss: 0.69554\n",
      "Iteration: 30 - Loss: 0.68769\n",
      "Iteration: 36 - Loss: 0.67901\n",
      "Iteration: 42 - Loss: 0.66726\n",
      "Iteration: 48 - Loss: 0.64931\n",
      "Iteration: 54 - Loss: 0.62271\n",
      "Iteration: 60 - Loss: 0.58891\n",
      "Iteration: 66 - Loss: 0.55366\n",
      "Iteration: 72 - Loss: 0.52227\n",
      "Iteration: 78 - Loss: 0.49651\n",
      "Iteration: 84 - Loss: 0.47607\n",
      "Iteration: 90 - Loss: 0.45993\n",
      "Iteration: 96 - Loss: 0.44708\n",
      "Iteration: 102 - Loss: 0.43683\n",
      "Iteration: 108 - Loss: 0.42844\n",
      "Iteration: 114 - Loss: 0.42157\n",
      "Iteration: 120 - Loss: 0.41588\n",
      "Iteration: 126 - Loss: 0.41108\n",
      "Iteration: 132 - Loss: 0.40711\n",
      "Iteration: 138 - Loss: 0.40369\n",
      "Iteration: 144 - Loss: 0.40081\n",
      "Iteration: 150 - Loss: 0.39833\n",
      "Iteration: 156 - Loss: 0.39621\n",
      "Iteration: 162 - Loss: 0.39439\n",
      "Iteration: 168 - Loss: 0.39284\n",
      "Iteration: 174 - Loss: 0.39147\n",
      "Iteration: 180 - Loss: 0.39030\n",
      "Iteration: 186 - Loss: 0.38927\n",
      "Iteration: 192 - Loss: 0.38838\n",
      "Iteration: 198 - Loss: 0.38763\n",
      "Iteration: 0 - Loss: 0.74709\n",
      "Iteration: 6 - Loss: 0.72444\n",
      "Iteration: 12 - Loss: 0.70818\n",
      "Iteration: 18 - Loss: 0.69574\n",
      "Iteration: 24 - Loss: 0.68455\n",
      "Iteration: 30 - Loss: 0.67172\n",
      "Iteration: 36 - Loss: 0.65361\n",
      "Iteration: 42 - Loss: 0.62780\n",
      "Iteration: 48 - Loss: 0.59595\n",
      "Iteration: 54 - Loss: 0.56316\n",
      "Iteration: 60 - Loss: 0.53359\n",
      "Iteration: 66 - Loss: 0.50864\n",
      "Iteration: 72 - Loss: 0.48843\n",
      "Iteration: 78 - Loss: 0.47192\n",
      "Iteration: 84 - Loss: 0.45852\n",
      "Iteration: 90 - Loss: 0.44748\n",
      "Iteration: 96 - Loss: 0.43838\n",
      "Iteration: 102 - Loss: 0.43076\n",
      "Iteration: 108 - Loss: 0.42432\n",
      "Iteration: 114 - Loss: 0.41886\n",
      "Iteration: 120 - Loss: 0.41419\n",
      "Iteration: 126 - Loss: 0.41020\n",
      "Iteration: 132 - Loss: 0.40677\n",
      "Iteration: 138 - Loss: 0.40380\n",
      "Iteration: 144 - Loss: 0.40120\n",
      "Iteration: 150 - Loss: 0.39896\n",
      "Iteration: 156 - Loss: 0.39698\n",
      "Iteration: 162 - Loss: 0.39527\n",
      "Iteration: 168 - Loss: 0.39377\n",
      "Iteration: 174 - Loss: 0.39243\n",
      "Iteration: 180 - Loss: 0.39127\n",
      "Iteration: 186 - Loss: 0.39026\n",
      "Iteration: 192 - Loss: 0.38936\n",
      "Iteration: 198 - Loss: 0.38857\n",
      "Iteration: 0 - Loss: 0.74372\n",
      "Iteration: 6 - Loss: 0.72343\n",
      "Iteration: 12 - Loss: 0.70908\n",
      "Iteration: 18 - Loss: 0.69838\n",
      "Iteration: 24 - Loss: 0.68925\n",
      "Iteration: 30 - Loss: 0.67956\n",
      "Iteration: 36 - Loss: 0.66653\n",
      "Iteration: 42 - Loss: 0.64654\n",
      "Iteration: 48 - Loss: 0.61800\n",
      "Iteration: 54 - Loss: 0.58360\n",
      "Iteration: 60 - Loss: 0.54968\n",
      "Iteration: 66 - Loss: 0.52007\n",
      "Iteration: 72 - Loss: 0.49590\n",
      "Iteration: 78 - Loss: 0.47656\n",
      "Iteration: 84 - Loss: 0.46113\n",
      "Iteration: 90 - Loss: 0.44877\n",
      "Iteration: 96 - Loss: 0.43869\n",
      "Iteration: 102 - Loss: 0.43041\n",
      "Iteration: 108 - Loss: 0.42356\n",
      "Iteration: 114 - Loss: 0.41779\n",
      "Iteration: 120 - Loss: 0.41297\n",
      "Iteration: 126 - Loss: 0.40885\n",
      "Iteration: 132 - Loss: 0.40537\n",
      "Iteration: 138 - Loss: 0.40237\n",
      "Iteration: 144 - Loss: 0.39979\n",
      "Iteration: 150 - Loss: 0.39758\n",
      "Iteration: 156 - Loss: 0.39567\n",
      "Iteration: 162 - Loss: 0.39399\n",
      "Iteration: 168 - Loss: 0.39256\n",
      "Iteration: 174 - Loss: 0.39128\n",
      "Iteration: 180 - Loss: 0.39019\n",
      "Iteration: 186 - Loss: 0.38923\n",
      "Iteration: 192 - Loss: 0.38838\n",
      "Iteration: 198 - Loss: 0.38767\n",
      "Iteration: 0 - Loss: 0.78876\n",
      "Iteration: 6 - Loss: 0.75356\n",
      "Iteration: 12 - Loss: 0.72598\n",
      "Iteration: 18 - Loss: 0.70426\n",
      "Iteration: 24 - Loss: 0.68561\n",
      "Iteration: 30 - Loss: 0.66712\n",
      "Iteration: 36 - Loss: 0.64595\n",
      "Iteration: 42 - Loss: 0.62093\n",
      "Iteration: 48 - Loss: 0.59378\n",
      "Iteration: 54 - Loss: 0.56695\n",
      "Iteration: 60 - Loss: 0.54252\n",
      "Iteration: 66 - Loss: 0.52123\n",
      "Iteration: 72 - Loss: 0.50300\n",
      "Iteration: 78 - Loss: 0.48760\n",
      "Iteration: 84 - Loss: 0.47443\n",
      "Iteration: 90 - Loss: 0.46323\n",
      "Iteration: 96 - Loss: 0.45367\n",
      "Iteration: 102 - Loss: 0.44543\n",
      "Iteration: 108 - Loss: 0.43827\n",
      "Iteration: 114 - Loss: 0.43204\n",
      "Iteration: 120 - Loss: 0.42663\n",
      "Iteration: 126 - Loss: 0.42185\n",
      "Iteration: 132 - Loss: 0.41765\n",
      "Iteration: 138 - Loss: 0.41394\n",
      "Iteration: 144 - Loss: 0.41068\n",
      "Iteration: 150 - Loss: 0.40776\n",
      "Iteration: 156 - Loss: 0.40518\n",
      "Iteration: 162 - Loss: 0.40288\n",
      "Iteration: 168 - Loss: 0.40083\n",
      "Iteration: 174 - Loss: 0.39900\n",
      "Iteration: 180 - Loss: 0.39735\n",
      "Iteration: 186 - Loss: 0.39589\n",
      "Iteration: 192 - Loss: 0.39456\n",
      "Iteration: 198 - Loss: 0.39339\n",
      "Iteration: 0 - Loss: 0.72286\n",
      "Iteration: 6 - Loss: 0.70205\n",
      "Iteration: 12 - Loss: 0.68608\n",
      "Iteration: 18 - Loss: 0.66818\n",
      "Iteration: 24 - Loss: 0.64271\n",
      "Iteration: 30 - Loss: 0.61115\n",
      "Iteration: 36 - Loss: 0.57877\n",
      "Iteration: 42 - Loss: 0.54936\n",
      "Iteration: 48 - Loss: 0.52419\n",
      "Iteration: 54 - Loss: 0.50334\n",
      "Iteration: 60 - Loss: 0.48601\n",
      "Iteration: 66 - Loss: 0.47164\n",
      "Iteration: 72 - Loss: 0.45963\n",
      "Iteration: 78 - Loss: 0.44956\n",
      "Iteration: 84 - Loss: 0.44106\n",
      "Iteration: 90 - Loss: 0.43370\n",
      "Iteration: 96 - Loss: 0.42745\n",
      "Iteration: 102 - Loss: 0.42209\n",
      "Iteration: 108 - Loss: 0.41742\n",
      "Iteration: 114 - Loss: 0.41333\n",
      "Iteration: 120 - Loss: 0.40977\n",
      "Iteration: 126 - Loss: 0.40669\n",
      "Iteration: 132 - Loss: 0.40396\n",
      "Iteration: 138 - Loss: 0.40156\n",
      "Iteration: 144 - Loss: 0.39946\n",
      "Iteration: 150 - Loss: 0.39759\n",
      "Iteration: 156 - Loss: 0.39594\n",
      "Iteration: 162 - Loss: 0.39447\n",
      "Iteration: 168 - Loss: 0.39319\n",
      "Iteration: 174 - Loss: 0.39204\n",
      "Iteration: 180 - Loss: 0.39102\n",
      "Iteration: 186 - Loss: 0.39012\n",
      "Iteration: 192 - Loss: 0.38932\n",
      "Iteration: 198 - Loss: 0.38864\n",
      "Iteration: 0 - Loss: 0.69010\n",
      "Iteration: 6 - Loss: 0.66974\n",
      "Iteration: 12 - Loss: 0.64316\n",
      "Iteration: 18 - Loss: 0.61299\n",
      "Iteration: 24 - Loss: 0.58256\n",
      "Iteration: 30 - Loss: 0.55459\n",
      "Iteration: 36 - Loss: 0.52995\n",
      "Iteration: 42 - Loss: 0.50908\n",
      "Iteration: 48 - Loss: 0.49149\n",
      "Iteration: 54 - Loss: 0.47665\n",
      "Iteration: 60 - Loss: 0.46418\n",
      "Iteration: 66 - Loss: 0.45353\n",
      "Iteration: 72 - Loss: 0.44456\n",
      "Iteration: 78 - Loss: 0.43684\n",
      "Iteration: 84 - Loss: 0.43022\n",
      "Iteration: 90 - Loss: 0.42447\n",
      "Iteration: 96 - Loss: 0.41948\n",
      "Iteration: 102 - Loss: 0.41517\n",
      "Iteration: 108 - Loss: 0.41139\n",
      "Iteration: 114 - Loss: 0.40807\n",
      "Iteration: 120 - Loss: 0.40514\n",
      "Iteration: 126 - Loss: 0.40261\n",
      "Iteration: 132 - Loss: 0.40037\n",
      "Iteration: 138 - Loss: 0.39838\n",
      "Iteration: 144 - Loss: 0.39665\n",
      "Iteration: 150 - Loss: 0.39508\n",
      "Iteration: 156 - Loss: 0.39371\n",
      "Iteration: 162 - Loss: 0.39251\n",
      "Iteration: 168 - Loss: 0.39142\n",
      "Iteration: 174 - Loss: 0.39047\n",
      "Iteration: 180 - Loss: 0.38963\n",
      "Iteration: 186 - Loss: 0.38888\n",
      "Iteration: 192 - Loss: 0.38821\n",
      "Iteration: 198 - Loss: 0.38763\n",
      "Iteration: 0 - Loss: 0.62955\n",
      "Iteration: 6 - Loss: 0.60090\n",
      "Iteration: 12 - Loss: 0.57361\n",
      "Iteration: 18 - Loss: 0.54866\n",
      "Iteration: 24 - Loss: 0.52665\n",
      "Iteration: 30 - Loss: 0.50748\n",
      "Iteration: 36 - Loss: 0.49118\n",
      "Iteration: 42 - Loss: 0.47711\n",
      "Iteration: 48 - Loss: 0.46516\n",
      "Iteration: 54 - Loss: 0.45481\n",
      "Iteration: 60 - Loss: 0.44598\n",
      "Iteration: 66 - Loss: 0.43828\n",
      "Iteration: 72 - Loss: 0.43166\n",
      "Iteration: 78 - Loss: 0.42587\n",
      "Iteration: 84 - Loss: 0.42086\n",
      "Iteration: 90 - Loss: 0.41644\n",
      "Iteration: 96 - Loss: 0.41255\n",
      "Iteration: 102 - Loss: 0.40918\n",
      "Iteration: 108 - Loss: 0.40619\n",
      "Iteration: 114 - Loss: 0.40356\n",
      "Iteration: 120 - Loss: 0.40124\n",
      "Iteration: 126 - Loss: 0.39920\n",
      "Iteration: 132 - Loss: 0.39736\n",
      "Iteration: 138 - Loss: 0.39578\n",
      "Iteration: 144 - Loss: 0.39435\n",
      "Iteration: 150 - Loss: 0.39309\n",
      "Iteration: 156 - Loss: 0.39197\n",
      "Iteration: 162 - Loss: 0.39100\n",
      "Iteration: 168 - Loss: 0.39012\n",
      "Iteration: 174 - Loss: 0.38933\n",
      "Iteration: 180 - Loss: 0.38865\n",
      "Iteration: 186 - Loss: 0.38803\n",
      "Iteration: 192 - Loss: 0.38749\n",
      "Iteration: 198 - Loss: 0.38702\n",
      "Iteration: 0 - Loss: 0.67583\n",
      "Iteration: 6 - Loss: 0.65653\n",
      "Iteration: 12 - Loss: 0.63221\n",
      "Iteration: 18 - Loss: 0.60413\n",
      "Iteration: 24 - Loss: 0.57516\n",
      "Iteration: 30 - Loss: 0.54758\n",
      "Iteration: 36 - Loss: 0.52322\n",
      "Iteration: 42 - Loss: 0.50223\n",
      "Iteration: 48 - Loss: 0.48448\n",
      "Iteration: 54 - Loss: 0.46963\n",
      "Iteration: 60 - Loss: 0.45718\n",
      "Iteration: 66 - Loss: 0.44680\n",
      "Iteration: 72 - Loss: 0.43800\n",
      "Iteration: 78 - Loss: 0.43056\n",
      "Iteration: 84 - Loss: 0.42421\n",
      "Iteration: 90 - Loss: 0.41877\n",
      "Iteration: 96 - Loss: 0.41415\n",
      "Iteration: 102 - Loss: 0.41012\n",
      "Iteration: 108 - Loss: 0.40664\n",
      "Iteration: 114 - Loss: 0.40363\n",
      "Iteration: 120 - Loss: 0.40102\n",
      "Iteration: 126 - Loss: 0.39874\n",
      "Iteration: 132 - Loss: 0.39675\n",
      "Iteration: 138 - Loss: 0.39501\n",
      "Iteration: 144 - Loss: 0.39349\n",
      "Iteration: 150 - Loss: 0.39214\n",
      "Iteration: 156 - Loss: 0.39100\n",
      "Iteration: 162 - Loss: 0.38997\n",
      "Iteration: 168 - Loss: 0.38908\n",
      "Iteration: 174 - Loss: 0.38830\n",
      "Iteration: 180 - Loss: 0.38759\n",
      "Iteration: 186 - Loss: 0.38699\n",
      "Iteration: 192 - Loss: 0.38646\n",
      "Iteration: 198 - Loss: 0.38600\n",
      "3.44 s ± 107 ms per loop (mean ± std. dev. of 7 runs, 1 loop each)\n"
     ]
    }
   ],
   "source": [
    "%%timeit\n",
    "logistic_model, loss = fit_data(theta, y, verbose=True)"
   ]
  },
  {
   "cell_type": "code",
   "execution_count": 5,
   "metadata": {},
   "outputs": [
    {
     "name": "stdout",
     "output_type": "stream",
     "text": [
      "Iteration: 0 - Loss: 0.66280\n",
      "Iteration: 6 - Loss: 0.64741\n",
      "Iteration: 12 - Loss: 0.62939\n",
      "Iteration: 18 - Loss: 0.60874\n",
      "Iteration: 24 - Loss: 0.58680\n",
      "Iteration: 30 - Loss: 0.56474\n",
      "Iteration: 36 - Loss: 0.54416\n",
      "Iteration: 42 - Loss: 0.52673\n",
      "Iteration: 48 - Loss: 0.51214\n",
      "Iteration: 54 - Loss: 0.50037\n",
      "Iteration: 60 - Loss: 0.49118\n",
      "Iteration: 66 - Loss: 0.48389\n",
      "Iteration: 72 - Loss: 0.47834\n",
      "Iteration: 78 - Loss: 0.47382\n",
      "Iteration: 84 - Loss: 0.47035\n",
      "Iteration: 90 - Loss: 0.46764\n",
      "Iteration: 96 - Loss: 0.46552\n",
      "Iteration: 102 - Loss: 0.46380\n",
      "Iteration: 108 - Loss: 0.46237\n",
      "Iteration: 114 - Loss: 0.46130\n",
      "Iteration: 120 - Loss: 0.46041\n",
      "Iteration: 126 - Loss: 0.45968\n",
      "Iteration: 132 - Loss: 0.45912\n",
      "Iteration: 138 - Loss: 0.45863\n",
      "Iteration: 144 - Loss: 0.45824\n",
      "Iteration: 150 - Loss: 0.45796\n",
      "Iteration: 156 - Loss: 0.45765\n",
      "Iteration: 162 - Loss: 0.45741\n",
      "Iteration: 168 - Loss: 0.45722\n",
      "Iteration: 174 - Loss: 0.45705\n",
      "Iteration: 180 - Loss: 0.45690\n",
      "Iteration: 186 - Loss: 0.45679\n",
      "Iteration: 192 - Loss: 0.45666\n",
      "Iteration: 198 - Loss: 0.45657\n"
     ]
    }
   ],
   "source": [
    "theta, p, y = get_data()\n",
    "logistic_model, loss = fit_data(theta, y, verbose=True)"
   ]
  },
  {
   "cell_type": "code",
   "execution_count": 6,
   "metadata": {},
   "outputs": [
    {
     "data": {
      "image/png": "[encoded data removed]",
      "text/plain": [
       "<Figure size 576x432 with 1 Axes>"
      ]
     },
     "metadata": {
      "needs_background": "light"
     },
     "output_type": "display_data"
    }
   ],
   "source": [
    "plt.figure(figsize = (8,6)) \n",
    "plt.scatter(theta, p, s=4, color = 'r', label='proba cachées')\n",
    "plt.scatter(theta, y, s=1, alpha=.1, color = 'b', label='données')\n",
    "x_values = np.linspace(-1.5, 1.50, 100)[:, None]\n",
    "y_values = logistic_model(torch.Tensor(x_values)).detach().numpy()\n",
    "plt.plot(x_values, y_values, 'g', alpha=.7, lw=3, label='proba prédites')\n",
    "plt.xlabel(r'$\\theta$')\n",
    "plt.yticks([0.,1.],['Left', 'Right']);\n",
    "plt.legend();\n"
   ]
  },
  {
   "cell_type": "markdown",
   "metadata": {},
   "source": [
    "## validation"
   ]
  },
  {
   "cell_type": "code",
   "execution_count": 7,
   "metadata": {},
   "outputs": [
    {
     "name": "stdout",
     "output_type": "stream",
     "text": [
      "loss= tensor(0.4565, grad_fn=<BinaryCrossEntropyBackward>)\n"
     ]
    },
    {
     "data": {
      "image/png": "[encoded data removed]",
      "text/plain": [
       "<Figure size 576x432 with 1 Axes>"
      ]
     },
     "metadata": {
      "needs_background": "light"
     },
     "output_type": "display_data"
    }
   ],
   "source": [
    "theta, p, y = get_data() # nouvelles données \n",
    "\n",
    "labels = torch.Tensor(y[:, None])\n",
    "Theta = torch.Tensor(theta[:, None])\n",
    "outputs = logistic_model(Theta)\n",
    "loss = criterion(outputs, labels)\n",
    "print('loss=', loss)\n",
    "plt.figure(figsize = (8,6)) \n",
    "plt.scatter(theta, p, s=4, color = 'r', label='proba cachées')\n",
    "plt.scatter(theta, y, s=1, alpha=.1, color = 'b', label='données')\n",
    "x_values = np.linspace(-1.5, 1.50, 100)[:, None]\n",
    "y_values = logistic_model(torch.Tensor(x_values)).detach().numpy()\n",
    "plt.plot(x_values, y_values, 'g', alpha=.7, lw=3, label='proba prédites')\n",
    "plt.xlabel(r'$\\theta$')\n",
    "plt.yticks([0.,1.],['Left', 'Right']);\n",
    "plt.legend();"
   ]
  },
  {
   "cell_type": "markdown",
   "metadata": {},
   "source": [
    "## influence du nombre de trials"
   ]
  },
  {
   "cell_type": "code",
   "execution_count": 8,
   "metadata": {},
   "outputs": [
    {
     "name": "stdout",
     "output_type": "stream",
     "text": [
      "N: 10, Loss: 0.38275, KL: 0.38895\n",
      "N: 17, Loss: 0.39507, KL: 0.39987\n",
      "N: 31, Loss: 0.39448, KL: 0.39974\n",
      "N: 56, Loss: 0.38544, KL: 0.39147\n",
      "N: 100, Loss: 0.39071, KL: 0.39614\n",
      "N: 177, Loss: 0.38605, KL: 0.39135\n",
      "N: 316, Loss: 0.38840, KL: 0.39368\n",
      "N: 562, Loss: 0.38401, KL: 0.38950\n",
      "N: 1000, Loss: 0.38753, KL: 0.39312\n"
     ]
    }
   ],
   "source": [
    "Ns = np.logspace(1, 3, N_scan, base=10)\n",
    "Ns_, losses, KLs = [], [], []\n",
    "for N_ in Ns:\n",
    "    for i_CV in range(N_cv):\n",
    "        theta, p, y = get_data(N=int(N_), seed=seed+i_CV)\n",
    "        logistic_model, loss = fit_data(theta, y, verbose=False)\n",
    "        \n",
    "        if N_test>0: theta, p, y = get_data(N=N_test) # nouvelles données \n",
    "        labels = torch.Tensor(y[:, None])\n",
    "        Theta = torch.Tensor(theta[:, None])\n",
    "        outputs = logistic_model(Theta)\n",
    "        loss = criterion(outputs, labels).item()\n",
    "        KL = criterion(outputs, torch.Tensor(p[:, None])).item()\n",
    "        if i_CV==0: print(f\"N: {int(N_)}, Loss: {loss:.5f}, KL: {KL:.5f}\")\n",
    "        Ns_.append(N_)\n",
    "        KLs.append(KL)\n",
    "        losses.append(loss)"
   ]
  },
  {
   "cell_type": "code",
   "execution_count": 9,
   "metadata": {},
   "outputs": [
    {
     "data": {
      "image/png": "[encoded data removed]",
      "text/plain": [
       "<Figure size 1080x576 with 1 Axes>"
      ]
     },
     "metadata": {
      "needs_background": "light"
     },
     "output_type": "display_data"
    }
   ],
   "source": [
    "fig, ax = plt.subplots(figsize = (15, 8)) \n",
    "ax.scatter(Ns_, losses, alpha=3/N_cv, label='loss')\n",
    "ax.scatter(Ns_, KLs, alpha=3/N_cv, label='KL')\n",
    "\n",
    "ax.set_xlabel(' # trials')\n",
    "ax.set_ylabel(' Loss ')\n",
    "ax.set_xscale('log')"
   ]
  },
  {
   "cell_type": "markdown",
   "metadata": {},
   "source": [
    "## influence du nombre du learning rate\n"
   ]
  },
  {
   "cell_type": "code",
   "execution_count": 10,
   "metadata": {},
   "outputs": [
    {
     "name": "stdout",
     "output_type": "stream",
     "text": [
      "learning_rate: 0.00400, Loss: 0.59473, KL: 0.59565\n",
      "learning_rate: 0.00711, Loss: 0.68106, KL: 0.68116\n",
      "learning_rate: 0.01265, Loss: 0.47223, KL: 0.47481\n",
      "learning_rate: 0.02249, Loss: 0.41867, KL: 0.42258\n",
      "learning_rate: 0.04000, Loss: 0.39337, KL: 0.39798\n",
      "learning_rate: 0.07113, Loss: 0.38927, KL: 0.39397\n",
      "learning_rate: 0.12649, Loss: 0.38914, KL: 0.39384\n",
      "learning_rate: 0.22494, Loss: 0.38873, KL: 0.39347\n",
      "learning_rate: 0.40000, Loss: 0.38830, KL: 0.39307\n"
     ]
    }
   ],
   "source": [
    "learning_rates = learning_rate * np.logspace(-1, 1, N_scan, base=10)\n",
    "learning_rates_, losses, KLs = [], [], []\n",
    "for learning_rate_ in learning_rates:\n",
    "    for i_CV in range(N_cv):\n",
    "        theta, p, y = get_data(seed=seed+i_CV)\n",
    "        logistic_model, loss = fit_data(theta, y, learning_rate=learning_rate_, verbose=False)\n",
    "\n",
    "        if N_test>0: theta, p, y = get_data(N=N_test) # nouvelles données \n",
    "        labels = torch.Tensor(y[:, None])\n",
    "        Theta = torch.Tensor(theta[:, None])\n",
    "        outputs = logistic_model(Theta)\n",
    "\n",
    "        loss = criterion(outputs, labels).item()\n",
    "        KL = criterion(outputs, torch.Tensor(p[:, None])).item()\n",
    "        if i_CV==0: \n",
    "            print(f\"learning_rate: {learning_rate_:.5f}, Loss: {loss:.5f}, KL: {KL:.5f}\")\n",
    "        learning_rates_.append(learning_rate_)\n",
    "        KLs.append(KL)\n",
    "        losses.append(loss)"
   ]
  },
  {
   "cell_type": "code",
   "execution_count": 11,
   "metadata": {},
   "outputs": [
    {
     "data": {
      "image/png": "[encoded data removed]",
      "text/plain": [
       "<Figure size 1080x576 with 1 Axes>"
      ]
     },
     "metadata": {
      "needs_background": "light"
     },
     "output_type": "display_data"
    }
   ],
   "source": [
    "fig, ax = plt.subplots(figsize = (15, 8)) \n",
    "ax.scatter(learning_rates_, losses, alpha=3/N_cv, label='loss')\n",
    "ax.scatter(learning_rates_, KLs, alpha=3/N_cv, label='KL')\n",
    "\n",
    "ax.set_xlabel('learning_rate')\n",
    "ax.set_ylabel(' Loss ')\n",
    "ax.set_xscale('log')\n",
    "ax.legend(loc='best');"
   ]
  },
  {
   "cell_type": "markdown",
   "metadata": {},
   "source": [
    "## influence du nombre d'epochs"
   ]
  },
  {
   "cell_type": "code",
   "execution_count": 12,
   "metadata": {},
   "outputs": [
    {
     "name": "stdout",
     "output_type": "stream",
     "text": [
      "num_epochs: 20, Loss: 0.69206, KL: 0.69207\n",
      "num_epochs: 35, Loss: 0.50847, KL: 0.51037\n",
      "num_epochs: 63, Loss: 0.46829, KL: 0.47084\n",
      "num_epochs: 112, Loss: 0.41915, KL: 0.42307\n",
      "num_epochs: 200, Loss: 0.39973, KL: 0.40421\n",
      "num_epochs: 355, Loss: 0.39128, KL: 0.39589\n",
      "num_epochs: 632, Loss: 0.38912, KL: 0.39382\n",
      "num_epochs: 1124, Loss: 0.38904, KL: 0.39375\n",
      "num_epochs: 2000, Loss: 0.38901, KL: 0.39373\n"
     ]
    }
   ],
   "source": [
    "num_epochss = num_epochs * np.logspace(-1, 1, N_scan, base=10)\n",
    "num_epochss_, losses, KLs = [], [], []\n",
    "for num_epochs_ in num_epochss:\n",
    "    for i_CV in range(N_cv):\n",
    "        theta, p, y = get_data(seed=seed+i_CV)\n",
    "        logistic_model, loss = fit_data(theta, y, num_epochs=int(num_epochs_), verbose=False)\n",
    "        \n",
    "        if N_test>0: theta, p, y = get_data(N=N_test) # nouvelles données \n",
    "        labels = torch.Tensor(y[:, None])\n",
    "        Theta = torch.Tensor(theta[:, None])\n",
    "        outputs = logistic_model(Theta)\n",
    "\n",
    "        loss = criterion(outputs, labels).item()\n",
    "        KL = criterion(outputs, torch.Tensor(p[:, None])).item()\n",
    "        if i_CV==0: \n",
    "            print(f\"num_epochs: {int(num_epochs_)}, Loss: {loss:.5f}, KL: {KL:.5f}\")\n",
    "        num_epochss_.append(num_epochs_)\n",
    "        KLs.append(KL)\n",
    "        losses.append(loss)"
   ]
  },
  {
   "cell_type": "code",
   "execution_count": 13,
   "metadata": {},
   "outputs": [
    {
     "data": {
      "image/png": "[encoded data removed]",
      "text/plain": [
       "<Figure size 1080x576 with 1 Axes>"
      ]
     },
     "metadata": {
      "needs_background": "light"
     },
     "output_type": "display_data"
    }
   ],
   "source": [
    "fig, ax = plt.subplots(figsize = (15, 8)) \n",
    "ax.scatter(num_epochss_, losses, alpha=3/N_cv, label='loss')\n",
    "ax.scatter(num_epochss_, KLs, alpha=3/N_cv, label='KL')\n",
    "\n",
    "ax.set_xlabel(' # epochss')\n",
    "ax.set_ylabel(' Loss ')\n",
    "ax.set_xscale('log')\n",
    "ax.legend(loc='best');"
   ]
  },
  {
   "cell_type": "markdown",
   "metadata": {},
   "source": [
    "## influence de la taille du minibatch"
   ]
  },
  {
   "cell_type": "code",
   "execution_count": 14,
   "metadata": {},
   "outputs": [
    {
     "name": "stdout",
     "output_type": "stream",
     "text": [
      "batch_size: 31, Loss: 0.40313, KL: 0.40745\n",
      "batch_size: 40, Loss: 0.39254, KL: 0.39721\n",
      "batch_size: 52, Loss: 0.40060, KL: 0.40507\n",
      "batch_size: 68, Loss: 0.39432, KL: 0.39891\n",
      "batch_size: 88, Loss: 0.39166, KL: 0.39627\n",
      "batch_size: 114, Loss: 0.39421, KL: 0.39870\n",
      "batch_size: 148, Loss: 0.39223, KL: 0.39685\n",
      "batch_size: 192, Loss: 0.39152, KL: 0.39621\n",
      "batch_size: 250, Loss: 0.39099, KL: 0.39565\n"
     ]
    }
   ],
   "source": [
    "batch_sizes = N * np.logspace(-3, 0, N_scan, base=2)\n",
    "batch_sizes_, losses, KLs = [], [], []\n",
    "for batch_size_ in batch_sizes:\n",
    "    for i_CV in range(N_cv):\n",
    "        theta, p, y = get_data(seed=seed+i_CV)\n",
    "        logistic_model, loss = fit_data(theta, y, batch_size=int(batch_size_), verbose=False)\n",
    "        \n",
    "        if N_test>0: theta, p, y = get_data(N=N_test) # nouvelles données \n",
    "        labels = torch.Tensor(y[:, None])\n",
    "        Theta = torch.Tensor(theta[:, None])\n",
    "        outputs = logistic_model(Theta)\n",
    "\n",
    "        loss = criterion(outputs, labels).item()\n",
    "        KL = criterion(outputs, torch.Tensor(p[:, None])).item()\n",
    "        if i_CV==0: \n",
    "            print(f\"batch_size: {int(batch_size_)}, Loss: {loss:.5f}, KL: {KL:.5f}\")\n",
    "        batch_sizes_.append(batch_size_)\n",
    "        KLs.append(KL)\n",
    "        losses.append(loss)"
   ]
  },
  {
   "cell_type": "code",
   "execution_count": 15,
   "metadata": {},
   "outputs": [
    {
     "data": {
      "image/png": "[encoded data removed]",
      "text/plain": [
       "<Figure size 1080x576 with 1 Axes>"
      ]
     },
     "metadata": {
      "needs_background": "light"
     },
     "output_type": "display_data"
    }
   ],
   "source": [
    "fig, ax = plt.subplots(figsize = (15, 8)) \n",
    "ax.scatter(batch_sizes_, losses, alpha=3/N_cv, label='loss')\n",
    "ax.scatter(batch_sizes_, KLs, alpha=3/N_cv, label='KL')\n",
    "\n",
    "ax.set_xlabel(' batch_size')\n",
    "ax.set_ylabel(' Loss ')\n",
    "ax.set_xscale('log')\n",
    "ax.legend(loc='best');"
   ]
  }
 ],
 "metadata": {
  "kernelspec": {
   "display_name": "Python 3",
   "language": "python",
   "name": "python3"
  },
  "language_info": {
   "codemirror_mode": {
    "name": "ipython",
    "version": 3
   },
   "file_extension": ".py",
   "mimetype": "text/x-python",
   "name": "python",
   "nbconvert_exporter": "python",
   "pygments_lexer": "ipython3",
   "version": "3.7.6"
  },
  "nteract": {
   "version": "0.21.0"
  }
 },
 "nbformat": 4,
 "nbformat_minor": 4
}
