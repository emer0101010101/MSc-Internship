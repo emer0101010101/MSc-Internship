{
 "cells": [
  {
   "cell_type": "markdown",
   "metadata": {},
   "source": [
    "# \"Cross-validation\" des modèles"
   ]
  },
  {
   "cell_type": "code",
   "execution_count": 1,
   "metadata": {},
   "outputs": [],
   "source": [
    "learning_rate = 0.04\n",
    "num_epochs = 1000\n",
    "N = 150\n",
    "N_cv = 40\n",
    "seed = 42\n",
    "batch_size = N//4\n",
    "batch_size = N//2\n",
    "batch_size = N\n",
    "\n",
    "N_test = 0\n",
    "N_test = 1000\n",
    "N_scan = 9"
   ]
  },
  {
   "cell_type": "code",
   "execution_count": 2,
   "metadata": {},
   "outputs": [],
   "source": [
    "import numpy as np\n",
    "import matplotlib.pyplot as plt"
   ]
  },
  {
   "cell_type": "markdown",
   "metadata": {},
   "source": [
    "## Creer des données synthetiques "
   ]
  },
  {
   "cell_type": "code",
   "execution_count": 3,
   "metadata": {},
   "outputs": [],
   "source": [
    "def get_data(\n",
    "            N = N,\n",
    "            p0 = 0.10,\n",
    "            theta0 = 0,\n",
    "            wt = np.pi/20,\n",
    "            theta_std = np.pi/4,\n",
    "            seed=seed):\n",
    "    np.random.seed(seed)\n",
    "    theta = np.random.randn(N)*theta_std\n",
    "    \n",
    "    a = (theta-theta0)/wt\n",
    "    p = 1/(1+np.exp(-a))\n",
    "    p = p0/2 + (1-p0) * p\n",
    "    \n",
    "    y = np.random.rand(N) < p\n",
    "    return theta, p, y\n"
   ]
  },
  {
   "cell_type": "code",
   "execution_count": 4,
   "metadata": {},
   "outputs": [],
   "source": [
    "import torch\n",
    "from torch.utils.data import TensorDataset, DataLoader\n",
    "torch.set_default_tensor_type('torch.DoubleTensor')\n",
    "criterion = torch.nn.BCELoss()\n",
    "\n",
    "class LogisticRegressionModel(torch.nn.Module):\n",
    "    def __init__(self, bias=True, logit0=-2):\n",
    "        super(LogisticRegressionModel, self).__init__()\n",
    "        self.linear = torch.nn.Linear(1, 1, bias=bias)    \n",
    "        self.logit0 = torch.nn.Parameter(logit0*torch.ones(1))\n",
    "\n",
    "    def forward(self, theta):\n",
    "        #out = torch.sigmoid(self.logit0)/2 + (1-torch.sigmoid(self.logit0))*torch.sigmoid(self.linear(theta))\n",
    "        out = self.logit0.sigmoid()/2 + (1-self.logit0.sigmoid())*self.linear(theta).sigmoid()\n",
    "        return out\n",
    "\n",
    "def fit_data(theta, y, \n",
    "                learning_rate =learning_rate,\n",
    "                num_epochs = num_epochs,\n",
    "                batch_size = batch_size,\n",
    "                verbose=False):\n",
    "\n",
    "    logistic_model = LogisticRegressionModel()\n",
    "\n",
    "    labels = torch.Tensor(y[:, None])\n",
    "    Theta = torch.Tensor(theta[:, None])\n",
    "\n",
    "    loader = DataLoader(TensorDataset(Theta, labels), batch_size=batch_size, shuffle=True)\n",
    "    optimizer = torch.optim.Adam(logistic_model.parameters(), lr=learning_rate/len(loader))\n",
    "    \n",
    "    for epoch in range(int(num_epochs)):\n",
    "        losses = []\n",
    "        for Theta_, labels_ in loader:\n",
    "            optimizer.zero_grad()\n",
    "            outputs = logistic_model(Theta_)\n",
    "            loss = criterion(outputs, labels_)\n",
    "            loss.backward()\n",
    "            optimizer.step()\n",
    "            losses.append(loss.item())\n",
    "        \n",
    "        if verbose and (epoch % (num_epochs//32) == 0) : \n",
    "            print(f\"Iteration: {epoch} - Loss: {np.mean(losses):.5f}\")\n",
    "\n",
    "    logistic_model.eval()\n",
    "    return logistic_model, np.mean(losses)"
   ]
  },
  {
   "cell_type": "code",
   "execution_count": 5,
   "metadata": {},
   "outputs": [
    {
     "data": {
      "text/plain": [
       "tensor([0.0474])"
      ]
     },
     "execution_count": 5,
     "metadata": {},
     "output_type": "execute_result"
    }
   ],
   "source": [
    "torch.sigmoid(torch.tensor([-3.]))"
   ]
  },
  {
   "cell_type": "code",
   "execution_count": 6,
   "metadata": {},
   "outputs": [
    {
     "name": "stdout",
     "output_type": "stream",
     "text": [
      "19.1 µs ± 120 ns per loop (mean ± std. dev. of 7 runs, 100000 loops each)\n"
     ]
    }
   ],
   "source": [
    "%%timeit\n",
    "theta, p, y = get_data()"
   ]
  },
  {
   "cell_type": "code",
   "execution_count": 7,
   "metadata": {},
   "outputs": [
    {
     "name": "stdout",
     "output_type": "stream",
     "text": [
      "Iteration: 0 - Loss: 0.58022\n",
      "Iteration: 31 - Loss: 0.42548\n",
      "Iteration: 62 - Loss: 0.38906\n",
      "Iteration: 93 - Loss: 0.37859\n",
      "Iteration: 124 - Loss: 0.37502\n",
      "Iteration: 155 - Loss: 0.37371\n",
      "Iteration: 186 - Loss: 0.37320\n",
      "Iteration: 217 - Loss: 0.37298\n",
      "Iteration: 248 - Loss: 0.37287\n",
      "Iteration: 279 - Loss: 0.37280\n",
      "Iteration: 310 - Loss: 0.37274\n",
      "Iteration: 341 - Loss: 0.37270\n",
      "Iteration: 372 - Loss: 0.37267\n",
      "Iteration: 403 - Loss: 0.37264\n",
      "Iteration: 434 - Loss: 0.37261\n",
      "Iteration: 465 - Loss: 0.37259\n",
      "Iteration: 496 - Loss: 0.37257\n",
      "Iteration: 527 - Loss: 0.37256\n",
      "Iteration: 558 - Loss: 0.37254\n",
      "Iteration: 589 - Loss: 0.37253\n",
      "Iteration: 620 - Loss: 0.37252\n",
      "Iteration: 651 - Loss: 0.37251\n",
      "Iteration: 682 - Loss: 0.37250\n",
      "Iteration: 713 - Loss: 0.37249\n",
      "Iteration: 744 - Loss: 0.37249\n",
      "Iteration: 775 - Loss: 0.37248\n",
      "Iteration: 806 - Loss: 0.37247\n",
      "Iteration: 837 - Loss: 0.37247\n",
      "Iteration: 868 - Loss: 0.37246\n",
      "Iteration: 899 - Loss: 0.37246\n",
      "Iteration: 930 - Loss: 0.37246\n",
      "Iteration: 961 - Loss: 0.37245\n",
      "Iteration: 992 - Loss: 0.37245\n"
     ]
    }
   ],
   "source": [
    "theta, p, y = get_data()\n",
    "logistic_model, loss = fit_data(theta, y, verbose=True)"
   ]
  },
  {
   "cell_type": "code",
   "execution_count": 8,
   "metadata": {},
   "outputs": [
    {
     "name": "stdout",
     "output_type": "stream",
     "text": [
      "bias 0.580264765287164\n",
      "slope 3.9117732528092715\n",
      "p0 0.0004805377570908977\n"
     ]
    }
   ],
   "source": [
    "with torch.no_grad():\n",
    "    print('bias', logistic_model.linear.bias.item())\n",
    "    print('slope', logistic_model.linear.weight.item())    \n",
    "    print('p0', torch.sigmoid(logistic_model.logit0).item())    "
   ]
  },
  {
   "cell_type": "code",
   "execution_count": 9,
   "metadata": {},
   "outputs": [
    {
     "name": "stdout",
     "output_type": "stream",
     "text": [
      "loss= 0.37244695751642404\n"
     ]
    },
    {
     "data": {
      "image/png": "[encoded data removed]",
      "text/plain": [
       "<Figure size 576x432 with 1 Axes>"
      ]
     },
     "metadata": {
      "needs_background": "light"
     },
     "output_type": "display_data"
    }
   ],
   "source": [
    "print('loss=', loss)\n",
    "plt.figure(figsize = (8,6)) \n",
    "plt.scatter(theta, p, s=4, color = 'r', label='proba cachées')\n",
    "plt.scatter(theta, y, s=1, alpha=.3, color = 'b', label='données')\n",
    "x_values = np.linspace(-1.5, 1.50, 100)[:, None]\n",
    "y_values = logistic_model(torch.Tensor(x_values)).detach().numpy()\n",
    "plt.plot(x_values, y_values, 'g', alpha=.7, lw=3, label='proba prédites')\n",
    "plt.xlabel(r'$\\theta$')\n",
    "plt.yticks([0.,1.],['Left', 'Right']);\n",
    "plt.legend();\n"
   ]
  },
  {
   "cell_type": "code",
   "execution_count": 10,
   "metadata": {},
   "outputs": [
    {
     "name": "stdout",
     "output_type": "stream",
     "text": [
      "1.53 s ± 8.49 ms per loop (mean ± std. dev. of 7 runs, 1 loop each)\n"
     ]
    }
   ],
   "source": [
    "%%timeit\n",
    "logistic_model, loss = fit_data(theta, y, verbose=False)"
   ]
  },
  {
   "cell_type": "markdown",
   "metadata": {},
   "source": [
    "## validation"
   ]
  },
  {
   "cell_type": "code",
   "execution_count": 11,
   "metadata": {},
   "outputs": [
    {
     "name": "stdout",
     "output_type": "stream",
     "text": [
      "loss= tensor(0.3724, grad_fn=<BinaryCrossEntropyBackward>)\n"
     ]
    },
    {
     "data": {
      "image/png": "[encoded data removed]",
      "text/plain": [
       "<Figure size 576x432 with 1 Axes>"
      ]
     },
     "metadata": {
      "needs_background": "light"
     },
     "output_type": "display_data"
    }
   ],
   "source": [
    "theta, p, y = get_data() # nouvelles données \n",
    "\n",
    "labels = torch.Tensor(y[:, None])\n",
    "Theta = torch.Tensor(theta[:, None])\n",
    "outputs = logistic_model(Theta)\n",
    "loss = criterion(outputs, labels)\n",
    "print('loss=', loss)\n",
    "plt.figure(figsize = (8,6)) \n",
    "plt.scatter(theta, p, s=4, color = 'r', label='proba cachées')\n",
    "plt.scatter(theta, y, s=1, alpha=.3, color = 'b', label='données')\n",
    "x_values = np.linspace(-1.5, 1.50, 100)[:, None]\n",
    "y_values = logistic_model(torch.Tensor(x_values)).detach().numpy()\n",
    "plt.plot(x_values, y_values, 'g', alpha=.7, lw=3, label='proba prédites')\n",
    "plt.xlabel(r'$\\theta$')\n",
    "plt.yticks([0.,1.],['Left', 'Right']);\n",
    "plt.legend();"
   ]
  },
  {
   "cell_type": "markdown",
   "metadata": {},
   "source": [
    "## influence du nombre de trials"
   ]
  },
  {
   "cell_type": "code",
   "execution_count": null,
   "metadata": {},
   "outputs": [
    {
     "name": "stdout",
     "output_type": "stream",
     "text": [
      "N: 10, Loss: 0.55146, loss_P: 0.57613, loss_P0: 0.36166\n",
      "N: 17, Loss: 0.38278, loss_P: 0.39468, loss_P0: 0.36166\n",
      "N: 31, Loss: 0.36538, loss_P: 0.37942, loss_P0: 0.36166\n"
     ]
    }
   ],
   "source": [
    "Ns = np.logspace(1, 3, N_scan, base=10)\n",
    "Ns_, losses, loss_Ps, loss_P0s = [], [], [], []\n",
    "for N_ in Ns:\n",
    "    for i_CV in range(N_cv):\n",
    "        theta, p, y = get_data(N=int(N_), seed=seed+i_CV)\n",
    "        logistic_model, loss = fit_data(theta, y, verbose=False)\n",
    "        \n",
    "        if N_test>0: theta, p, y = get_data(N=N_test) # nouvelles données \n",
    "        labels = torch.Tensor(y[:, None])\n",
    "        Theta = torch.Tensor(theta[:, None])\n",
    "        P = torch.Tensor(p[:, None])\n",
    "        \n",
    "        outputs = logistic_model(Theta)\n",
    "        loss = criterion(outputs, labels).item()\n",
    "        \n",
    "        loss_P = criterion(outputs, P).item() \n",
    "        loss_P0 = criterion(P, P).item()\n",
    "        if i_CV==0: print(f\"N: {int(N_)}, Loss: {loss:.5f}, loss_P: {loss_P:.5f}, loss_P0: {loss_P0:.5f}\")\n",
    "        loss_P0s.append(loss_P0)\n",
    "        Ns_.append(N_)\n",
    "        loss_Ps.append(loss_P)\n",
    "        losses.append(loss)"
   ]
  },
  {
   "cell_type": "code",
   "execution_count": null,
   "metadata": {},
   "outputs": [],
   "source": [
    "fig, ax = plt.subplots(figsize = (15, 8)) \n",
    "ax.scatter(Ns_, losses, alpha=3/N_cv, label='loss')\n",
    "ax.scatter(Ns_, loss_Ps, alpha=3/N_cv, label='loss_P')\n",
    "ax.plot(Ns_, loss_P0s, label='loss_P0')\n",
    "\n",
    "ax.set_xlabel(' # trials')\n",
    "ax.set_ylabel(' Loss ')\n",
    "ax.set_xscale('log')"
   ]
  },
  {
   "cell_type": "markdown",
   "metadata": {},
   "source": [
    "## influence du nombre du learning rate\n"
   ]
  },
  {
   "cell_type": "code",
   "execution_count": null,
   "metadata": {},
   "outputs": [],
   "source": [
    "learning_rates = learning_rate * np.logspace(-1, 1, N_scan, base=10)\n",
    "learning_rates_, losses, loss_Ps, loss_P0s = [], [], [], []\n",
    "for learning_rate_ in learning_rates:\n",
    "    for i_CV in range(N_cv):\n",
    "        theta, p, y = get_data(seed=seed+i_CV)\n",
    "        logistic_model, loss = fit_data(theta, y, learning_rate=learning_rate_, verbose=False)\n",
    "\n",
    "        if N_test>0: theta, p, y = get_data(N=N_test) # nouvelles données \n",
    "        labels = torch.Tensor(y[:, None])\n",
    "        Theta = torch.Tensor(theta[:, None])\n",
    "        outputs = logistic_model(Theta)\n",
    "\n",
    "        loss = criterion(outputs, labels).item()\n",
    "        loss_P = criterion(outputs, torch.Tensor(p[:, None])).item()\n",
    "        loss_P0 = criterion(torch.Tensor(p[:, None]), torch.Tensor(p[:, None])).item()\n",
    "        if i_CV==0: \n",
    "            print(f\"learning_rate: {learning_rate_:.5f}, Loss: {loss:.5f}, loss_P: {loss_P:.5f}, loss_P0: {loss_P0:.5f}\")\n",
    "        learning_rates_.append(learning_rate_)\n",
    "        loss_P0s.append(loss_P0)\n",
    "        loss_Ps.append(loss_P)\n",
    "        losses.append(loss)"
   ]
  },
  {
   "cell_type": "code",
   "execution_count": null,
   "metadata": {},
   "outputs": [],
   "source": [
    "fig, ax = plt.subplots(figsize = (15, 8)) \n",
    "ax.scatter(learning_rates_, losses, alpha=3/N_cv, label='loss')\n",
    "ax.scatter(learning_rates_, loss_Ps, alpha=3/N_cv, label='loss_P')\n",
    "ax.plot(learning_rates_, loss_P0s, label='loss_P0')\n",
    "ax.set_xlim(np.min(learning_rates_), np.max(learning_rates_))\n",
    "\n",
    "ax.set_xlabel('learning_rate')\n",
    "ax.set_ylabel(' Loss ')\n",
    "ax.set_xscale('log')\n",
    "ax.legend(loc='best');"
   ]
  },
  {
   "cell_type": "markdown",
   "metadata": {},
   "source": [
    "## influence du nombre d'epochs"
   ]
  },
  {
   "cell_type": "code",
   "execution_count": null,
   "metadata": {},
   "outputs": [],
   "source": [
    "num_epochss = num_epochs * np.logspace(-1, 1, N_scan, base=10)\n",
    "num_epochss_, losses, loss_Ps, loss_P0s = [], [], [], []\n",
    "for num_epochs_ in num_epochss:\n",
    "    for i_CV in range(N_cv):\n",
    "        theta, p, y = get_data(seed=seed+i_CV)\n",
    "        logistic_model, loss = fit_data(theta, y, num_epochs=int(num_epochs_), verbose=False)\n",
    "        \n",
    "        if N_test>0: theta, p, y = get_data(N=N_test) # nouvelles données \n",
    "        labels = torch.Tensor(y[:, None])\n",
    "        Theta = torch.Tensor(theta[:, None])\n",
    "        outputs = logistic_model(Theta)\n",
    "\n",
    "        loss = criterion(outputs, labels).item()\n",
    "        loss_P = criterion(outputs, torch.Tensor(p[:, None])).item()\n",
    "        loss_P0 = criterion(torch.Tensor(p[:, None]), torch.Tensor(p[:, None])).item()\n",
    "        if i_CV==0: \n",
    "            print(f\"num_epochs: {int(num_epochs_)}, Loss: {loss:.5f}, loss_P: {loss_P:.5f}, loss_P0: {loss_P0:.5f}\")\n",
    "        num_epochss_.append(num_epochs_)\n",
    "        loss_P0s.append(loss_P0)\n",
    "        loss_Ps.append(loss_P)\n",
    "        losses.append(loss)"
   ]
  },
  {
   "cell_type": "code",
   "execution_count": null,
   "metadata": {},
   "outputs": [],
   "source": [
    "fig, ax = plt.subplots(figsize = (15, 8)) \n",
    "ax.scatter(num_epochss_, losses, alpha=3/N_cv, label='loss')\n",
    "ax.scatter(num_epochss_, loss_Ps, alpha=3/N_cv, label='loss_P')\n",
    "ax.plot(num_epochss_, loss_P0s, label='loss_P0')\n",
    "\n",
    "ax.set_xlabel(' # epochss')\n",
    "ax.set_ylabel(' Loss ')\n",
    "ax.set_xscale('log')\n",
    "ax.legend(loc='best');"
   ]
  },
  {
   "cell_type": "markdown",
   "metadata": {},
   "source": [
    "## influence de la taille du minibatch"
   ]
  },
  {
   "cell_type": "code",
   "execution_count": null,
   "metadata": {},
   "outputs": [],
   "source": [
    "batch_sizes = N * np.logspace(-3, 0, N_scan, base=2)\n",
    "batch_sizes_, losses, loss_Ps, loss_P0s = [], [], [], []\n",
    "for batch_size_ in batch_sizes:\n",
    "    for i_CV in range(N_cv):\n",
    "        theta, p, y = get_data(seed=seed+i_CV)\n",
    "        logistic_model, loss = fit_data(theta, y, batch_size=int(batch_size_), verbose=False)\n",
    "        \n",
    "        if N_test>0: theta, p, y = get_data(N=N_test) # nouvelles données \n",
    "        labels = torch.Tensor(y[:, None])\n",
    "        Theta = torch.Tensor(theta[:, None])\n",
    "        outputs = logistic_model(Theta)\n",
    "\n",
    "        loss = criterion(outputs, labels).item()\n",
    "        loss_P = criterion(outputs, torch.Tensor(p[:, None])).item()\n",
    "        loss_P0 = criterion(torch.Tensor(p[:, None]), torch.Tensor(p[:, None])).item()\n",
    "        if i_CV==0: \n",
    "            print(f\"batch_size: {int(batch_size_)}, Loss: {loss:.5f}, loss_P: {loss_P:.5f}, loss_P0: {loss_P0:.5f}\")\n",
    "        batch_sizes_.append(batch_size_)\n",
    "        loss_P0s.append(loss_P0)\n",
    "        loss_Ps.append(loss_P)\n",
    "        losses.append(loss)"
   ]
  },
  {
   "cell_type": "code",
   "execution_count": null,
   "metadata": {},
   "outputs": [],
   "source": [
    "fig, ax = plt.subplots(figsize = (15, 8)) \n",
    "ax.scatter(batch_sizes_, losses, alpha=3/N_cv, label='loss')\n",
    "ax.scatter(batch_sizes_, loss_Ps, alpha=3/N_cv, label='loss_P')\n",
    "ax.plot(batch_sizes_, loss_P0s, label='loss_P0')\n",
    "\n",
    "ax.set_xlabel(' batch_size')\n",
    "ax.set_ylabel(' Loss ')\n",
    "ax.set_xscale('log')\n",
    "ax.legend(loc='best');"
   ]
  }
 ],
 "metadata": {
  "kernelspec": {
   "display_name": "Python 3",
   "language": "python",
   "name": "python3"
  },
  "language_info": {
   "codemirror_mode": {
    "name": "ipython",
    "version": 3
   },
   "file_extension": ".py",
   "mimetype": "text/x-python",
   "name": "python",
   "nbconvert_exporter": "python",
   "pygments_lexer": "ipython3",
   "version": "3.7.6"
  },
  "nteract": {
   "version": "0.21.0"
  }
 },
 "nbformat": 4,
 "nbformat_minor": 4
}
